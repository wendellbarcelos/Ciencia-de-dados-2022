{
 "cells": [
  {
   "cell_type": "code",
   "execution_count": null,
   "metadata": {
    "id": "a94iHZYv0chl"
   },
   "outputs": [],
   "source": [
    "Exercicios de Python Let's Code Basic"
   ]
  },
  {
   "cell_type": "code",
   "execution_count": 2,
   "metadata": {
    "id": "w_mYZc2j0WSC"
   },
   "outputs": [
    {
     "name": "stdin",
     "output_type": "stream",
     "text": [
      "Digite o valor:  500\n"
     ]
    },
    {
     "name": "stdout",
     "output_type": "stream",
     "text": [
      "O novo valor é 75.00\n"
     ]
    }
   ],
   "source": [
    "## Faça um programa que peça um valor monetário e diminua-o em 15%. Seu programa \n",
    "## deve imprimir a mensagem “O novo valor é [valor]”.\n",
    "\n",
    "valor = float(input('Digite o valor: '))\n",
    "\n",
    "novo_val = valor * 0.15\n",
    "\n",
    "print(f'O novo valor é {novo_val:.2f}') "
   ]
  },
  {
   "cell_type": "code",
   "execution_count": null,
   "metadata": {
    "colab": {
     "base_uri": "https://localhost:8080/"
    },
    "id": "vapPLIirDZpN",
    "outputId": "c5aa70df-08da-459c-e8e2-9de0c0fcece6"
   },
   "outputs": [
    {
     "name": "stdout",
     "output_type": "stream",
     "text": [
      "Digite o valor da corrida: 14.0\n",
      "Aguarde o valor pode abaixar\n"
     ]
    }
   ],
   "source": [
    "#Criando um algoritmo usando if (simulação de corrida x onibus)\n",
    "\n",
    "valor_passagem =  4.30\n",
    "\n",
    "valor_corrida = float(input('Digite o valor da corrida: '))\n",
    "\n",
    "if valor_corrida <= valor_passagem * 3:\n",
    "  print('Pague a corrida')\n",
    "elif valor_corrida <= valor_passagem * 4:\n",
    "  print('Aguarde o valor pode abaixar')\n",
    "else:\n",
    "  print('Vai de onibus')"
   ]
  },
  {
   "cell_type": "code",
   "execution_count": null,
   "metadata": {
    "colab": {
     "base_uri": "https://localhost:8080/"
    },
    "id": "BXumjkQ2D376",
    "outputId": "93571a0c-2b85-4bbe-f9e6-420279c225ec"
   },
   "outputs": [
    {
     "name": "stdout",
     "output_type": "stream",
     "text": [
      "Digite um numero: 10\n",
      "0\n",
      "1\n",
      "2\n",
      "3\n",
      "4\n",
      "5\n",
      "6\n",
      "7\n",
      "8\n",
      "9\n"
     ]
    }
   ],
   "source": [
    "#Exe Contador\n",
    "contador = 0\n",
    "#Definindo o numero de repetição\n",
    "numero = int(input('Digite um numero: '))\n",
    "#Rodando a estrutura de repetição\n",
    "while contador < numero:\n",
    "  print(contador)\n",
    "  contador += 1"
   ]
  },
  {
   "cell_type": "code",
   "execution_count": null,
   "metadata": {
    "colab": {
     "base_uri": "https://localhost:8080/"
    },
    "id": "e1of3luQGPcb",
    "outputId": "fffa7dc2-beed-4526-f5e5-904a4154115e"
   },
   "outputs": [
    {
     "name": "stdout",
     "output_type": "stream",
     "text": [
      "Criar senha: 94563381\n",
      "Senha criada com sucesso\n"
     ]
    }
   ],
   "source": [
    "# Exe While (sistema de senhas)\n",
    "\n",
    "senha = input('Criar senha: ')\n",
    "print('Senha criada com sucesso')"
   ]
  },
  {
   "cell_type": "code",
   "execution_count": null,
   "metadata": {
    "colab": {
     "base_uri": "https://localhost:8080/"
    },
    "id": "z8xNW5ubIJxh",
    "outputId": "8de78539-7332-4ac5-bf1c-4d18a1bd23f0"
   },
   "outputs": [
    {
     "name": "stdout",
     "output_type": "stream",
     "text": [
      "Digite sua senha: wendell\n",
      "Senha invalida. Tente novamente958662\n",
      "Senha invalida. Tente novamente9456338\n",
      "Senha invalida. Tente novamente94563381\n",
      "Acesso permitido\n"
     ]
    }
   ],
   "source": [
    "dig_senha = input('Digite sua senha: ')\n",
    "\n",
    "while senha != dig_senha:\n",
    "    dig_senha = input('Senha invalida. Tente novamente: ')\n",
    "\n",
    "print('Acesso permitido')"
   ]
  },
  {
   "cell_type": "code",
   "execution_count": null,
   "metadata": {
    "id": "N4fh_7okKyk4"
   },
   "outputs": [],
   "source": [
    "## Sistema de cadastro\n",
    "## Cadastre os valores no banco de dados\n"
   ]
  },
  {
   "cell_type": "code",
   "execution_count": null,
   "metadata": {
    "colab": {
     "base_uri": "https://localhost:8080/"
    },
    "id": "SsQN0EN90iiw",
    "outputId": "e8952215-1b2d-44ec-e466-dcfd008d26da"
   },
   "outputs": [
    {
     "name": "stdout",
     "output_type": "stream",
     "text": [
      "Digite sua idade: 180\n",
      "Idade invalida\n",
      "Digite seu salário: 0\n",
      "Salário invalido\n",
      "Sexo M | F: a\n",
      "Sexo invalido\n",
      "Dados cadastro com sucesso\n"
     ]
    }
   ],
   "source": [
    "\"\"\"Faça um programa que leia a validade das informações:\n",
    "a. Idade: entre 0 e 150;\n",
    "b. Salário: maior que 0;\n",
    "c. Sexo: M, F ou Outro;\n",
    "O programa deve imprimir uma mensagem de erro para cada informação inválida.\"\"\"\n",
    "\n",
    "idade = int(input('Digite sua idade: '))\n",
    "\n",
    "if idade > 0 and idade < 100:\n",
    "    print('Idade cadastrada')\n",
    "else:\n",
    "    print('Idade invalida')\n",
    "\n",
    "salario = float(input('Digite seu salário: '))\n",
    "\n",
    "if salario > 0:\n",
    "    print('Salário cadastrado')\n",
    "else:\n",
    "    print('Salário invalido')\n",
    "\n",
    "sexo = input('Sexo M | F: ')\n",
    "\n",
    "if sexo != 'M' and sexo != 'F':\n",
    "    print('Sexo invalido')\n",
    "else:\n",
    "    print('Sexo cadastrado')\n",
    "\n",
    "print('Dados cadastro com sucesso')\n",
    "\n"
   ]
  },
  {
   "cell_type": "code",
   "execution_count": null,
   "metadata": {
    "id": "UvwYS_hLGvXf"
   },
   "outputs": [],
   "source": [
    "\"\"\"Vamos fazer um programa para verificar quem é o assassino de um crime.\n",
    "Para descobrir o assassino, a polícia faz um pequeno questionário com 5\n",
    "perguntas onde a resposta só pode ser sim ou não:\n",
    "\n",
    "a. Mora perto da vítima?\n",
    "b. Já trabalhou com a vítima?\n",
    "c. Telefonou para a vítima?\n",
    "d. Esteve no local do crime?\n",
    "e. Devia para a vítima?\n",
    "\n",
    "Cada resposta sim dá um ponto para o suspeito. A polícia considera que os\n",
    "suspeitos com 5 pontos são os assassinos, com 4 a 3 pontos são cúmplices e\n",
    "2 pontos são apenas suspeitos, necessitando outras investigações. Valores\n",
    "iguais ou abaixo de 1 são liberados.\"\"\"\n",
    "\n"
   ]
  },
  {
   "cell_type": "code",
   "execution_count": null,
   "metadata": {
    "id": "0_hw_DZLGvMy"
   },
   "outputs": [],
   "source": [
    "\"\"\"Faça um programa que imprima a tabuada do 9 (de 9*1 a 9*10) usando loops.\"\"\"\n",
    "\n"
   ]
  },
  {
   "cell_type": "code",
   "execution_count": null,
   "metadata": {
    "colab": {
     "base_uri": "https://localhost:8080/"
    },
    "id": "Me-yBd1kGu9q",
    "outputId": "5713460f-8e57-40e7-b36c-05ee52fc8b6c"
   },
   "outputs": [
    {
     "name": "stdout",
     "output_type": "stream",
     "text": [
      "Digite o valor do salario: 2310\n",
      "Digite o valor gasto mensal em média: 850\n",
      "Sua renda anual foi de R$27720.00 reais\n",
      "Seus gastos anual foi de R$10200.00 reais\n",
      "Seu lucro anual foi de R$17520.00 reais\n"
     ]
    }
   ],
   "source": [
    "\"\"\"\n",
    "salario_mensal = float(input('Digite o valor do salario: '))\n",
    "gastos_mensal = float(input('Digite o valor gasto mensal em média: '))\n",
    "\n",
    "tot_salario =  salario_mensal * 12\n",
    "tot_gastos = gastos_mensal * 12\n",
    "\n",
    "lucro = tot_salario - tot_gastos\n",
    "\n",
    "print(f'Sua renda anual foi de R${tot_salario:.2f} reais')\n",
    "print(f'Seus gastos anual foi de R${tot_gastos:.2f} reais')\n",
    "print(f'Seu lucro anual foi de R${lucro:.2f} reais')\n",
    "\"\"\""
   ]
  },
  {
   "cell_type": "code",
   "execution_count": null,
   "metadata": {
    "id": "a4Ud0oEg2G39"
   },
   "outputs": [],
   "source": [
    "\"\"\"Faça um Programa que peça as 4 notas bimestrais e mostre a média.\"\"\"\n"
   ]
  },
  {
   "cell_type": "code",
   "execution_count": null,
   "metadata": {
    "colab": {
     "base_uri": "https://localhost:8080/"
    },
    "id": "z0w0tocQeD55",
    "outputId": "274ae12c-1c52-44f4-cc55-5d97997b663d"
   },
   "outputs": [
    {
     "name": "stdout",
     "output_type": "stream",
     "text": [
      "Sigite seu nome: jose\n",
      "Digite sua idade: 20\n",
      "Tem sintomas do Covid: sim\n",
      "O paciênte jose pode esperar na sala comum\n"
     ]
    }
   ],
   "source": [
    "nome = input('Digite seu nome: ')\n",
    "idade = int(input('Digite sua idade: '))\n",
    "covid = input('Tem sintomas do Covid: ').upper()\n",
    "\n",
    "if idade >= 65:\n",
    "    print(f'O paciênte {nome} possui atendimento prioritário')\n",
    "elif covid == 'SIM':\n",
    "    print(f'O paciênte {nome} deve ser levado para a sala reservada')\n",
    "else:\n",
    "    print(f'O paciênte {nome} pode esperar na sala comum')"
   ]
  },
  {
   "cell_type": "code",
   "execution_count": null,
   "metadata": {
    "colab": {
     "background_save": true,
     "base_uri": "https://localhost:8080/"
    },
    "id": "vzyPb2S3Tke1",
    "outputId": "6c08947c-9660-4534-8bf6-ff127c42f3ac"
   },
   "outputs": [
    {
     "name": "stdout",
     "output_type": "stream",
     "text": [
      "Compre sua tinta na SUPER TINTAS\n",
      "\n"
     ]
    }
   ],
   "source": [
    "\"\"\"\n",
    "Faça um programa para uma loja de tintas.\n",
    "\n",
    "O programa deverá pedir  tamanho em metros quadrados da área a ser pintada.\n",
    "Considere que a cobertudra da tinta é de 1 litro para cada 3 metros quadrados\n",
    "e que a tinta é vendida em latas de 18 litros , que custam R$ 80,00.\n",
    "\n",
    "Informe ao usuário a quantidades de latas de tinta a serem compradas e o preço total.\n",
    "\"\"\"\n",
    "\n",
    "#********************SUPER TINTAS************************\n",
    "\n",
    "print('Compre sua tinta na SUPER TINTAS\\n')\n",
    "area = int(input('Digite a área a ser pintada: '))\n",
    "\n",
    "litro = area // 3\n",
    "if area % 3 > 0:\n",
    "    litro = litro + 1\n",
    "\n",
    "latas = litro // 18\n",
    "if litro % 18 > 0:\n",
    "    latas = latas + 1\n",
    "\n",
    "print(\"você precisara de\",latas,'latas')\n",
    "print('Valor:',latas*80)\n"
   ]
  },
  {
   "cell_type": "code",
   "execution_count": null,
   "metadata": {
    "colab": {
     "base_uri": "https://localhost:8080/"
    },
    "id": "rOE-3TGNrdEu",
    "outputId": "0cdccbad-94ef-4fac-8b0c-b91b818e3e0c"
   },
   "outputs": [
    {
     "name": "stdout",
     "output_type": "stream",
     "text": [
      "Digite um número: 90\n",
      "90\n",
      "91\n",
      "92\n",
      "93\n",
      "94\n",
      "95\n",
      "96\n",
      "97\n",
      "98\n",
      "99\n",
      "100\n"
     ]
    }
   ],
   "source": [
    "\"\"\"Contator\"\"\"\n",
    "\n",
    "numero = int(input('Digite um número: '))\n",
    "while numero <= 100:\n",
    "    print(numero)\n",
    "    numero += 1\n"
   ]
  },
  {
   "cell_type": "code",
   "execution_count": null,
   "metadata": {
    "colab": {
     "base_uri": "https://localhost:8080/"
    },
    "id": "aYQCU4EgwTGd",
    "outputId": "5be11a8d-c48b-4e5a-8adc-536a399b1578"
   },
   "outputs": [
    {
     "name": "stdout",
     "output_type": "stream",
     "text": [
      "Digite o numero da tabuada: 5\n",
      "5 x 1 = 5\n",
      "5 x 2 = 10\n",
      "5 x 3 = 15\n",
      "5 x 4 = 20\n",
      "5 x 5 = 25\n",
      "5 x 6 = 30\n",
      "5 x 7 = 35\n",
      "5 x 8 = 40\n",
      "5 x 9 = 45\n",
      "5 x 10 = 50\n"
     ]
    }
   ],
   "source": [
    "#Tabuada\n",
    "\n",
    "tabuada = int(input('Digite o numero da tabuada: '))\n",
    "\n",
    "for x in range(1,11,1):\n",
    "    print(f'{tabuada} x {x} = {tabuada*x}')"
   ]
  },
  {
   "cell_type": "code",
   "execution_count": null,
   "metadata": {
    "id": "FvJZFEiUO_HT"
   },
   "outputs": [],
   "source": [
    "import os #Biblioteca para uso do cls"
   ]
  },
  {
   "cell_type": "code",
   "execution_count": null,
   "metadata": {
    "colab": {
     "base_uri": "https://localhost:8080/"
    },
    "id": "lkl16B6ByJ5l",
    "outputId": "c0f80903-e812-41cd-de13-bd97db3eb158"
   },
   "outputs": [
    {
     "name": "stdout",
     "output_type": "stream",
     "text": [
      "Equipamento: Notebook Dell\n",
      "Valor: 3599.99\n",
      "Nº serial: 54668225\n",
      "Departamento: Informatica\n",
      "Digite S para continuar: n\n"
     ]
    }
   ],
   "source": [
    "#USO DE LISTA SISTEMA DE INVENTARIO\n",
    "\n",
    "#Cadastro no inventario\n",
    "\n",
    "inventario =[]\n",
    "resposta ='S'\n",
    "while resposta == 'S':\n",
    "    inventario.append(input('Equipamento: '))\n",
    "    inventario.append(float(input('Valor: ')))\n",
    "    inventario.append(int(input('Nº serial: ')))\n",
    "    inventario.append(input('Departamento: '))\n",
    "    resposta = input('Digite S para continuar: ').upper()\n",
    "    os.system('clear') or None\n"
   ]
  },
  {
   "cell_type": "code",
   "execution_count": null,
   "metadata": {
    "colab": {
     "base_uri": "https://localhost:8080/"
    },
    "id": "ut9skfJwa6ep",
    "outputId": "98ca961e-240a-4584-8924-49cc44aa8db7"
   },
   "outputs": [
    {
     "name": "stdout",
     "output_type": "stream",
     "text": [
      "Notebook Dell\n",
      "3599.99\n",
      "54668225\n",
      "Informatica\n"
     ]
    }
   ],
   "source": [
    "for x in inventario:\n",
    "    print(x)"
   ]
  },
  {
   "cell_type": "code",
   "execution_count": null,
   "metadata": {
    "colab": {
     "base_uri": "https://localhost:8080/"
    },
    "id": "hnliHzQ5NkmN",
    "outputId": "7cac1666-fdff-4a08-ed6d-a9e3e8c5dcc7"
   },
   "outputs": [
    {
     "name": "stdout",
     "output_type": "stream",
     "text": [
      "Digite o 1º número: 542\n",
      "Digite o 2º número: 8852\n",
      "O maior número é 8852\n"
     ]
    }
   ],
   "source": [
    "#1- Faça um Programa que peça dois números e imprima o maior deles.\n",
    "\n",
    "n1 = int(input('Digite o 1º número: '))\n",
    "n2 = int(input('Digite o 2º número: '))\n",
    "\n",
    "if n1 > n2:\n",
    "    print(f'O maior número é {n1}')\n",
    "else:\n",
    "    print(f'O maior número é {n2}')"
   ]
  },
  {
   "cell_type": "code",
   "execution_count": null,
   "metadata": {
    "colab": {
     "base_uri": "https://localhost:8080/"
    },
    "id": "7aJdJjCrBsPf",
    "outputId": "f8392ddd-3011-4f7c-e80b-571e269b1de1"
   },
   "outputs": [
    {
     "name": "stdout",
     "output_type": "stream",
     "text": [
      "Digite um numero: -44\n",
      "O numero -44 é negativo\n"
     ]
    }
   ],
   "source": [
    "#2- Faça um Programa que peça um valor e mostre na tela se o valor é positivo ou negativo.\n",
    "\n",
    "x = int(input('Digite um numero: '))\n",
    "\n",
    "if x > 0:\n",
    "    print(f'O numero {x} é positivo')\n",
    "else:\n",
    "    print(f'O numero {x} é negativo')"
   ]
  },
  {
   "cell_type": "code",
   "execution_count": null,
   "metadata": {
    "colab": {
     "base_uri": "https://localhost:8080/"
    },
    "id": "qgpT_JIEBvuT",
    "outputId": "0477ea0d-e063-4b7d-c5ec-768f1b64480d"
   },
   "outputs": [
    {
     "name": "stdout",
     "output_type": "stream",
     "text": [
      "Digite o sexo: e\n",
      "Sexo invalido\n"
     ]
    }
   ],
   "source": [
    "#3 Faça um Programa que verifique se uma letra digitada é \"F\" ou \"M\". \n",
    "#Conforme a letra escrever: F - Feminino, M - Masculino, Sexo Inválido.\n",
    "\n",
    "sexo = input('Digite o sexo: ').upper()\n",
    "if sexo == 'F':\n",
    "    print('Feminino')\n",
    "elif sexo == 'M':\n",
    "    print('Masculino')\n",
    "else:\n",
    "    print('Sexo invalido')"
   ]
  },
  {
   "cell_type": "code",
   "execution_count": null,
   "metadata": {
    "id": "_6IpGdWtB2B8"
   },
   "outputs": [],
   "source": [
    "#4 Faça um Programa que verifique se uma letra digitada é vogal ou consoante.\n"
   ]
  },
  {
   "cell_type": "code",
   "execution_count": null,
   "metadata": {
    "id": "7vXDKPPjB5GN"
   },
   "outputs": [],
   "source": [
    "\"\"\"5 Faça um programa para a leitura de duas notas parciais de um aluno. \n",
    "O programa deve calcular a média alcançada por aluno e apresentar:\n",
    "\n",
    "    A mensagem \"Aprovado\", se a média alcançada for maior ou igual a sete;\n",
    "    A mensagem \"Reprovado\", se a média for menor do que sete;\n",
    "    A mensagem \"Aprovado com Distinção\", se a média for igual a dez. \"\"\"\n",
    "\n",
    "nota1 = float(input('1º Nota: '))\n",
    "nota2 = float(input('2º Nota: '))\n",
    "\n",
    "media = (nota1 + nota2) / 2\n",
    "if media >= 7:\n",
    "    print(f'Aprovado, média {media}')\n",
    "elif media < 7:\n",
    "    print(f'Reprovado, média {media}')\n",
    "elif media == 10:\n",
    "    print(f'Aprovado com distinção, média {media}')"
   ]
  },
  {
   "cell_type": "code",
   "execution_count": null,
   "metadata": {
    "id": "cWDm6HUyB-r-"
   },
   "outputs": [],
   "source": [
    "#6 Faça um Programa que leia três números e mostre o maior deles. \n",
    "\n",
    "n1 = int(input('Digite o 1º número: '))\n",
    "n2 = int(input('Digite o 2º número: '))\n",
    "n3 = int(input('Digite o 3º número: '))\n",
    "\n",
    "if n1 > n2 and n1 > n3:\n",
    "    print(f'O maior número é {n1}')\n",
    "if n2 > n1 and n2 > n3:\n",
    "    print(f'O maior número é {n2}')\n",
    "else:\n",
    "    print(f'O maior número é {n3}') "
   ]
  },
  {
   "cell_type": "code",
   "execution_count": null,
   "metadata": {
    "id": "U2wLxVF9k2w0"
   },
   "outputs": [],
   "source": [
    "#7 Faça um Programa que leia três números e mostre o maior e o menor deles.\n",
    "n1 = int(input('Digite o 1º número: '))\n",
    "n2 = int(input('Digite o 2º número: '))\n",
    "n3 = int(input('Digite o 3º número: '))\n",
    "\n",
    "if n1 > n2 and n1 > n3:\n",
    "    print(f'O maior número é {n1}')\n",
    "if n2 > n1 and n2 > n3:\n",
    "    print(f'O maior número é {n2}')\n",
    "else:\n",
    "    print(f'O maior número é {n3}')\n",
    "\n",
    "if n1 < n2 and n1 < n3:\n",
    "    print(f'O menor número é {n1}')\n",
    "if n2 < n1 and n2 < n3:\n",
    "    print(f'O menor número é {n2}')\n",
    "else:\n",
    "    print(f'O menor número é {n3}')"
   ]
  },
  {
   "cell_type": "code",
   "execution_count": null,
   "metadata": {
    "id": "YbFS43fNmADx"
   },
   "outputs": [],
   "source": [
    "#8 Faça um programa que pergunte o preço de três produtos e informe qual produto você deve comprar, sabendo que a decisão é sempre pelo mais barato.\n",
    "prd1 = float(input('Digite o valor do 1º produto: '))\n",
    "prd2 = float(input('Digite o valor do 2º produto: '))\n",
    "prd3 = float(input('Digite o valor do 3º produto: '))\n",
    "\n",
    "if prd1 < prd2 and prd1 < prd3:\n",
    "    print(f'O valor mais barato do produto é {prd1}')\n",
    "if prd2 < prd1 and prd2 < prd3:\n",
    "    print(f'O valor mais barato do produto é {prd2}')\n",
    "else:\n",
    "    print(f'O valor mais barato do produto é {prd3}')"
   ]
  },
  {
   "cell_type": "code",
   "execution_count": null,
   "metadata": {
    "id": "JeDYxCjfmB0J"
   },
   "outputs": [],
   "source": [
    "#9 Faça um Programa que leia três números e mostre-os em ordem decrescente.\n"
   ]
  },
  {
   "cell_type": "code",
   "execution_count": null,
   "metadata": {
    "id": "ydb_giM-mG75"
   },
   "outputs": [],
   "source": [
    "#10 Faça um Programa que pergunte em que turno você estuda. Peça para digitar M-matutino ou V-Vespertino ou N- Noturno. Imprima a mensagem \"Bom Dia!\", \"Boa Tarde!\" ou \"Boa Noite!\" ou \"Valor Inválido!\", conforme o caso.\n",
    "\n",
    "turno = input('Digite seu turno (\"M\"-Matutino, \"V\"-Vespertino, \"N\"-Noturno); ').upper()\n",
    "\n",
    "if turno == 'M':\n",
    "        print('Bom Dia!')\n",
    "elif turno == 'V':\\\n",
    "        print('Boa Tarde!')\n",
    "elif turno == 'N': \\\n",
    "        print('Boa Noite')\n",
    "else:\n",
    "        print('Valor invalido')\n",
    "\n"
   ]
  },
  {
   "cell_type": "code",
   "execution_count": null,
   "metadata": {
    "id": "baH7b6GHupXr"
   },
   "outputs": [],
   "source": [
    "\n",
    "'''11 As Organizações Tabajara resolveram dar um aumento de salário aos seus colaboradores e lhe contraram para desenvolver o programa que calculará os reajustes.\n",
    "\n",
    "    Faça um programa que recebe o salário de um colaborador e o reajuste segundo o seguinte critério, baseado no salário atual:\n",
    "    salários até R$ 280,00 (incluindo) : aumento de 20%\n",
    "    salários entre R$ 280,00 e R$ 700,00 : aumento de 15%\n",
    "    salários entre R$ 700,00 e R$ 1500,00 : aumento de 10%\n",
    "    salários de R$ 1500,00 em diante : aumento de 5% Após o aumento ser realizado, informe na tela:\n",
    "    o salário antes do reajuste;\n",
    "    o percentual de aumento aplicado;\n",
    "    o valor do aumento;\n",
    "    o novo salário, após o aumento. '''"
   ]
  },
  {
   "cell_type": "markdown",
   "metadata": {
    "id": "RoAxZHLBkntN"
   },
   "source": [
    "#Curso Python Basico - Ignorancia Zero"
   ]
  },
  {
   "cell_type": "code",
   "execution_count": null,
   "metadata": {
    "colab": {
     "base_uri": "https://localhost:8080/"
    },
    "id": "YV5WfcLukmGD",
    "outputId": "3b2ddd46-e201-404c-ef4a-454859ce4611"
   },
   "outputs": [
    {
     "name": "stdout",
     "output_type": "stream",
     "text": [
      "18\n"
     ]
    }
   ],
   "source": [
    "#Ex - Organize os numero 2,3,4,5,10,12 para obter a saida 18 em uma unica operação:\n",
    "\n",
    "x = 12*3\n",
    "x = x+4\n",
    "x = x//10\n",
    "x = x*5\n",
    "x = x-2\n",
    "#print(x) - Resultado 18\n",
    "\n",
    "x = (5*((4+(12*3))//10))-2\n",
    "print(x) ## Resultado em uma unica operação"
   ]
  },
  {
   "cell_type": "code",
   "execution_count": null,
   "metadata": {
    "colab": {
     "base_uri": "https://localhost:8080/"
    },
    "id": "rlP5kfSmlnLQ",
    "outputId": "4239a7d7-666d-4958-8e44-4463a91bcc99"
   },
   "outputs": [
    {
     "name": "stdout",
     "output_type": "stream",
     "text": [
      "Qual a sua idade? 22\n",
      "Hora de beber!\n"
     ]
    }
   ],
   "source": [
    "# Cndição IF/ELSE\n",
    "\n",
    "idade = int(input('Qual a sua idade? '))\n",
    "\n",
    "if idade >= 18:\n",
    "    print('Hora de beber!')\n",
    "else:\n",
    "    print('Pra você somente Toddynho!')"
   ]
  },
  {
   "cell_type": "code",
   "execution_count": null,
   "metadata": {
    "id": "3XZpSAVZmLat"
   },
   "outputs": [],
   "source": [
    "# EX 3\n",
    "'''O programa deverá pedir o tamanho em metros quadrados da área a ser pintada. Considere que a cobertura da tinta é de 1 litro para cada\n",
    "6 metros quadrados e que a tinta é vendida em latas de 18 litros, que custam R$ 80,00 ou em galões de 4 litros, que custam R$ 25,00'''\n",
    "\n",
    "'''Informe o usuário as quantidades de tinta a serem compradas e os respectivos preços em 3 situações: comprar apenas latas de 18 litros,\n",
    "comprar apenas galões de 4 litros, misturar latas e galões de forma que o preço seja menor'''\n",
    "\n",
    "area = int(input(\"Insira o valor da área: \"))\n",
    "\n",
    "# Vamos calcular o numero de litros necessários para pintar a casa\n",
    "litros = area // 6\n",
    "if area % 6 > 0:\n",
    "    litros = litros + 1\n",
    "\n",
    "print(\"Litros necessários:\", litros, \"\\n\")\n",
    "\n",
    "print(\"1) comprar apenas latas de 18 litros\")\n",
    "latas = litros // 18\n",
    "if litros % 18 > 0:\n",
    "    latas = latas + 1\n",
    "\n",
    "print(\"Serão necessárias\", latas, \"latas\")\n",
    "print(\"Obteremos\", latas * 18, \"litros\")\n",
    "print(\"Total: R$\", latas * 80)\n",
    "\n",
    "print(\"\\n2)Comprar apenas galões de 4 litros\")\n",
    "galoes = litros//4\n",
    "if litros % 4 > 0:\n",
    "    galoes = galoes + 1\n",
    "\n",
    "print(\"Serão necessárias\", galoes, \"galoes\")\n",
    "print(\"Obteremos\", galoes * 4, \"litros\")\n",
    "print(\"Total: R$\", galoes * 25)\n",
    "\n",
    "# Vamos pensar, o preço total por litro pago nas latas é 80/18 ~ 4.44 R$/L\n",
    "# enquanto que para o gualão é 25/4 ~ 6.25 R$/L\n",
    "# portanto é sempre mais vantajoso comprar o máximo de latas possíveis\n",
    "# e o mínimo de galões, desde que o preço desses galoes não ultrapasse o preço\n",
    "# de uma lata, isto é, o numero de galoes seja menor ou igual a 3 (R$ 75)\n",
    "print(\"\\n3)Misturar latas e galões, de forma que o preço seja o menor.\")\n",
    "latas = litros // 18\n",
    "galoes = 0\n",
    "litros_restantes = litros % 18\n",
    "\n",
    "if litros_restantes <= 3 * 4:\n",
    "    # Ou seja o numero de galoes necessarios seja menor do que três\n",
    "    galoes = litros_restantes // 4\n",
    "    if litros_restantes % 4 > 0:\n",
    "        galoes += 1\n",
    "else:\n",
    "    latas += 1\n",
    "\n",
    "print(\"Serão necessárias\", latas, \"latas\")\n",
    "print(\"Serão necessárias\", galoes, \"galoes\")\n",
    "print(\"Obteremos\", latas * 18 + galoes * 4, \"litros\")\n",
    "print(\"Total: R$\", galoes * 25 + latas * 80)"
   ]
  },
  {
   "cell_type": "code",
   "execution_count": null,
   "metadata": {
    "colab": {
     "base_uri": "https://localhost:8080/"
    },
    "id": "Z91YTEgdj9hA",
    "outputId": "40605b23-4492-4979-f414-3f70679fb1ed"
   },
   "outputs": [
    {
     "name": "stdout",
     "output_type": "stream",
     "text": [
      "Digite 1º numero: -5\n",
      "Digite 2º numero: 3\n",
      "O maior número é o 3\n"
     ]
    }
   ],
   "source": [
    "#EX 3.1 Faça um Programa que peça dois números e imprima o maior deles. \n",
    "\n",
    "n1 = int(input('Digite 1º numero: '))\n",
    "n2 = int(input('Digite 2º numero: '))\n",
    "\n",
    "if n1 > n2:\n",
    "    print(f'O maior número é o {n1}')\n",
    "else:\n",
    "    print(f'O maior número é o {n2}')"
   ]
  },
  {
   "cell_type": "code",
   "execution_count": null,
   "metadata": {
    "colab": {
     "base_uri": "https://localhost:8080/"
    },
    "id": "d6EsQ-r1j9SA",
    "outputId": "7f97e805-8d11-4239-c13b-7b7966aeab28"
   },
   "outputs": [
    {
     "name": "stdout",
     "output_type": "stream",
     "text": [
      "Digite 1º numero: 20\n",
      "20 é positivo\n"
     ]
    }
   ],
   "source": [
    "#EX 3.2 Faça um Programa que peça um valor e mostre na tela se o valor é positivo ou negativo.\n",
    "\n",
    "p1 = int(input('Digite 1º numero: '))\n",
    "\n",
    "if p1 > 0:\n",
    "    print(f'{p1} é positivo')\n",
    "else:\n",
    "    print(f'{p1} é negativo')"
   ]
  },
  {
   "cell_type": "code",
   "execution_count": null,
   "metadata": {
    "colab": {
     "base_uri": "https://localhost:8080/"
    },
    "id": "fsqzsdK_eVds",
    "outputId": "6cb62d80-2ab1-43f1-a315-5807ea217d1d"
   },
   "outputs": [
    {
     "name": "stdout",
     "output_type": "stream",
     "text": [
      "Sexo (F) / (M):F\n",
      "Feminino\n"
     ]
    }
   ],
   "source": [
    "#EX 3.3 Faça um Programa que verifique se uma letra digitada é \"F\" ou \"M\". Conforme a letra escrever: F - Feminino, M - Masculino, Sexo Inválido.\n",
    "\n",
    "sexo = input('Sexo (F) / (M):')\n",
    "\n",
    "if sexo == 'F':\n",
    "    print('Feminino')\n",
    "elif sexo == 'M':\n",
    "    print('Masculino')\n",
    "else:\n",
    "    print('Sexo Invalido')"
   ]
  },
  {
   "cell_type": "code",
   "execution_count": null,
   "metadata": {
    "colab": {
     "base_uri": "https://localhost:8080/"
    },
    "id": "kAnlXKnaf4S-",
    "outputId": "d1059a04-60b4-47db-c7e4-5c22dfaba487"
   },
   "outputs": [
    {
     "name": "stdout",
     "output_type": "stream",
     "text": [
      "Digite uma letra vogal ou consoante: A\n",
      "Vogal\n"
     ]
    }
   ],
   "source": [
    "#EX3.4 Faça um Programa que verifique se uma letra digitada é vogal ou consoante. \n",
    "\n",
    "vogal = input('Digite uma letra vogal ou consoante: ')\n",
    "\n",
    "if vogal == 'a' or vogal == 'A':\n",
    "    print('Vogal')\n",
    "elif vogal == 'e' or vogal == 'E':\n",
    "    print('Vogal')\n",
    "elif vogal == 'i' or vogal == 'I':\n",
    "    print('Vogal')\n",
    "elif vogal == 'o' or vogal == 'O':\n",
    "    print('Vogal')\n",
    "elif vogal == 'u' or vogal == 'U':\n",
    "    print('Vogal')\n",
    "else:\n",
    "    print('Consoante')\n"
   ]
  },
  {
   "cell_type": "code",
   "execution_count": null,
   "metadata": {
    "colab": {
     "base_uri": "https://localhost:8080/"
    },
    "id": "F1ZDDgPQg7Qj",
    "outputId": "11894dd1-9c68-40ff-9f84-a2680bd75256"
   },
   "outputs": [
    {
     "name": "stdout",
     "output_type": "stream",
     "text": [
      "1ª Nota: 8\n",
      "2ª Nota: 2\n",
      "Media 5.0 - Reprovado\n"
     ]
    }
   ],
   "source": [
    "#EX3.5 Faça um programa para a leitura de duas notas parciais de um aluno. O programa deve calcular a média alcançada por aluno e apresentar:\n",
    "\n",
    "    #A mensagem \"Aprovado\", se a média alcançada for maior ou igual a sete;\n",
    "    #A mensagem \"Reprovado\", se a média for menor do que sete;\n",
    "    #A mensagem \"Aprovado com Distinção\", se a média for igual a dez. \n",
    "\n",
    "nota1 = int(input('1ª Nota: '))\n",
    "nota2 = int(input('2ª Nota: '))\n",
    "\n",
    "media = (nota1 + nota2)/2\n",
    "\n",
    "if media >= 10:\n",
    "    print(f'Media {media} - Aprovado com Distinção')\n",
    "elif media >= 7:\n",
    "    print(f'Media {media} - Aprovado')\n",
    "else:\n",
    "    print(f'Media {media} - Reprovado')\n"
   ]
  },
  {
   "cell_type": "code",
   "execution_count": null,
   "metadata": {
    "colab": {
     "base_uri": "https://localhost:8080/"
    },
    "id": "VtVStZ3Cim5Y",
    "outputId": "fad368e3-ff3d-4ef0-c673-c7c4d4d327b2"
   },
   "outputs": [
    {
     "name": "stdout",
     "output_type": "stream",
     "text": [
      "Digite 1º número: 5\n",
      "Digite 2º número: 4\n",
      "Digite 3º número: 15\n",
      "O maior número é 15\n"
     ]
    }
   ],
   "source": [
    "#EX3.6 Faça um Programa que leia três números e mostre o maior deles.\n",
    "\n",
    "nu1 = int(input('Digite 1º número: '))\n",
    "nu2 = int(input('Digite 2º número: '))\n",
    "nu3 = int(input('Digite 3º número: '))\n",
    "\n",
    "if nu1 > nu2 and nu1 > nu3:\n",
    "    print(f'O maior número é {nu1}')\n",
    "elif nu2 > nu1 and nu2 > nu3:\n",
    "    print(f'O maior número é {nu2}')\n",
    "else:\n",
    "    print(f'O maior número é {nu3}')"
   ]
  },
  {
   "cell_type": "code",
   "execution_count": null,
   "metadata": {
    "colab": {
     "base_uri": "https://localhost:8080/"
    },
    "id": "g8Cs2f-UlDI3",
    "outputId": "289fe69b-9692-452e-ce34-595d281de7ce"
   },
   "outputs": [
    {
     "name": "stdout",
     "output_type": "stream",
     "text": [
      "Digite 1º número: 8\n",
      "Digite 2º número: 4\n",
      "Digite 3º número: 2\n",
      "O maior número é 8\n",
      "O menor número é 2\n"
     ]
    }
   ],
   "source": [
    "#EX3.7 Faça um Programa que leia três números e mostre o maior e o menor deles.\n",
    "nu1 = int(input('Digite 1º número: '))\n",
    "nu2 = int(input('Digite 2º número: '))\n",
    "nu3 = int(input('Digite 3º número: '))\n",
    "\n",
    "if nu1 > nu2 and nu1 > nu3:\n",
    "    print(f'O maior número é {nu1}')\n",
    "elif nu2 > nu1 and nu2 > nu3:\n",
    "    print(f'O maior número é {nu2}')\n",
    "else:\n",
    "    print(f'O maior número é {nu3}')\n",
    "\n",
    "if nu1 < nu2 and nu1 < nu3:\n",
    "    print(f'O menor número é {nu1}')\n",
    "elif nu2 > nu1 and nu2 < nu3:\n",
    "    print(f'O menor número é {nu2}')\n",
    "else:\n",
    "    print(f'O menor número é {nu3}')"
   ]
  },
  {
   "cell_type": "code",
   "execution_count": null,
   "metadata": {
    "colab": {
     "base_uri": "https://localhost:8080/"
    },
    "id": "9_THXHVNoM6y",
    "outputId": "cc1ff1c7-db60-4a09-f995-070edc48ea4b"
   },
   "outputs": [
    {
     "name": "stdout",
     "output_type": "stream",
     "text": [
      "Digite o valor do produto: 19.50\n",
      "Digite o valor do produto: 144\n",
      "Digite o valor do produto: 84.80\n",
      "O valor do produto mais barato é 19.5\n"
     ]
    }
   ],
   "source": [
    "'''EX3.8 Faça um programa que pergunte o preço de três produtos e informe qual produto você deve comprar, \n",
    "   sabendo que a decisão é sempre pelo mais barato. '''\n",
    "\n",
    "prod1 = float(input('Digite o valor do produto: '))\n",
    "prod2 = float(input('Digite o valor do produto: '))\n",
    "prod3 = float(input('Digite o valor do produto: '))\n",
    "\n",
    "if prod1 < prod2 and prod1 < prod3:\n",
    "    print(f'O valor do produto mais barato é {prod1}')\n",
    "elif prod2 < prod1 and prod2 < prod3:\n",
    "    print(f'O valor do produto mais barato é {prod2}')\n",
    "else:\n",
    "    print(f'O valor do produto mais barato é {prod3}')\n"
   ]
  },
  {
   "cell_type": "code",
   "execution_count": null,
   "metadata": {
    "colab": {
     "base_uri": "https://localhost:8080/"
    },
    "id": "barpEd2zoU1W",
    "outputId": "bfd90d69-0b4f-4218-abbd-3f0b9d1cd90a"
   },
   "outputs": [
    {
     "name": "stdout",
     "output_type": "stream",
     "text": [
      "Digite o salário a ser ajustado: 190\n",
      "Salário: 190.00\n",
      "20% de aumento\n",
      "Valor do aumento: 38.00\n",
      "Novo Salário: 228.00\n"
     ]
    }
   ],
   "source": [
    "'''EX3.9 As Organizações Tabajara resolveram dar um aumento de salário aos seus colaboradores e lhe contraram para desenvolver o \n",
    "   programa que calculará os reajustes.\n",
    "\n",
    "    Faça um programa que recebe o salário de um colaborador e o reajuste segundo o seguinte critério, baseado no salário atual:\n",
    "    salários até R$ 280,00 (incluindo) : aumento de 20%\n",
    "    salários entre R$ 280,00 e R$ 700,00 : aumento de 15%\n",
    "    salários entre R$ 700,00 e R$ 1500,00 : aumento de 10%\n",
    "    salários de R$ 1500,00 em diante : aumento de 5% Após o aumento ser realizado, informe na tela:\n",
    "    o salário antes do reajuste;\n",
    "    o percentual de aumento aplicado;\n",
    "    o valor do aumento;\n",
    "    o novo salário, após o aumento. '''\n",
    "\n",
    "\n",
    "salario = float(input('Digite o salário a ser ajustado: '))\n",
    "\n",
    "if salario >= 1500:\n",
    "    aum = salario * 0.05\n",
    "    print(f'Salário: {salario:.2f}')\n",
    "    print('5% de aumento')\n",
    "    print(f'Valor do aumento: {aum:.2f}')\n",
    "    print(f'Novo Salário: {salario+aum:.2f}')\n",
    "elif salario > 700:\n",
    "    aum = salario * 0.10\n",
    "    print(f'Salário: {salario:.2f}')\n",
    "    print('10% de aumento')\n",
    "    print(f'Valor do aumento: {aum:.2f}')\n",
    "    print(f'Novo Salário: {salario+aum:.2f}')\n",
    "elif salario > 280:\n",
    "    aum = salario * 0.15\n",
    "    print(f'Salário: {salario:.2f}')\n",
    "    print('15% de aumento')\n",
    "    print(f'Valor do aumento: {aum:.2f}')\n",
    "    print(f'Novo Salário: {salario+aum:.2f}')\n",
    "else:\n",
    "    aum = salario * 0.20\n",
    "    print(f'Salário: {salario:.2f}')\n",
    "    print('20% de aumento')\n",
    "    print(f'Valor do aumento: {aum:.2f}')\n",
    "    print(f'Novo Salário: {salario+aum:.2f}')\n"
   ]
  },
  {
   "cell_type": "code",
   "execution_count": null,
   "metadata": {
    "colab": {
     "base_uri": "https://localhost:8080/"
    },
    "id": "JcX6LlIQoUjq",
    "outputId": "fc4fec7d-a392-480c-91e6-9958d9073f3d"
   },
   "outputs": [
    {
     "name": "stdout",
     "output_type": "stream",
     "text": [
      "Salário: 2300\n",
      "Salário Bruto: (10.45 * 220)     : R$ 2300.00\n",
      "(-) IR (10%)                     : R$ 230.00\n",
      "(-) INSS ( 10%)                  : R$ 230.00\n",
      "FGTS (11%)                       : R$ 253.00\n",
      "Total de descontos               : R$ 460.00\n",
      "Salário Liquido                  : R$ 1840.00\n"
     ]
    }
   ],
   "source": [
    "'''EX3.10 Faça um programa para o cálculo de uma folha de pagamento, sabendo que os descontos são do Imposto de Renda, \n",
    "que depende do salário bruto (conforme tabela abaixo) e 3% para o Sindicato e que o FGTS corresponde a 11% do Salário Bruto, \n",
    "mas não é descontado (é a empresa que deposita). O Salário Líquido corresponde ao Salário Bruto menos os descontos. \n",
    "O programa deverá pedir ao usuário o valor da sua hora e a quantidade de horas trabalhadas no mês.\n",
    "\n",
    "    Desconto do IR:\n",
    "    Salário Bruto até 900 (inclusive) - isento\n",
    "    Salário Bruto até 1500 (inclusive) - desconto de 5%\n",
    "    Salário Bruto até 2500 (inclusive) - desconto de 10%\n",
    "    Salário Bruto acima de 2500 - desconto de 20% Imprima na tela as informações, dispostas conforme o exemplo abaixo. \n",
    "    No exemplo o valor da hora é 5 e a quantidade de hora é 220. \n",
    "\n",
    "        Salário Bruto: (5 * 220)        : R$ 1100,00\n",
    "        (-) IR (5%)                     : R$   55,00  \n",
    "        (-) INSS ( 10%)                 : R$  110,00\n",
    "        FGTS (11%)                      : R$  121,00\n",
    "        Total de descontos              : R$  165,00\n",
    "        Salário Liquido                 : R$  935,00  '''\n",
    "\n",
    "#Calculo da folha de pagamento e imposto de renda\n",
    "\n",
    "sal = float(input('Salário: '))\n",
    "\n",
    "if sal > 2500:\n",
    "    valor_hora = sal / 220\n",
    "    desc_IR = sal * 0.20\n",
    "    desc_INSS = sal * 0.10\n",
    "    fgts = sal * 0.11\n",
    "    val_desc = desc_IR + desc_INSS\n",
    "    print(f'Salário Bruto: ({valor_hora:.2f} * 220)     : R$ {sal:.2f}')\n",
    "    print(f'(-) IR (20%)                     : R$ {desc_IR:.2f}')\n",
    "    print(f'(-) INSS ( 10%)                  : R$ {desc_INSS:.2f}')\n",
    "    print(f'FGTS (11%)                       : R$ {fgts:.2f}')\n",
    "    print(f'Total de descontos               : R$ {val_desc:.2f}')\n",
    "    print(f'Salário Liquido                  : R$ {sal - val_desc:.2f}')\n",
    "elif sal > 1500:\n",
    "    valor_hora = sal / 220\n",
    "    desc_IR = sal * 0.10\n",
    "    desc_INSS = sal * 0.10\n",
    "    fgts = sal * 0.11\n",
    "    val_desc = desc_IR + desc_INSS\n",
    "    print(f'Salário Bruto: ({valor_hora:.2f} * 220)     : R$ {sal:.2f}')\n",
    "    print(f'(-) IR (10%)                     : R$ {desc_IR:.2f}')\n",
    "    print(f'(-) INSS ( 10%)                  : R$ {desc_INSS:.2f}')\n",
    "    print(f'FGTS (11%)                       : R$ {fgts:.2f}')\n",
    "    print(f'Total de descontos               : R$ {val_desc:.2f}')\n",
    "    print(f'Salário Liquido                  : R$ {sal - val_desc:.2f}')\n",
    "elif sal > 900:\n",
    "    valor_hora = sal / 220\n",
    "    desc_IR = sal * 0.05\n",
    "    desc_INSS = sal * 0.10\n",
    "    fgts = sal * 0.11\n",
    "    val_desc = desc_IR + desc_INSS\n",
    "    print(f'Salário Bruto: ({valor_hora:.2f} * 220)     : R$ {sal:.2f}')\n",
    "    print(f'(-) IR (5%)                     : R$ {desc_IR:.2f}')\n",
    "    print(f'(-) INSS ( 10%)                  : R$ {desc_INSS:.2f}')\n",
    "    print(f'FGTS (11%)                       : R$ {fgts:.2f}')\n",
    "    print(f'Total de descontos               : R$ {val_desc:.2f}')\n",
    "    print(f'Salário Liquido                  : R$ {sal - val_desc:.2f}')\n",
    "else:\n",
    "    valor_hora = sal / 220\n",
    "    desc_INSS = sal * 0.10\n",
    "    fgts = sal * 0.11\n",
    "    val_desc = desc_IR + desc_INSS\n",
    "    print(f'Salário Bruto: ({valor_hora:.2f} * 220)     : R$ {sal:.2f}')\n",
    "    print(f'(-) IR: Isento')\n",
    "    print(f'(-) INSS ( 10%)                  : R$ {desc_INSS:.2f}')\n",
    "    print(f'FGTS (11%)                       : R$ {fgts:.2f}')\n",
    "    print(f'Total de descontos               : R$ {val_desc:.2f}')\n",
    "    print(f'Salário Liquido                  : R$ {sal - val_desc:.2f}')"
   ]
  },
  {
   "cell_type": "code",
   "execution_count": null,
   "metadata": {
    "id": "78bSKXZlrHZN"
   },
   "outputs": [],
   "source": [
    "'''EX3.11 Faça um programa que faça 5 perguntas para uma pessoa sobre um crime. As perguntas são:\n",
    "\n",
    "    \"Telefonou para a vítima?\"\n",
    "    \"Esteve no local do crime?\"\n",
    "    \"Mora perto da vítima?\"\n",
    "    \"Devia para a vítima?\"\n",
    "    \"Já trabalhou com a vítima?\" O programa deve no final emitir uma classificação sobre a participação da pessoa no crime. \n",
    "     Se a pessoa responder positivamente a 2 questões ela deve ser classificada como \"Suspeita\", entre 3 e 4 como\n",
    "    \"Cúmplice\" e 5 como \"Assassino\". Caso contrário, ele será classificado como \"Inocente\". '''\n",
    "\n"
   ]
  },
  {
   "cell_type": "code",
   "execution_count": null,
   "metadata": {
    "id": "TsahGp8DsBgS"
   },
   "outputs": [],
   "source": [
    "'''EX3.12 Um posto está vendendo combustíveis com a seguinte tabela de descontos:\n",
    "\n",
    "    Álcool:\n",
    "    até 20 litros, desconto de 3% por litro\n",
    "    acima de 20 litros, desconto de 5% por litro\n",
    "    Gasolina:\n",
    "    até 20 litros, desconto de 4% por litro\n",
    "    acima de 20 litros, desconto de 6% por litro Escreva um algoritmo que leia o número de litros vendidos, \n",
    "    o tipo de combustível (codificado da seguinte forma: A-álcool, G-gasolina), calcule e imprima o valor a ser \n",
    "    pago pelo cliente sabendo-se que o preço do litro da gasolina é R$ 2,50 o preço do litro do álcool é R$ 1,90. '''\n",
    "\n",
    "    "
   ]
  },
  {
   "cell_type": "code",
   "execution_count": null,
   "metadata": {
    "id": "PCro61yIsNlg"
   },
   "outputs": [],
   "source": [
    "'''EX3.13 Uma fruteira está vendendo frutas com a seguinte tabela de preços:\n",
    "\n",
    "                          Até 5 Kg           Acima de 5 Kg\n",
    "    Morango         R$ 2,50 por Kg          R$ 2,20 por Kg\n",
    "    Maçã            R$ 1,80 por Kg          R$ 1,50 por Kg\n",
    "\n",
    "    Se o cliente comprar mais de 8 Kg em frutas ou o valor total da compra ultrapassar R$ 25,00, \n",
    "    receberá ainda um desconto de 10% sobre este total. Escreva um algoritmo para ler a quantidade (em Kg) de morangos \n",
    "    e a quantidade (em Kg) de maças adquiridas e escreva o valor a ser pago pelo cliente. '''\n",
    "\n"
   ]
  },
  {
   "cell_type": "code",
   "execution_count": null,
   "metadata": {
    "id": "cmDJgkvbsYu-"
   },
   "outputs": [],
   "source": [
    "'''EX3.14 O Hipermercado Tabajara está com uma promoção de carnes que é imperdível. Confira:\n",
    "\n",
    "                          Até 5 Kg           Acima de 5 Kg\n",
    "    File Duplo      R$ 4,90 por Kg          R$ 5,80 por Kg\n",
    "    Alcatra         R$ 5,90 por Kg          R$ 6,80 por Kg\n",
    "    Picanha         R$ 6,90 por Kg          R$ 7,80 por Kg\n",
    "\n",
    "    Para atender a todos os clientes, cada cliente poderá levar apenas um dos tipos de carne da promoção, \n",
    "    porém não há limites para a quantidade de carne por cliente. Se compra for feita no cartão Tabajara o cliente receberá \n",
    "    ainda um desconto de 5% sobre o total da compra. Escreva um programa que peça o tipo e a quantidade de carne comprada pelo \n",
    "    usuário e gere um cupom fiscal, contendo as informações da compra: tipo e quantidade de carne, preço total, tipo de pagamento, \n",
    "    valor do desconto e valor a pagar. '''\n",
    "\n"
   ]
  },
  {
   "cell_type": "code",
   "execution_count": null,
   "metadata": {
    "colab": {
     "base_uri": "https://localhost:8080/"
    },
    "id": "QWhDAJFfbPB5",
    "outputId": "e9a64ceb-14ed-444c-b0f9-17ff27b7f005"
   },
   "outputs": [
    {
     "name": "stdout",
     "output_type": "stream",
     "text": [
      "0\n",
      "1\n",
      "2\n",
      "3\n",
      "4\n"
     ]
    }
   ],
   "source": [
    "# Bloco While\n",
    "\n",
    "a = 0\n",
    "while a < 5:\n",
    "    print(a)\n",
    "    a+= 1"
   ]
  },
  {
   "cell_type": "code",
   "execution_count": null,
   "metadata": {
    "id": "KYMnXEeziXIj"
   },
   "outputs": [],
   "source": [
    "''' #Ex 4\n",
    "Dizemos que um inteiro positivo n é perfeito se for igual à soma de seus divisores positivos diferentes de n.\n",
    "Exemplo: 6 é perfeito, pois 1+2+3=6.\n",
    "Dado um inteiro positivo n, verificar se n é perfeito'''\n",
    "\n",
    "n = int(input(\"Digite o valor de n: \"))\n",
    "\n",
    "cont, soma = 2, 1\n",
    "while cont < n:\n",
    "    if n % cont == 0:\n",
    "        soma += cont\n",
    "    cont += 1\n",
    "\n",
    "if soma == n:\n",
    "    print (\"O número\", n, \"é perfeito\")\n",
    "else:\n",
    "    print (\"O número\", n, \"não é perfeito\")\n"
   ]
  },
  {
   "cell_type": "code",
   "execution_count": null,
   "metadata": {
    "id": "x5sPQ0yIldzn"
   },
   "outputs": [],
   "source": [
    "#EX 4.1  https://wiki.python.org.br/EstruturaDeRepeticao"
   ]
  },
  {
   "cell_type": "code",
   "execution_count": null,
   "metadata": {
    "id": "IFB1oi-3lkoR"
   },
   "outputs": [],
   "source": [
    "#EX 4.2  https://wiki.python.org.br/EstruturaDeRepeticao"
   ]
  },
  {
   "cell_type": "code",
   "execution_count": null,
   "metadata": {
    "id": "0pJSwYiagY2R"
   },
   "outputs": [],
   "source": [
    "# Len - Usado para contar quantos caracteres tem na variavel mais usado em string e contrele de dados\n",
    "\n",
    "#nome = 'Wendell Barcelos Albano Pestana'\n",
    "#print(len(nome))"
   ]
  },
  {
   "cell_type": "code",
   "execution_count": 1,
   "metadata": {
    "id": "lHq08MiDnxqx"
   },
   "outputs": [
    {
     "name": "stdout",
     "output_type": "stream",
     "text": [
      "Cadastrar Usuario\n",
      "\n",
      "\n",
      "Usuario cadastrado com sucesso\n"
     ]
    }
   ],
   "source": [
    "'''Sistema de cadastro de usuario'''\n",
    "\n",
    "print('Cadastrar Usuario\\n')\n",
    "usuario = input('Criar usuario: ')\n",
    "senha = input('Criar Senha: ')\n",
    "\n",
    "if len(senha) < 8:\n",
    "    print('Senha invalida minimo 8 caracteres')\n",
    "else:\n",
    "    print('\\nUsuario cadastrado com sucesso')"
   ]
  },
  {
   "cell_type": "code",
   "execution_count": 2,
   "metadata": {
    "id": "8eSwLij-ggw2"
   },
   "outputs": [
    {
     "name": "stdout",
     "output_type": "stream",
     "text": [
      "Entrar\n",
      "\n",
      "\n",
      "Usuario ou senha invalido\n"
     ]
    }
   ],
   "source": [
    "'''Teste de cadastro de usuario'''\n",
    "\n",
    "print('Entrar\\n')\n",
    "\n",
    "log_user = input('Usuario: ')\n",
    "log_senha = input('Senha: ')\n",
    "\n",
    "if log_user != usuario or log_senha != senha:\n",
    "    print('\\nUsuario ou senha invalido')\n",
    "else:\n",
    "    print('\\nLogin efetuado com sucesso')"
   ]
  },
  {
   "cell_type": "code",
   "execution_count": null,
   "metadata": {
    "id": "jtO_fk4rmhcj"
   },
   "outputs": [],
   "source": [
    "'''PASS E ELLIPS - São usadas quando necessario pular um bloco do codigo'''\n",
    "\n",
    "valor = True\n",
    "\n",
    "if valor:\n",
    "    #print('Olá') ## Caso seja necessario pular um bloco para voltar depois sem apagar usar o pass ou ellips\n",
    "    pass ## Usando o pass o codigo passar pela condição sem dar erro da msm forma usando ellips (...)\n",
    "    ...\n",
    "else:\n",
    "    print('Tchau')\n"
   ]
  },
  {
   "cell_type": "code",
   "execution_count": null,
   "metadata": {
    "colab": {
     "base_uri": "https://localhost:8080/"
    },
    "id": "n1yZc_Fq68hU",
    "outputId": "aa701c9f-f703-46f9-f609-81fa6e5afafb"
   },
   "outputs": [
    {
     "name": "stdout",
     "output_type": "stream",
     "text": [
      "d\n",
      "http:www.facebook.com/\n",
      "http:www.facebook.com\n",
      "www.facebook.com\n",
      "http:www.facebo\n",
      "ht:w.aeo\n"
     ]
    }
   ],
   "source": [
    "'''MANIPULAÇÃO DE STRINGS E FUNÇÕES BUILT-IN (len, abs, type, print, etc)'''\n",
    "\n",
    "# Indices de Strings\n",
    "\n",
    "#Positivo -  [0123456]  ## O valor se inicia com 0\n",
    "nome =       'Wendell'\n",
    "#Negativo - -[7654321]  ## Usa o valor negativo sendo que o contador inicia no ultimo valor sendo 0 neutro\n",
    "print(nome[3]) ## Vai ser exibido somente o valor que esta na posição 3\n",
    "\n",
    "# Fatiamento de Strings - Usamos o fatiamento para remover algum valor unico de uma string.\n",
    "\n",
    "url = 'http:www.facebook.com/' ## Para remover a barra na variavel url sera necessario usar o fatiamento\n",
    "print(url)  ## Vai ser exibido o valor inicial\n",
    "print(url[:-1])  ## Vai ser exibido a variavel porém sem o ultimo valor da string\n",
    "\n",
    "# Usando fatiamento com indices [inicio:fim:passo] - para exibir o ultimo indice é necessario valor +1\n",
    "\n",
    "print(url[5:21])  ## Vai ser exibido o valor da string iniciando pelo indice 5 e finalizando no 21 exibindo somente a url\n",
    "print(url[:15])  ## Será exibido do indice 1 até o final sendo indice 15\n",
    "print(url[:15:2]) ## Será exibido do indice 1 ate o indice 15 sendo o passo de 2 em 2\n",
    "\n",
    "# Ler sobre as funções built-in e seus tipos\n",
    "# https://docs.python.org/3/library/functions.html\n",
    "# https://docs.python.org/3/library/stdtypes.html"
   ]
  },
  {
   "cell_type": "code",
   "execution_count": null,
   "metadata": {
    "colab": {
     "base_uri": "https://localhost:8080/"
    },
    "id": "UhjN6j9k685a",
    "outputId": "75617bbd-0c06-458d-8163-dc7280b2d752"
   },
   "outputs": [
    {
     "name": "stdout",
     "output_type": "stream",
     "text": [
      "0\n",
      "1\n",
      "2\n",
      "3\n",
      "4\n",
      "5\n",
      "6\n",
      "7\n",
      "8\n",
      "9\n",
      "0\n",
      "1\n",
      "2\n",
      "4\n",
      "5\n",
      "6\n",
      "7\n",
      "8\n",
      "9\n",
      "0\n",
      "1\n",
      "2\n",
      "\n",
      "\n",
      "Digite o valor a multiplicar: 2\n",
      "2 x 0: 0\n",
      "2 x 1: 2\n",
      "2 x 2: 4\n",
      "2 x 3: 6\n",
      "2 x 4: 8\n",
      "2 x 5: 10\n",
      "2 x 6: 12\n",
      "2 x 7: 14\n",
      "2 x 8: 16\n",
      "2 x 9: 18\n",
      "2 x 10: 20\n"
     ]
    }
   ],
   "source": [
    "'''ESTRUTURA DE REPETIÇÃO WHILE - Usado para realizar ações ENQUANTO uma condição for verdadeira caso necessario o laço sendo infinito'''\n",
    "\n",
    "#while True:  ## Essa estrutura vai gerar um loop infinito\n",
    "    #nome = input('Qual é o seu nome? ')\n",
    "    #print(f'Olá {nome}')\n",
    "\n",
    "# Gerando um contador\n",
    "x = 0  ## X no momento será zero\n",
    "while x < 10:  ## Enquanto x for menor que 10 ele continua executando o codigo\n",
    "    print(x)\n",
    "    x = x + 1  ## Dada a expressões x soma o valor de +1 deixando de ser zero\n",
    "\n",
    "# Usando o CONTINUE\n",
    "x = 0  ## X no momento será zero\n",
    "while x < 10:  ## Enquanto x for menor que 10 ele continua executando o codigo\n",
    "    if x == 3:  ## Se x for igual a 3 \n",
    "        x = x + 1  ## Soma mais 1 em x \n",
    "        continue  ## O uso do continue vai pular o valor da condição acima deixando 3 de fora do resultado\n",
    "    print(x)\n",
    "    x = x + 1\n",
    "\n",
    "# Usando o BREAK\n",
    "x = 0  ## X no momento será zero\n",
    "while x < 10:  ## Enquanto x for menor que 10 ele continua executando o codigo\n",
    "    if x == 3:  ## Se x for igual a 3 \n",
    "        x = x + 1  ## Soma mais 1 em x \n",
    "        break  ## O uso do break ele finaliza o laço \n",
    "    print(x)\n",
    "    x = x + 1\n",
    "\n",
    "print('\\n')\n",
    "\n",
    "## Calculadora de multiplicação\n",
    "\n",
    "x = int(input('Digite o valor a multiplicar: '))\n",
    "y = 0  ## Usando acumuladores\n",
    "z = 0  ## Usando acumuladores\n",
    "\n",
    "while y <= 10:\n",
    "    print(f'{x} x {y}: {z}')\n",
    "    y += 1  ## Usando acumuladores\n",
    "    z = x * y\n"
   ]
  },
  {
   "cell_type": "code",
   "execution_count": null,
   "metadata": {
    "colab": {
     "base_uri": "https://localhost:8080/"
    },
    "id": "5TwGAWRTrdEr",
    "outputId": "c34b887c-5212-45da-90ad-3a0be160d9bf"
   },
   "outputs": [
    {
     "name": "stdout",
     "output_type": "stream",
     "text": [
      "DARIA TUDO QUE SEI PELA METADE DO QUE IGNORO\n"
     ]
    }
   ],
   "source": [
    "'''ITERANDO SOBRE INDICES COM ESTRUTURA WHILE'''\n",
    "\n",
    "frase = 'Daria tudo que sei pela metade do que ignoro'  ## Elemento iteravel que tem iteração por indice\n",
    "tamanho_frase = len(frase)  ## Usando o len para pegar a quantidade de indices dentro da string\n",
    "contador = 0\n",
    "\n",
    "#while contador < tamanho_frase:  ## O laço vai pegar o contador e exibi-lo pela quantidade de indices\n",
    "#    print(frase[contador], contador) ## O contador vai pegar cada indice da frase e exibir ao lado o valor do contador apresentando cada valor em seu indice\n",
    "#    contador += 1\n",
    "\n",
    "\n",
    "# Usando condições \n",
    "nova_string = '' ## Vamos adicionar valores a essa nova string\n",
    "\n",
    "while contador < tamanho_frase:\n",
    "    letra = frase[contador] ## A variavel assume cada indice da string\n",
    "    print(nova_string)\n",
    "    nova_string += letra ## Adiciona o valor na nova string usando cada valor pela variavel letra\n",
    "    contador += 1\n",
    "\n",
    "while contador < tamanho_frase:\n",
    "    letra = frase[contador] ## A variavel assume cada indice da string\n",
    "    if letra == 'e':  ## Se a letra for igual a 'e' inicia a condição\n",
    "        nova_string += 'E' ## A string vai receber o valor alterado de 'e' para 'E'\n",
    "    else:\n",
    "        nova_string += letra\n",
    "    contador += 1\n",
    "\n",
    "while contador < tamanho_frase:\n",
    "    letra = frase[contador] ## A variavel assume cada indice da string\n",
    "    nova_string += letra.upper() ## O uso do UPPER converte o valor de cada letra para maiusculo \n",
    "    contador += 1\n",
    "\n",
    "print(nova_string)"
   ]
  },
  {
   "cell_type": "code",
   "execution_count": null,
   "metadata": {
    "colab": {
     "base_uri": "https://localhost:8080/"
    },
    "id": "XiGMSTEjReWm",
    "outputId": "d4d1e7fc-680f-4923-9139-9f2311b8ef7d"
   },
   "outputs": [
    {
     "name": "stdout",
     "output_type": "stream",
     "text": [
      "P\n",
      "Y\n",
      "T\n",
      "H\n",
      "O\n",
      "N\n",
      "0 P\n",
      "1 y\n",
      "2 t\n",
      "3 h\n",
      "4 o\n",
      "5 n\n",
      "0\n",
      "1\n",
      "2\n",
      "3\n",
      "4\n",
      "5\n",
      "6\n",
      "7\n",
      "8\n",
      "9\n"
     ]
    }
   ],
   "source": [
    "'''ESTRUTURA DE REPETIÇÃO FOR'''\n",
    "\n",
    "# O uso do FOR é bem mais pratico e simples que o WHILE\n",
    "\n",
    "texto = 'Python'\n",
    "\n",
    "for i in texto:  ## Para cada indice no texto a condição será exibida \n",
    "    print(i.upper()) ## Usando com o UPPER\n",
    "\n",
    "# Usando o contador para verificar o indice\n",
    "\n",
    "for n, i in enumerate(texto): ## Usando o ENUMERATE ele retorna um contado baseando-se no indice da variavel\n",
    "    print(n, i) ## Exibe o valor e o indice\n",
    "\n",
    "# Usando função RANGE\n",
    "\n",
    "for n in range(10): ## (inicio, fim, passo)\n",
    "    print(n)"
   ]
  },
  {
   "cell_type": "code",
   "execution_count": 26,
   "metadata": {
    "colab": {
     "base_uri": "https://localhost:8080/"
    },
    "id": "XZKqjsVjReJU",
    "outputId": "25ff72f0-5947-4679-8e52-a41b0a77986a"
   },
   "outputs": [
    {
     "name": "stdout",
     "output_type": "stream",
     "text": [
      "Chupeta\n",
      "['Espanador', 'Chupeta', 'Almofada', 'Cereja', 'Trepadeira']\n",
      "['13', '20', '65', '96', '71', '46', '67', '74', '60', '67', '41', '75', '44', '26']\n",
      "['13', '20', '65', '96', '71', '46', '67', '74', '60', '67', '41', '75', '44', '26', 25]\n",
      "['banana', '13', '20', '65', '96', '71', '46', '67', '74', '60', '67', '41', '75', '44', '26', 25]\n",
      "['13', '20', '65', '96', '71', '46', '67', '74', '60', '67', '41', '75', '44', '26', 25]\n",
      "['13', '20', '65', '96', '71', '46', '67', '74', '60', '67', '41', '75', '44', '26']\n",
      "['Arroz', 'Cebola', 'Espanador', 'Van', 'Chupeta', 'Forte', 'Almofada', 'Fervura', 'Cereja', 'Sete', 'Trepadeira', 'Agricultor']\n",
      "[]\n",
      "13\n",
      "96\n",
      "range(0, 100, 6)\n",
      "[0, 6, 12, 18, 24, 30, 36, 42, 48, 54, 60, 66, 72, 78, 84, 90, 96]\n"
     ]
    }
   ],
   "source": [
    "'''LISTA - Usado para armazenamento de dados na qual tem interação com os indices sendo diferente de strings ou variaveis'''\n",
    "\n",
    "#Indice   0    1    2    3    4\n",
    "lista = ['Espanador','Van','Chupeta','Forte','Almofada','Fervura','Cereja','Sete','Trepadeira','Agricultor'] ## Uma variavel recebe um quantidade de valores de forma separada contato os indices de forma iteravel\n",
    "\n",
    "print(lista[2]) ## Exibirá somente o valor que estiver alocado no indice 2\n",
    "print(lista[0::2])  ## Usando Fatiamento de lista acessando pelos indices [ínicio:fim:passo]\n",
    "\n",
    "# append, insert, Del, pop, clear, extend, min, max - Todos pode ser usado o fatiamento\n",
    "\n",
    "lista2 = [ '13','20','65','96','71','46','67','74','60','67','41','75','44','26']\n",
    "\n",
    "## APPEND - Insere um valor ao fim da lista\n",
    "print(lista2) ## Exibirá os valores contidos na lista2 \n",
    "lista2.append(25)  ## O append insere um valor no fim da lista \n",
    "print(lista2) ## I´ra exibir os valores após inser o valor com o append\n",
    "\n",
    "##INSERT - Insere um valor no indice desejado\n",
    "lista2.insert(0, 'banana') ## Inseriu o valor banana no indice 0 da lista\n",
    "print(lista2)\n",
    "\n",
    "##DEL - Deleta um valor específico da lista a partir do indice desejado\n",
    "del(lista2[0]) ## Deleta o valor no indice 0\n",
    "print(lista2)\n",
    "\n",
    "##POP - Deleta o ultimo valor da lista\n",
    "lista2.pop() ## O POP deleta o ultimo valor inserido na lista\n",
    "print(lista2)\n",
    "\n",
    "##EXTEND - Usado para unificar varias listas\n",
    "lista3 = ['Arroz', 'Cebola']\n",
    "lista3.extend(lista)\n",
    "print(lista3)\n",
    "\n",
    "##CLEAR - Limpa todos os valores da lista\n",
    "lista3.clear() ## O Clear vai apagar todos os valores da lista3\n",
    "print(lista3)\n",
    "\n",
    "##MIN - Retorna o valor minimo da lista\n",
    "print(min(lista2))\n",
    "\n",
    "##MAX - Retorna o maior valor da lista\n",
    "print(max(lista2))\n",
    "\n",
    "##RANGE/LIST - Pode ser  usado a função range associado com a funçao list para gerar elementos de uma lista numerica.\n",
    "lista4 = range(0,100,6) ## Usando o fatieamento para criar a lista\n",
    "print(lista4) ## Será exibido a o range apenas sem ter os elementos na lista para isso é simples\n",
    "lista4 = list(range(0,100,6)) ## Usando a função list sera gerado uma lista a partir da função range\n",
    "print(lista4)\n"
   ]
  },
  {
   "cell_type": "code",
   "execution_count": null,
   "metadata": {
    "id": "lDpe2pUkyzVI"
   },
   "outputs": [],
   "source": [
    "'''JOGO DA FORCA'''\n",
    "\n",
    "palavra = 'papagaio'\n",
    "letras_dig = []\n",
    "chances = 3\n",
    "\n",
    "while True:\n",
    "    if chances <= 0:\n",
    "        print('Você perdeu!!!')\n",
    "        break\n",
    "\n",
    "    letra = input('Digite uma letra: ')\n",
    "\n",
    "    if len(letra) > 1:\n",
    "        print('Ahhh esta errado, uma letra de cada vez!!!')\n",
    "        continue\n",
    "    \n",
    "    letras_dig.append(letra)\n",
    "\n",
    "    if letra in palavra:\n",
    "        print(f'UHHUUU!!! A letra {letra}, existe na palavra secreta!!!')\n",
    "    else:\n",
    "        print(f'Poxaaa!!! A letra {letra}, existe não palavra secreta!!!')\n",
    "        letras_dig.pop()\n",
    "    \n",
    "    palavra_temporaria = ''\n",
    "    for letra_secreta in palavra:\n",
    "        if letra_secreta in letras_dig:\n",
    "            palavra_temporaria += letra_secreta\n",
    "        else:\n",
    "            palavra_temporaria += '*'\n",
    "\n",
    "    if palavra_temporaria == palavra:\n",
    "        print(f'Que legal, VOC~E GANHOU!!! A palavra era {palavra_temporaria}.')\n",
    "        break\n",
    "    else:\n",
    "        print(f'A palavra secreta está assim: {palavra_temporaria}')\n",
    "\n",
    "    if letra not in palavra:\n",
    "        chances -= 1\n",
    "\n",
    "    print(f'Você ainda tem {chances} chances')\n",
    "    print()\n",
    "    \n"
   ]
  },
  {
   "cell_type": "code",
   "execution_count": 56,
   "metadata": {
    "colab": {
     "base_uri": "https://localhost:8080/"
    },
    "id": "B2YLb1RgFN-G",
    "outputId": "052ba16f-230a-46ac-de60-401357f40dc1"
   },
   "outputs": [
    {
     "name": "stdout",
     "output_type": "stream",
     "text": [
      "Digite a letra a verificar: o\n"
     ]
    }
   ],
   "source": [
    "'''FOR/ELSE - O uso do ELSE é somente em casos especiais'''\n",
    "\n",
    "variavel = ['Marcos', 'Luiz', 'Pedro', 'Maria', 'Lucia']\n",
    "## Varificando pelo laço for se à palavras iniciando por alguma condição\n",
    "\n",
    "letra_verificar = input('Digite a letra a verificar: ')\n",
    "\n",
    "for valor in variavel: ## Cria um laço para verificação\n",
    "    if valor.lower().startswith(letra_verificar): ## Função verificar se o palavra inicia com a letra sendo minuscula ou maiuscula\n",
    "        print(f'Existe uma palavra que começa com {letra_verificar}: {valor}')\n",
    "    continue"
   ]
  },
  {
   "cell_type": "code",
   "execution_count": 11,
   "metadata": {
    "id": "RH6IfYNpJdvu"
   },
   "outputs": [
    {
     "name": "stdout",
     "output_type": "stream",
     "text": [
      "['Imagine', 'uma', 'nova', 'história', 'para', 'sua', 'vida', 'e', 'acredite', 'nela']\n",
      "Imagine uma nova história para sua vida e acredite nela\n",
      "0 Imagine\n",
      "1 uma\n",
      "2 nova\n",
      "3 história\n",
      "4 para\n",
      "5 sua\n",
      "6 vida\n",
      "7 e\n",
      "8 acredite\n",
      "9 nela\n"
     ]
    }
   ],
   "source": [
    "'''SPLIT, JOIN, ENUMERATE'''\n",
    "\n",
    "#SPLIT \n",
    "string = 'Imagine uma nova história para sua vida e acredite nela' ## Variavel\n",
    "\n",
    "lista = string.split(' ')  ## A função Split separa a variavel em uma lista a partir do separador utilizado sendo virgula, espaço ou outros\n",
    "print(lista)  ## Retorna uma lista separada por espaço\n",
    "\n",
    "#JOIN - Ajunta os valores de uma lista\n",
    "lista2 = ' '.join(lista)  # A função Join ela pega os valores de uma lista e retorna uma string\n",
    "print(lista2)\n",
    "\n",
    "#ENUMERATE - Usado para numerar um laço \n",
    "for indice, valor in enumerate(lista):  #Usando o ENUMERATE ele ira retorno o valor no laço com o indice de cada palavra\n",
    "    print(indice, valor)\n"
   ]
  },
  {
   "cell_type": "code",
   "execution_count": 9,
   "metadata": {},
   "outputs": [
    {
     "name": "stdout",
     "output_type": "stream",
     "text": [
      "2\n",
      "Imagine\n",
      "uma\n",
      "nova\n",
      "história para sua vida e acredite nela\n"
     ]
    }
   ],
   "source": [
    "'''DESEMPACOTAMENTO DE LISTAS'''\n",
    "# O desempacotamento de lista é simples a partir da quantidade de valores dentro da lista à necessidade do \n",
    "# mesmo valores em variaveis. ex\n",
    "\n",
    "lista = [1,2,3]  ## Dado os valores a lista\n",
    "l1, l2, l3 = lista  ## desempacotando os valores da lista em suas variaveis, repare que a quantidade é a msm\n",
    "print(l2)  # Exibirá o valor da variavel l2\n",
    "\n",
    "# Há uma diferença a partir da lista que tem um valor muito grande e não tem a necessidade de todos os \n",
    "# valores então usamos o *_ ou * com o nome da variavel desejada, ele irá recolher todos os valores restante\n",
    "# ou inicial de uma lista. Ex\n",
    "\n",
    "lista2 = ['Imagine', 'uma', 'nova', 'história', 'para', 'sua', 'vida', 'e', 'acredite', 'nela']\n",
    "l1, l2, l3, *outros_valores = lista2  ## usando o '*' os outros valores seram alocados nessa variavel\n",
    "## Ao imprimir os valores poderá ver os valores em cada variavel, pode usar dessa forma no inicio ou fim da lista\n",
    "print(l1)\n",
    "print(l2)\n",
    "print(l3)\n",
    "print(*outros_valores)"
   ]
  },
  {
   "cell_type": "code",
   "execution_count": 18,
   "metadata": {},
   "outputs": [
    {
     "name": "stdout",
     "output_type": "stream",
     "text": [
      "Usuario não logado\n",
      "Usuario logado\n",
      "Usuario: wendell\n",
      "Senha: 94563381\n",
      "Logado\n"
     ]
    }
   ],
   "source": [
    "'''OPERADORES TERNARIOS EM PYTHON'''\n",
    "# O uso de operadores ternarios facilita e simplificar a forma de trazer um resultado imediado com um codigo limpo\n",
    "# Usando operadores ternarios em verificação de usuario logado no sistema. Ex1 sem operadores\n",
    "usuario_logado = False  ## Dada as condições de login sendo falsa\n",
    "if usuario_logado == True:  ## Se o usuario for verdadeiro exibirá\n",
    "    print('Usuario logado')\n",
    "else:  ## Se o for falso exibirá \n",
    "    print('Usuario não logado')\n",
    "    \n",
    "# Usando os operadores ternario \n",
    "logged_user = True ## Dada as condições de login sendo verdadeira\n",
    "msg = 'Usuario logado' if logged_user else 'Usuario não logado'  ## A variavel msg ja tras as condições \n",
    "# com ela se a variavel for verdadeira ja exibirá a mensagem\n",
    "\n",
    "print(msg)\n",
    "\n",
    "# Teste em usuario e senha\n",
    "\n",
    "user = input('Usuario: ')  ## Dada entrada do usuario e senha \n",
    "senha = input('Senha: ')\n",
    "\n",
    "cad_senha = (len(senha) >= 8)  # Criamos a condição na qual a nova variavel irá verificar se o \n",
    "# tamanho da senha em maior ou igual a 8 digitos\n",
    "\n",
    "msg2 = 'Logado' if cad_senha else 'Senha invalida'  # A variavel msg retornar logado caso a condição seja verdadeira\n",
    "print(msg2)\n"
   ]
  },
  {
   "cell_type": "code",
   "execution_count": 47,
   "metadata": {},
   "outputs": [
    {
     "name": "stdout",
     "output_type": "stream",
     "text": [
      "0 10\n",
      "1 9\n",
      "2 8\n",
      "3 7\n",
      "4 6\n",
      "5 5\n",
      "6 4\n",
      "7 3\n",
      "8 2\n"
     ]
    }
   ],
   "source": [
    "'''DESAFIO DOS CONTADORES - Retornar uma sequência de números proposto na aula'''\n",
    "\n",
    "for i, n in enumerate(range(10, 1, -1)):\n",
    "    print(i, n)"
   ]
  },
  {
   "cell_type": "code",
   "execution_count": 3,
   "metadata": {},
   "outputs": [
    {
     "name": "stdout",
     "output_type": "stream",
     "text": [
      "CPF valido\n"
     ]
    }
   ],
   "source": [
    "'''VALIDADOR DE CPF'''\n",
    "\n",
    "cpf = input('Digite seu CPF: ')\n",
    "novo_cpf = cpf[:-2]\n",
    "total = 0\n",
    "reverso = 10\n",
    "\n",
    "for index in range(19):\n",
    "        if index > 8:                   # Primeiro índice vai de 0 a 9,\n",
    "            index -= 9                  # São os 9 primeiros digitos do CPF\n",
    "\n",
    "        total += int(novo_cpf[index]) * reverso  # Valor total da multiplicação\n",
    "\n",
    "        reverso -= 1                    # Decrementa o contador reverso\n",
    "        if reverso < 2:\n",
    "            reverso = 11\n",
    "            d = 11 - (total % 11)\n",
    "\n",
    "            if d > 9:                   # Se o digito for > que 9 o valor é 0\n",
    "                d = 0\n",
    "            total = 0                   # Zera o total\n",
    "            novo_cpf += str(d) \n",
    "        \n",
    "if novo_cpf == cpf:\n",
    "    print('CPF valido')\n",
    "else:\n",
    "    print('CPF invalid')"
   ]
  },
  {
   "cell_type": "code",
   "execution_count": null,
   "metadata": {},
   "outputs": [],
   "source": [
    "'''TUPLAS'''\n",
    "# Tuplas são utilizadas para armazenamento de dados assim como as listas com uma diferença as tuplas\n",
    "# são objetos imutaveis que não mudam seus valores. EX\n",
    "\n",
    "tupla = (1, 2, 3, 4, 'banana')\n",
    "print(tupla)\n",
    "\n",
    "# Sendo um valor imutavel não tem funções built-in para uso nas tuplas, mais uma tupla pode se tornar uma lista\n",
    "\n",
    "lista = list(tupla)\n",
    "\n",
    "print(lista)\n",
    "\n",
    "# As tuplas aceitam fatiamentos,criação de lista dentro delas e outros mesmo sendo imutavel.\n",
    "\n",
    "print(tupla[2])  # Seleção por indice\n",
    "print(tupla[::-1])  # Fatiamento\n",
    "\n",
    "\n",
    "'''DICIONARIOS'''\n",
    "# Os dicionarios são utilizados para armazena dados imutaveis porem a diferença é que eles nao alocam objetos e sim valores e sua forma é baseada em keys no caso chave e valor. EX\n",
    "\n",
    "dicionario = {'nome':'Wendell', 'sobrenome':'Barcelos', 'idade':30}\n",
    "\n",
    "'''SETS'''"
   ]
  },
  {
   "cell_type": "code",
   "execution_count": 32,
   "metadata": {},
   "outputs": [
    {
     "ename": "IndentationError",
     "evalue": "expected an indented block (<ipython-input-32-d50cc60bc962>, line 23)",
     "output_type": "error",
     "traceback": [
      "\u001b[1;36m  File \u001b[1;32m\"<ipython-input-32-d50cc60bc962>\"\u001b[1;36m, line \u001b[1;32m23\u001b[0m\n\u001b[1;33m    print(x)\u001b[0m\n\u001b[1;37m    ^\u001b[0m\n\u001b[1;31mIndentationError\u001b[0m\u001b[1;31m:\u001b[0m expected an indented block\n"
     ]
    }
   ],
   "source": [
    "'''FUNCTIONS - FUNÇÕES EM PYTHON'''\n",
    "# A palavra reservada def inicia a definição de uma função. Ela deve ser seguida do nome da função e da \n",
    "# lista de parâmentro entre parenteses. EX.\n",
    "def hello_world(nome):  # Definindo a função\n",
    "    texto = f'Olá {nome}! Prazer em te conhecer.'  # A função retornará o texto com o parametro inserido\n",
    "    print(texto)\n",
    "\n",
    "hello_world('Maria')  # Chamando a função e passando parametro retornará o valor de dentro da função\n",
    "\n",
    "lt = []\n",
    "\n",
    "def add_lista(x):\n",
    "    for i in x:\n",
    "        lt.append(i)\n",
    "\n",
    "add_lista('We re still in the process of editing this introduction')\n",
    "print(lt)\n",
    "\n",
    "# Criando uma função que vai desempacotar usando FOR para retornar o valor \n",
    "\n",
    "def desempacote(palavra):  # Definindo a função\n",
    "    for x in palavra:  # Passando a estruturura For e retornando os valores\n",
    "    print(x)\n",
    "        \n",
    "desempacote(\"paralelepipedo\")  #  Usando uma string simples\n",
    "# A função se torna muito poderosa para grandes retornos temos o exemplo com uma lista\n",
    "lista = ['Imagine', 'uma', 'nova', 'história', 'para', 'sua', 'vida', 'e', 'acredite', 'nela']  \n",
    "desempacote(lista)  # Retorna todos os valores da lista\n",
    "\n",
    "'''Nomeando parametros''' \n",
    "# Em alguns momento a função já vai vir com os paremetros nomeados quer dizer que ja tem um valor alocado ao\n",
    "# determinado parametro mais ele pode ser substituido por outro valor.\n",
    "\n",
    "def valores(nome, sob_nome='Barcelos'):  # Criando os parametros sendo um de entrada e outro alocado\n",
    "    print(f'Olá {nome} {sob_nome}, tudo bem?')  # Exibirá os valores \n",
    "\n",
    "valores('Wendell')  # Retornará os dois valores porem com uma entrada\n",
    "valores('Wendell', 'Pestana')  # Também podemos mudar os valores quando o parametro vem alocado retornar o valor de entrada\n",
    " \n",
    "'''Args, Kwargs'''\n",
    "# Args são parametros direcionados a uma lista com valores indefinidos, com varias entradas\n",
    "# Kwargs são parametros direcionados a um dicionario com valores indefinidos, com varias entradas\n",
    "\n",
    "def lojinha(modelo, *args, **kwargs):  # Passando os paramentros simples, args e kwargs\n",
    "    print(f'Você escolheu o modelo: {modelo}')  # Retorna o valor simples\n",
    "    print('-' * 50)\n",
    "    \n",
    "    for arg in args:  # Usando for para retornar todos os valores alocados na lista\n",
    "        print(arg)\n",
    "    print('-' * 50)\n",
    "    \n",
    "    for kw in kwargs:  # Usando for para retornar todos os valores alocados no dicionario\n",
    "        print(kw, ':', kwargs[kw])\n",
    "        \n",
    "        \n",
    "lojinha('Tenis Nike 4 Molas',                             # Entrada simples\n",
    "        'Preto', 'Azul', 'Cinza', 'Branco', 'Amarelho',   # Usando varios valores no args\n",
    "        tipo='Nike Air', cor='Preto/Branco', tamanho=42)  # Usando varios valores no Kwargs\n",
    "\n",
    "'''Argumentos Posicionais e nomeados'''\n",
    "# def nome_função(p1, p2, /, p_or_kwd, *, kw1, kw2)\n",
    "#                   |          |                |\n",
    "#                   |   Posicional ou Chaveado  | \n",
    "#            Posicional apenas                  |\n",
    "#                                        Chaveado apenas\n",
    "\n",
    "# Argumentos posicional-ou-nomeados: Se / e * não estão presentes na definição da função, argumentos podem ser passados para uma função por posição ou por nome.\n",
    "# Parâmetros somente-posicionais: Olhando com um pouco mais de detalhes, é possível definir certos parâmetros como somente-posicional. Se somente-posicional, a ordem do parâmetro importa, \n",
    "# e os parâmetros não podem ser passados por nome. Parâmetros somente-posicional são colocados antes de / (barra). A / é usada para logicamente separar os argumentos somente-posicional dos demais parâmetros. \n",
    "# Se não existe uma / na definição da função, não existe parâmetros somente-posicionais.\n",
    "# Parâmetros após a / podem ser posicional-ou-nomeado ou somente-nomeado.\n",
    "# Argumentos somente-nomeados: Para definir parâmetros como somente-nomeado, indicando que o parâmetro deve ser passado por argumento nomeado, \n",
    "# colocamos um * na lista de argumentos imediatamente antes do primeiro parâmetro somente-nomeado.\n",
    "\n",
    "def funcao_normal(arg):  # Criando uma função normal com um retorno simples\n",
    "    print(arg)\n",
    "    \n",
    "def posicional(arg, /):  # Criando uma função posicional \n",
    "    print(arg)\n",
    "    \n",
    "def chaveado(*, arg):  # Criando uma função chaveado\n",
    "    print(arg)\n",
    "    \n",
    "def chaveado(pos, /, normal, *, chave):  # Criando uma função combinando todas\n",
    "    print(pos, normal, chave)\n",
    "    \n",
    "\n",
    "funcao_normal(1)  # O retorno será normal a partir das entradas de forma simples\n",
    "funcao_normal(arg=5)\n",
    "\n",
    "posicional(1)  # O retorno será normal porem no segundo exemplo terá um erro aonde passando o parametro ele \n",
    "posicional(arg=5)  # não aceitará o valor por conta da posição\n",
    "\n",
    "chaveado(arg=1)  # Retornará o argumento porem não o valor posicional somente o primeiro aparecerá\n",
    "chaveado(1)\n",
    "\n",
    "chaveado(1, normal=5, chave='Wendell')  # O retorno será a combinação\n",
    "\n",
    "'''Função Lambda'''\n",
    "# Uma forma muito usada dentro do analise da dados com Pandas e Numpy é as funções Lambdas, uma sintaxe simples\n",
    "# e objetiva de trazer retorno diminuindo o tamanho da função, muito usada com estruturas de controle.\n",
    "\n",
    "def increment(x):  # temos uma função de incremento na qual recebe um valor e soma mais 1\n",
    "    return x + 1  # Retorna o valor + 1\n",
    "\n",
    "increment(1)  # Temos a entrada do valor 1 sendo somado a 1 retornando 2\n",
    "\n",
    "# Podemos ver a mesma função usando o Lambda \n",
    "increment = lambda n: n + 1  # Com o lambda podemos ter o mesmo resultado de forma simples\n",
    "increment(5)  # O retorno será a soma de 5 + 1\n",
    "\n",
    "    "
   ]
  },
  {
   "cell_type": "code",
   "execution_count": 2,
   "metadata": {},
   "outputs": [],
   "source": [
    "# EXERCICIOS FUNÇÕES -> https://wiki.python.org.br/ExerciciosFuncoes"
   ]
  },
  {
   "cell_type": "code",
   "execution_count": 15,
   "metadata": {},
   "outputs": [
    {
     "data": {
      "text/plain": [
       "180.0"
      ]
     },
     "execution_count": 15,
     "metadata": {},
     "output_type": "execute_result"
    }
   ],
   "source": [
    "'''Ex1. Crie uma função que receba 2 números. O primeiro número é um valor e o segundo um percentual.\n",
    "Retorne o valor do primeiro número somado do aumento do percentual do mesmo'''\n",
    "\n",
    "def soma_percent(val, porc):  # A \n",
    "    porc = porc / 100\n",
    "    return val + (val * porc)\n",
    "\n",
    "soma_percent(100, 80)"
   ]
  },
  {
   "cell_type": "code",
   "execution_count": 17,
   "metadata": {},
   "outputs": [
    {
     "data": {
      "text/plain": [
       "22"
      ]
     },
     "execution_count": 17,
     "metadata": {},
     "output_type": "execute_result"
    }
   ],
   "source": [
    "'''Ex2. Faça um programa, com uma função que necessite de três argumentos, e que forneça a soma desses \n",
    "três argumentos. '''\n",
    "\n",
    "def soma_de_num(n1, n2, n3):\n",
    "    return n1 + n2 + n3\n",
    "\n",
    "soma_de_num(5, 8, 9)"
   ]
  },
  {
   "cell_type": "code",
   "execution_count": 22,
   "metadata": {},
   "outputs": [
    {
     "data": {
      "text/plain": [
       "'Positivo'"
      ]
     },
     "execution_count": 22,
     "metadata": {},
     "output_type": "execute_result"
    }
   ],
   "source": [
    "'''Ex3. Faça um programa, com uma função que necessite de um argumento. A função retorna o valor de caractere \n",
    "‘P’, se seu argumento for positivo, e ‘N’, se seu argumento for zero ou negativo. '''\n",
    "\n",
    "def neg_pos(x):\n",
    "    if x > 0:\n",
    "        return 'Positivo'\n",
    "    else:\n",
    "        return 'Negativo'\n",
    "    \n",
    "neg_pos(20)"
   ]
  },
  {
   "cell_type": "code",
   "execution_count": null,
   "metadata": {},
   "outputs": [],
   "source": [
    "'''Ex4. Faça um programa com uma função chamada somaImposto. A função possui dois parâmetros formais: \n",
    "taxaImposto, que é a quantia de imposto sobre vendas expressa em porcentagem e custo, que é o custo de \n",
    "um item antes do imposto. A função “altera” o valor de custo para incluir o imposto sobre vendas. '''\n",
    "\n",
    "def somaImposto(custo, taxaImposto):\n",
    "    porc = taxaImposto / 100\n",
    "    return f'Valor de Custo: {custo} | Taxa de Imposto: {taxaImposto}% | Valor a Pagar: {custo + (custo * porc)}'\n",
    "        \n",
    "\n",
    "somaImposto(1500, 10)"
   ]
  },
  {
   "cell_type": "code",
   "execution_count": null,
   "metadata": {},
   "outputs": [],
   "source": [
    "'''Ex5. Faça um programa que use a função valorPagamento para determinar o valor a ser pago por uma \n",
    "prestação de uma conta. O programa deverá solicitar ao usuário o valor da prestação e o número de dias \n",
    "em atraso e passar estes valores para a função valorPagamento, que calculará o valor a ser pago e \n",
    "devolverá este valor ao programa que a chamou. O programa deverá então exibir o valor a ser pago na tela. \n",
    "Após a execução o programa deverá voltar a pedir outro valor de prestação e assim continuar até que seja \n",
    "informado um valor igual a zero para a prestação. Neste momento o programa deverá ser encerrado, exibindo \n",
    "o relatório do dia, que conterá a quantidade e o valor total de prestações pagas no dia. O cálculo do \n",
    "valor a ser pago é feito da seguinte forma. Para pagamentos sem atraso, cobrar o valor da prestação. \n",
    "Quando houver atraso, cobrar 3% de multa, mais 0,1% de juros por dia de atraso.  '''\n",
    "\n",
    "def valorPagamento(valor, atraso):\n",
    "    multa = valor + (valor * 0.03)\n",
    "    val = valor + (multa * (atraso * 0.01))\n",
    "    return val\n",
    "\n",
    "#while True:\n",
    "    x = int(input('Valor a Pagar: '))\n",
    "    y = int(input('Atraso em dias: '))\n",
    "    if x <= 0:\n",
    "        break\n",
    "    valorPagamento(x, y)"
   ]
  },
  {
   "cell_type": "code",
   "execution_count": 30,
   "metadata": {},
   "outputs": [
    {
     "name": "stdout",
     "output_type": "stream",
     "text": [
      "16\n"
     ]
    }
   ],
   "source": [
    "'''Manipulação de Arquivos'''\n",
    "# Com o python existe algumas formas de manipular arquivos existentes ou até mesmo criar arquivos, apagar e reescrever\n",
    "\n",
    "# df = open('arquivo.txt', 'w')  # Nesse momento o python criou um arquivo de texto para escrita, porem ele subescreve o arquivo\n",
    "# df.close()  # Para finalizar o arquivo\n",
    "# # A partir desse arquivo podemos ler, escrever, adicionar, subescrever\n",
    "# df = open('arquivo.txt', 'r')  # O read ler o arquivo\n",
    "# df.close()\n",
    "# df = open('arquivo.txt', 'a')  # O append vai escrever sem apagar ou subescrever o que tem no arquivo\n",
    "# df.close()\n",
    "# df = open('arquivo.txt', 'r+')  # O read plus ele vai ler e escrever\n",
    "# df.close()\n",
    "\n",
    "# Para não ter nenhum problema de perda de dados usamos uma função WITH\n",
    "# with open('arquivo.txt') as df:  # É passado para a função abrir e colocar os arquivos na variavel df\n",
    "#     dados = df.read()  # Criado mais uma variavel para leitura dos dados \n",
    "# print(dados)  # Exibe os valores da variavel \n",
    "# print(df.closed)  # E retorna se a variavel df foi fechada após rodar a função\n",
    "\n",
    "# # Após fechar um arquivo ele não consegue ler precisa abrir novamente\n",
    "# df = open('arquivo.txt')\n",
    "# df.close()\n",
    "# df.read()  # Apos fechar o arquivo precisa abrir novamente para leitura senão ele dar erro e nao ler\n",
    "\n",
    "# Adicionando valor no arquivo usando o with\n",
    "with open('arquivo.txt','a') as df:\n",
    "    f = 'Marcelo (48.522)'\n",
    "    print(df.write(f))\n",
    "    df.close()\n",
    "    \n",
    "d = open('arquivo.txt','r')\n",
    "d.read()\n",
    "df.close()    "
   ]
  },
  {
   "cell_type": "code",
   "execution_count": 28,
   "metadata": {},
   "outputs": [
    {
     "data": {
      "text/plain": [
       "<_io.TextIOWrapper name='arquivo.txt' mode='a' encoding='cp1252'>"
      ]
     },
     "execution_count": 28,
     "metadata": {},
     "output_type": "execute_result"
    }
   ],
   "source": [
    "df"
   ]
  },
  {
   "cell_type": "code",
   "execution_count": null,
   "metadata": {},
   "outputs": [],
   "source": [
    "'''Funções - *args **kwargs'''\n",
    "# Criar uma função que recebe os valores em kwargs mais só exibe se todos os valores estiverem inseridos\n",
    "def func(*args, **kwargs):\n",
    "    print(args)\n",
    "\n",
    "    nome = kwargs.get('nome')  # A função get vai buscar dentro dos valores de kwargs se a chave nome foi inserido e retornará na variavel\n",
    "\n",
    "    if nome is not None:  # Se nome não for NONE ele exibirá os valores senão exibirá uma frase.\n",
    "        print(kwargs)\n",
    "    else:\n",
    "        print('Insira todos os dados')"
   ]
  },
  {
   "cell_type": "code",
   "execution_count": null,
   "metadata": {},
   "outputs": [],
   "source": [
    "func(145, 51, sobrenome='barcelos', idade=30)"
   ]
  },
  {
   "cell_type": "code",
   "execution_count": 29,
   "metadata": {},
   "outputs": [],
   "source": [
    "'''EX1 - Crie uma função que recebe uma função2 como parametro e retorne o valor da função2 executada'''\n",
    "\n",
    "def func():  # A primeira função a qual vai retornar não terá parametro \n",
    "    return 'Hello world'\n",
    "\n",
    "def func2(funcao):  # A função 2 vai receber um parametro porem o retorno dela será a função 1 na qual vai receber o valor de retorno da func1\n",
    "    return funcao()\n",
    "\n",
    "exec = func2(func)  # Alocando a função 1 como parametro da func 1 \n",
    "print(exec)"
   ]
  },
  {
   "cell_type": "code",
   "execution_count": null,
   "metadata": {},
   "outputs": [],
   "source": [
    "'''Expressões Lambda'''\n",
    "# Vamos pegar um exemplo para ordenar uma lista\n",
    "\n",
    "lista = [\n",
    "         ['P1', 13],\n",
    "         ['P2', 6],\n",
    "         ['P3', 7],\n",
    "         ['P4', 50],\n",
    "         ['P5', 8],\n",
    "]\n",
    "\n",
    "def func(item):  # Criamos uma função para retornar o item alocado no indice 1\n",
    "    return item[1]\n",
    "\n",
    "lista.sort(key=func)  # Usando a funçao sort para ordenar a lista passamos que a ordenação será pela chave da função\n",
    "print(lista)          # Se quiser a ordem do maior para o menor use a função reverse=True\n",
    "\n",
    "# Usando lambda\n",
    "\n",
    "lista.sort(key=lambda item: item[1])  # Simplificando a função com lambda \n",
    "print(lista)\n",
    "\n",
    "# Outra forma \n",
    "print(sorted(lista, key=lambda i: i[1]))  # Vai fazer da msm forma sendo ainda mais simplificada\n",
    "\n",
    "# Outra forma de uso do lambda\n",
    "\n",
    "soma = lambda x, y: x + y  # Chamamos a expressão e os parametros com o retorno\n",
    "print(soma(5, 2))\n"
   ]
  },
  {
   "cell_type": "code",
   "execution_count": null,
   "metadata": {},
   "outputs": [],
   "source": [
    "'''List Comprehension'''\n",
    "# Compreensão de listas é a forma mais simples de interar em uma lista simplificando o uso de estruturas\n",
    "\n",
    "l1 = [1,2,3,4,5,6,7,8,9]  # Temos uma lista e precisamos multiplicar todos os valores dessa lista\n",
    "l2 = []  # E criamos uma lista vazia para colocar todos os valores multiplicados por 2\n",
    "\n",
    "for i in l1:  # Usando o FOR para passar por todos os valores\n",
    "    v = i * 2  # Temos o v recebendo cada item e multiplicando por 2\n",
    "    l2.append(v)  # Usando a função apppend ele envia para lista vazia todos os valores gerando a l2\n",
    "print(l2)  # Retorna o valor da lista\n",
    "\n",
    "# Sendo uma estrutura bem maior do que se usar as list comprehensions, vejamos\n",
    "\n",
    "l3 = [v * 2 for v in l1]  # Usando uma forma mais simples aonde o [valor * 2 para valor em l1]\n",
    "print(l3)  # Retorna a mesma lista porem de forma simplificada\n",
    "\n",
    "\n",
    "l4 = ['Laura', 'Mauro', 'Marcelo']  # Usando uma lista de string\n",
    "ex = [v.replace('a', '@').upper() for v in l4]  # Passamos a função replace para substituir o 'a' por '@' e o upper para colocar tudo em maiusculo\n",
    "print(ex) \n",
    "\n",
    "# Usando IF\n",
    "\n",
    "l5 = list(range(100))  # Criamos uma lista com o tamanho de 100 numeros\n",
    "ex2 = [v for v in l5 if v % 6 == 0]  # Na variavel irá alocar todos os valores que dividido por 6 é igual a 0\n",
    "print(ex2)\n",
    "\n",
    "ex3 = [v for v in l5 if v % 5 == 0 if v % 6 == 0]# Na variavel irá alocar todos os valores que dividido por 5 e por 6 que é igual a 0\n",
    "print(ex3)\n"
   ]
  },
  {
   "cell_type": "code",
   "execution_count": null,
   "metadata": {},
   "outputs": [],
   "source": [
    "'''ZIP e ZIP_LONGEST - Unindo iteráveis'''\n",
    "# Supondo que temos uma quantidade de codigo e duas listas de cidades e estados na qual precisamos agrupar esses dados\n",
    "\n",
    "cidades = ['São Paulo', 'Belo Horizonte', 'Salvador', 'Bangu']\n",
    "\n",
    "estados = ['SP', 'MG', 'BA', 'RJ']\n",
    "\n",
    "estados_cidades = zip(estados, cidades)  # Ao criar uma lista usando o zip ele retorna um gerador na qual é necessario transformar em lista ou usar o for para retorno dos dados\n",
    "print(estados_cidades)  # Retorna o valor em memoria\n",
    "\n",
    "print(list(estados_cidades))  # Transformando em lista os valores retornaram \n",
    "\n",
    "for v in estados_cidades:  # Usando for para desempacotar \n",
    "    print(v)\n",
    "\n",
    "# A diferença do zip para o zip_longest é que o zip cria uma lista com os menos valores já a zip_longest usa todos os valores porem usa o NONE para valores que nao tem chave\n",
    "# O zip_longest é necessario importar o modulo itertools - from itertools import zip_longest\n",
    "\n",
    "from itertools import zip_longest, count  # importando os modulos\n",
    "\n",
    "indice = count()  # O modulo Count gera um contador\n",
    "# Usando as listas acima estados e cidades vamos desempacotar usando zip pois o zip_longest pode gerar algo muito grande e travar o notebook\n",
    "\n",
    "cidades_estados =  zip(indice, estados, cidades)  # Criando o gerador atraves do zip \n",
    "\n",
    "for indice, estado, cidade in cidades_estados:  # O for vai desempacotar os valores, uma otima forma para numera os valores com Count\n",
    "    print(indice, estado, cidade)\n"
   ]
  },
  {
   "cell_type": "code",
   "execution_count": null,
   "metadata": {},
   "outputs": [],
   "source": [
    "'''\n",
    "Considerando duas listas de inteiros ou float (lista A e lista B). Some os valores nas listas retornando uma nova lista com os valores somados:\n",
    "Se uma lista for maiors que a outra, a soma só vai considerar o tamanho da lista menor.'''\n",
    "\n",
    "lista_a = [1,3,5,7,9,11,13,15,17,19]\n",
    "lista_b = [2,4,6,8,10,12,14,16,18,20]\n",
    "\n",
    "# 1ª forma\n",
    "lista_soma = []  \n",
    "\n",
    "for i in range(len(lista_a)): # Usando o range e o len para pegar o tamanho pelos indices\n",
    "    lista_soma.append(lista_a[i] + lista_b[i])  # O append vai colocar cada valor na lista vazia pegando a soma pelos indices\n",
    "\n",
    "print(lista_soma)\n",
    "\n",
    "# 2ª forma usando list comprehensions - Forma mais pythonica\n",
    "lista_soma2 = [x + y for x, y in zip(lista_a, lista_b)]\n",
    "print(lista_soma2)\n"
   ]
  },
  {
   "cell_type": "code",
   "execution_count": null,
   "metadata": {},
   "outputs": [],
   "source": [
    "'''COUNT - Contadores'''\n",
    "\n",
    "from itertools import count\n",
    "contador = count(start=2, step=2)\n",
    "\n",
    "for c in contador:\n",
    "    print(c)\n",
    "    if c >= 10:\n",
    "        break\n",
    "\n",
    "# Adicionando indices com o contador\n",
    "\n",
    "cont = count()  #Criando um contador para trazer os indices da lista\n",
    "lista_nomes = ['Luiz', 'João', 'Maria', 'José', 'Silva', 'Eduardo']  # Com uma lista de nome \n",
    "\n",
    "lista = zip(cont, lista_nomes)  # Criando uma lista e usando o zip para pegar o contador e os valores da outra lista\n",
    "\n",
    "print(list(lista))  # O retorno dos valores será criando uma lista e exibindo os valores\n"
   ]
  },
  {
   "cell_type": "code",
   "execution_count": 1,
   "metadata": {},
   "outputs": [
    {
     "name": "stdout",
     "output_type": "stream",
     "text": [
      "Agrupamento: A\n",
      "4 alunos tiraram nota A\n",
      "Agrupamento: B\n",
      "3 alunos tiraram nota B\n",
      "Agrupamento: C\n",
      "2 alunos tiraram nota C\n",
      "Agrupamento: D\n",
      "2 alunos tiraram nota D\n"
     ]
    }
   ],
   "source": [
    "'''GROUPBY -  Agrupamento de dados'''\n",
    "\n",
    "from itertools import groupby\n",
    "\n",
    "alunos = [\n",
    "    {'nome': 'Luiz', 'nota': 'A'},\n",
    "    {'nome': 'Leticia', 'nota': 'B'},\n",
    "    {'nome': 'Fabricio', 'nota': 'A'},\n",
    "    {'nome': 'Rose', 'nota': 'C'},\n",
    "    {'nome': 'Joana', 'nota': 'D'},\n",
    "    {'nome': 'João', 'nota': 'A'},\n",
    "    {'nome': 'Eduardo', 'nota': 'B'},\n",
    "    {'nome': 'Andre', 'nota': 'A'},\n",
    "    {'nome': 'Anderson', 'nota': 'C'},\n",
    "    {'nome': 'José', 'nota': 'B'},\n",
    "    {'nome': 'Cecilia', 'nota':'D'}\n",
    "]\n",
    "ordena = lambda item: item['nota']\n",
    "alunos.sort(key=ordena)\n",
    "alunos_agrupados = groupby(alunos, ordena)\n",
    "\n",
    "for agrupamento, valores_agrupados in alunos_agrupados:\n",
    "    print(f'Agrupamento: {agrupamento}')\n",
    "    qtd = len(list(valores_agrupados))\n",
    "    print(f'{qtd} alunos tiraram nota {agrupamento}')\n",
    "\n"
   ]
  },
  {
   "cell_type": "code",
   "execution_count": 2,
   "metadata": {},
   "outputs": [
    {
     "name": "stdout",
     "output_type": "stream",
     "text": [
      "[42 28 40 36 45 34 38 42 46 20]\n",
      "[84, 56, 80, 72, 90, 68, 76, 84, 92, 40]\n",
      "[[84, 56, 80, 72, 90, 68, 76, 84, 92, 40]]\n"
     ]
    }
   ],
   "source": [
    "\"\"\"MAP - Mapeamento de dados\"\"\"\n",
    "\n",
    "produtos = [\n",
    "    {'prod': 'Cadeira Poltrona', 'preco': 399},\n",
    "    {'prod': 'Canto Alemão', 'preco': 84.50},\n",
    "    {'prod': 'Rádio Antigo', 'preco': 278},\n",
    "    {'prod': 'Geladeiras', 'preco': 1199},\n",
    "    {'prod': 'TV', 'preco': 1599},\n",
    "    {'prod': 'Perfumaria', 'preco': 59},\n",
    "    {'prod': 'Cadeira Madeira', 'preco': 199},\n",
    "    {'prod': 'Lustre Sala De Jantar', 'preco': 159},\n",
    "    {'prod': 'TV Samsung', 'preco': 2199},\n",
    "    {'prod': 'Kunai', 'preco': 99},\n",
    "]\n",
    "\n",
    "pessoas = [\n",
    "    {'nome': 'Luiz', 'idade': 32},\n",
    "    {'nome': 'Maria', 'idade': 26},\n",
    "    {'nome': 'Jorge', 'idade': 60},\n",
    "    {'nome': 'Lucas', 'idade': 18},\n",
    "    {'nome': 'Ingrid', 'idade': 12},\n",
    "    {'nome': 'Lorenzo', 'idade': 42},\n",
    "    {'nome': 'Marcus', 'idade': 33},\n",
    "    {'nome': 'Pedro', 'idade': 58},\n",
    "    {'nome': 'Augusto', 'idade': 22},\n",
    "    {'nome': 'Marlon', 'idade': 37},\n",
    "]\n",
    "\n",
    "# Usando a lista produtos é necessario alterar os valores do preço com desconto e para isso o MAP vai ser a solução\n",
    "# Vamos definir uma função para fazer a alteração de valores\n",
    "\n",
    "#print(produtos[0])\n",
    "#print()\n",
    "\n",
    "def aumenta_preco(p):\n",
    "    p['preco'] = round(p['preco'] * 1.05, 2)  # Função pega o parametro com o indice preco e atribui o valor da porcentagem multiplicado a preco\n",
    "    return p\n",
    "\n",
    "novos_precos = list(map(aumenta_preco, produtos))  # O Map cria uma nova lista aonde ele vai substituir os valores dos produtos com base na função\n",
    "\n",
    "#for produto in novos_precos:  # Usando um for para os valores retornarem de forma visivel\n",
    "#    print(produto)\n",
    "\n",
    "\n",
    "# Usando o MAP com lista de valores numericos\n",
    "\n",
    "import numpy as np\n",
    "\n",
    "lista = np.random.randint(50, size=10)  # Usando o random pelo numpy, a função randint informa o range dos valores até 50 e passando o tamanho da amostra sendo 10 valores\n",
    "\n",
    "l3 = []\n",
    "\n",
    "nova_lista = list(map(lambda x: x * 2, lista))  #Usando o map para mapear a lista e a função lambda vai pegar cada elemento e multiplicar por 2, convertendo em uma lista\n",
    "l3.append([i * 2 for i in lista])  # Usando list Comprehensions para colocar a lista gerada em uma lista \n",
    "\n",
    "\n",
    "print(lista)\n",
    "print(nova_lista)\n",
    "print(l3)\n",
    "\n",
    "\n"
   ]
  },
  {
   "cell_type": "code",
   "execution_count": 3,
   "metadata": {},
   "outputs": [
    {
     "name": "stdout",
     "output_type": "stream",
     "text": [
      "[19, 94, 9, 57, 13, 87, 21, 11, 72, 5, 17, 7, 96, 74, 84, 62, 66, 46, 25, 75, 48, 85, 51, 22, 81]\n"
     ]
    }
   ],
   "source": [
    "import random  # Importando a função random para trazer valores aleatorios\n",
    "\n",
    "# Usando a função sample passando o range de valores e o tamanho da amostra retornar uma lista de valores aleatorios com o tamanha de 10 indices\n",
    "l4 = random.sample(range(1,100), k=25)\n",
    "\n",
    "print(l4)"
   ]
  },
  {
   "cell_type": "code",
   "execution_count": 4,
   "metadata": {},
   "outputs": [
    {
     "name": "stdout",
     "output_type": "stream",
     "text": [
      "[21, 22, 25, 46, 48, 51, 57]\n",
      "[9, 57, 87, 21, 72, 96, 84, 66, 75, 48, 51, 81]\n",
      "\n",
      "[9, 57, 87, 21, 72, 96, 84, 66, 75, 48, 51, 81]\n",
      "\n",
      "{'prod': 'Canto Alemão', 'preco': 88.73}\n",
      "{'prod': 'Perfumaria', 'preco': 61.95}\n",
      "{'prod': 'Kunai', 'preco': 103.95}\n",
      "\n",
      "{'nome': 'Maria', 'idade': 26}\n",
      "{'nome': 'Augusto', 'idade': 22}\n"
     ]
    }
   ],
   "source": [
    "'''FILTER -  Filtragem de dados'''\n",
    "# A função filter é bem parecida com a map, ela vai filtrar na lista respeitando a estrutura passada para ela\n",
    "\n",
    "# Usando a lista random acima iremos buscar valores entre 20 a 35\n",
    "filtro_lista = list(filter(lambda x: x > 20 and x < 59, l4))  # Usando o filter ele vai buscar dentro dos valores da lista random e retornar pela estrutura solicitada\n",
    "filtro_l2 = [x for x in l4 if x % 3 == 0]  # Usando list Comprehensions a condição é retornar todos os valores multiplos de 3 onde resta 0\n",
    "\n",
    "print(sorted(filtro_lista))  # Ordenando os valores retornados\n",
    "print(filtro_l2)\n",
    "print()\n",
    "\n",
    "# Usando função para retorna a condição acima, o uso da função def é bom porque pode ser reutilizavel em outros locais\n",
    "\n",
    "def filtrando(x):\n",
    "    if x % 3 == 0:\n",
    "        return True\n",
    "\n",
    "div = list(filter(filtrando, l4))\n",
    "print(div)\n",
    "print()\n",
    "\n",
    "# Buscando so produtos a partir do preço, usando a função lambda para passar a condição de retorno dos produtos. Obs: Otimo para buscar valores em dataframes\n",
    "filtro_prods = filter(lambda x: x['preco'] > 50 and x['preco'] < 120, produtos)\n",
    "\n",
    "for p in filtro_prods:\n",
    "    print(p)\n",
    "\n",
    "print()\n",
    "\n",
    "# Usando função para retornar condições na qual pode ser usada outra vezes \n",
    "def filtrar(x):  # Criando a função de filtro\n",
    "    if x['idade'] > 18 and x['idade'] < 29:  # Passando as condições usando o IF para e retornando verdadeiro\n",
    "        return True\n",
    "\n",
    "filt_idade = filter(filtrar, pessoas)  # O filtro recebe a função e a lista a filtrar\n",
    "\n",
    "for p in filt_idade:\n",
    "    print(p)\n"
   ]
  },
  {
   "cell_type": "code",
   "execution_count": 5,
   "metadata": {},
   "outputs": [
    {
     "name": "stdout",
     "output_type": "stream",
     "text": [
      "[69, 17, 45, 22, 97, 31, 18, 75, 11, 30, 55, 78, 51, 89, 13, 57, 77, 19, 4, 53, 21, 63, 34, 39, 48]\n"
     ]
    }
   ],
   "source": [
    "import random  # Importando a função random para trazer valores aleatorios\n",
    "\n",
    "# Usando a função sample passando o range de valores e o tamanho da amostra retornar uma lista de valores aleatorios com o tamanha de 10 indices\n",
    "l4 = random.sample(range(1,100), k=25)\n",
    "\n",
    "print(l4)"
   ]
  },
  {
   "cell_type": "code",
   "execution_count": 6,
   "metadata": {},
   "outputs": [
    {
     "name": "stdout",
     "output_type": "stream",
     "text": [
      "1116\n",
      "[1116]\n",
      "34.0\n"
     ]
    }
   ],
   "source": [
    "'''REDUCE - Acumuladora de valores''',\n",
    "# A função Reduce acumula valores ela soma todos os valores vejamos\n",
    "from functools import reduce  # necessario importar-lo\n",
    "\n",
    "soma_lista = reduce(lambda ac, i: i + ac, l4, 0)  # A função reduce nesse caso vai receber dois parametros na qual cada item vai somar com o acumulador que se inicia com 0\n",
    "\n",
    "l5 = []\n",
    "l5.append(reduce(lambda ac, i: i + ac, l4, 0))  # Nesse momento todas as vezes que lista L4 gira ele soma todos os valores e adiciona na lista\n",
    "\n",
    "print(soma_lista)\n",
    "print(l5)\n",
    "\n",
    "# Usando o reduce para obter a media de idade da lista acima\n",
    "\n",
    "# No reduce a expressão fica reduce( lambda recebe 2 parametros item, acumulado: item soma com acumulador, lista, iniciando em valor)\n",
    "media_reduce = reduce(lambda ac, i: ac + i['idade'], pessoas, 0)\n",
    "# A ideia é retorna a soma de todos os valores para obter a media dividindo pelo tamanho da lista \n",
    "print(media_reduce / len(pessoas))\n"
   ]
  },
  {
   "cell_type": "code",
   "execution_count": 7,
   "metadata": {},
   "outputs": [],
   "source": [
    "# Importando a biblioteca Numpy\n",
    "import numpy as np"
   ]
  },
  {
   "cell_type": "code",
   "execution_count": 50,
   "metadata": {},
   "outputs": [
    {
     "name": "stdout",
     "output_type": "stream",
     "text": [
      "array: dtype=int32 | shape=(5,)| size=5 | itemsize=4 | strides=(4,)\n",
      "matriz: dtype=int32 | shape=(2, 5) | size=10 | itemsize=4 | strides=(20, 4)\n",
      "\n",
      "Zeros: [[0. 0.]\n",
      " [0. 0.]\n",
      " [0. 0.]]\n",
      "Ones: [[1. 1.]\n",
      " [1. 1.]\n",
      " [1. 1.]]\n",
      "Eye: [[1. 0. 0. 0.]\n",
      " [0. 1. 0. 0.]\n",
      " [0. 0. 1. 0.]\n",
      " [0. 0. 0. 1.]]\n",
      "Arange: [ 1  3  5  7  9 11 13 15 17 19]\n",
      "Linspace: [ 5.   6.5  8.   9.5 11. ]\n",
      "Logspace: [ 1.          3.16227766 10.        ]\n",
      "Random Int: [20  6 48 34 61 28 34 64 24 14]\n",
      "Random Normal: [ 1.07825829  1.86407201  5.22085972  0.91600732  1.89630316 -1.039282\n",
      " -1.15955569  3.75433071 -0.39486885  1.82796738]\n"
     ]
    }
   ],
   "source": [
    "'''Array'''\n",
    "# Arrays são objetos que armazenam estruturas sequencias de dados de tipo e tamanhos determinado que apontam\n",
    "# para uma sequência de dados na memória RAM.\n",
    "\n",
    "# Usando a biblioteca numpy vamos criar um array\n",
    "\n",
    "array = np.array([1,2,3,4,5])\n",
    "\n",
    "# A matriz é uma estrutura na qual é um array de array.\n",
    "matriz = np.array([[1,2,3,4,5],[6,7,8,9,10]])\n",
    "\n",
    "# Com o numpy existe diversas formas de trabalhar com os arrays\n",
    "# Dados isso é fácil perceber que um array tem as seguintes características que podem ser acessadas na forma de atributos deste objeto:\n",
    "\n",
    "   # dtype: O tipo de dados do array\n",
    "   # shape: O tamanho do array em linhas e colunas\n",
    "   # size: O tamanho do array em quantidade de elementos\n",
    "   # itemsize: O consumo de memória de cada elemento do array (em bytes)\n",
    "   # strides: Uma distancia em bytes entre os elementos armazenados na memória\n",
    "\n",
    "print(\n",
    "    f\"array: dtype={array.dtype} | shape={array.shape}| size={array.size} \"\n",
    "    f\"| itemsize={array.itemsize} | strides={array.strides}\"\n",
    ")\n",
    "\n",
    "print(\n",
    "    f\"matriz: dtype={matriz.dtype} | shape={matriz.shape} | size={matriz.size} \"\n",
    "    f\"| itemsize={matriz.itemsize} | strides={matriz.strides}\"\n",
    ")\n",
    "print()\n",
    "# Dado que inicializações de diferentes tipos de array são bastante comuns, a biblioteca contém uma série \n",
    "# de funcionalidades que permitem criar arrays com diferentes tipos de dados\n",
    "# np.zeros -> Cria um array preenchido com zeros\n",
    "print(f'Zeros: {np.zeros(shape=(3,2))}')\n",
    "# np.ones -> Cria um array preenchido com um's\n",
    "print(f'Ones: {np.ones(shape=(3,2))}')\n",
    "# np.eye -> Cria a matriz identidade com o tamanho específicado\n",
    "print(f'Eye: {np.eye(4)}')\n",
    "# np.arange -> Mesma coisa que a função range, só que para arrays\n",
    "print(f'Arange: {np.arange(1,20,2)}')\n",
    "# np.linspace -> Cria um array entre dois números espaçados linearmente\n",
    "print(f'Linspace: {np.linspace(5,11, num=5)}')\n",
    "# np.logspace -> Cria um array entre dois números espaçados logaritimicamente\n",
    "print(f'Logspace: {np.logspace(0, 1, 3)}')\n",
    "# np.random.int -> Cria um array de valores aleatóries entre um valor menor e maior (exclusivo)\n",
    "print(f'Random Int: {np.random.randint(1,100,size=10)}')\n",
    "# np.random.normal -> Cria um array aleatório com valores baseados em uma distribuição normal\n",
    "print(f'Random Normal: {np.random.normal(1,2,10)}') \n"
   ]
  },
  {
   "cell_type": "code",
   "execution_count": 62,
   "metadata": {},
   "outputs": [
    {
     "name": "stdout",
     "output_type": "stream",
     "text": [
      "[[ 5.   5.4  5.8  6.2]\n",
      " [ 6.6  7.   7.4  7.8]\n",
      " [ 8.2  8.6  9.   9.4]\n",
      " [ 9.8 10.2 10.6 11. ]]\n",
      "Bytes: 128\n"
     ]
    }
   ],
   "source": [
    "'''Gere uma matriz 4x4 de números igualmente espaçados entre 5 e 11 e calcule o total de memória utilizado \n",
    "para armazenar este array'''\n",
    "ex = np.linspace(5,11,num=16).reshape(4,4)\n",
    "print(ex)\n",
    "print(f'Bytes: {ex.size * ex.itemsize}')"
   ]
  },
  {
   "cell_type": "code",
   "execution_count": 2,
   "metadata": {},
   "outputs": [
    {
     "name": "stdout",
     "output_type": "stream",
     "text": [
      "[38 38 46 46 13 24  3 54 18 47]\n",
      "[38 38 46 46 13 24  3 54 18 47]\n"
     ]
    }
   ],
   "source": [
    "# Importar biblioteca\n",
    "import numpy as np\n",
    "\n",
    "#RANDOM SEED\n",
    "#np.random.seed() - dada a função random seed ela semeia um valor randomico na raiz da memoria onde em todas\n",
    "# as vezes que o valor da raiz for chamado ele retorna os mesmo valores mesmo usando outra variavel. EX:\n",
    "\n",
    "np.random.seed(30)  # Valor da raiz 30\n",
    "arr3 = np.random.randint(1,100,10)  # Criando um array de valores randomicos\n",
    "print(arr3)  # Retorno dos valores\n",
    "\n",
    "np.random.seed(30)  # Usando o valor da raiz 30 novamente\n",
    "arr4 = np.random.randint(1,100,10)  # Criando outro array de valores randomicos\n",
    "print(arr4)  # Retorno dos valores\n",
    "\n",
    "# Os valores que iram retornar seram os mesmo pois esta usando a função seed com o valor da raiz"
   ]
  },
  {
   "cell_type": "code",
   "execution_count": 11,
   "metadata": {},
   "outputs": [],
   "source": [
    "''' Funções Numpy de agregação - mais recorrentes\n",
    "\n",
    "np.mean: Calcula a média\n",
    "np.median: Calcula a mediana\n",
    "np.min: Calcula o valor mínimo\n",
    "np.max: Calcula o valor máximo\n",
    "np.std: Calcula o desvio-padrão\n",
    "np.var: Calcula a variância\n",
    "np.percentile: Calcula o percentil específicado\n",
    "np.sum: Calcula a soma de todos os elementos\n",
    "np.count_nonzero: Realiza a contagem dos elementos não nulos do array\n",
    "np.unique: Obtém os valores únicos de um array '''\n",
    "\n",
    "np.random.seed(42)\n",
    "A = np.random.normal(loc=5, size=(5, 3))\n",
    "B = np.random.choice([\"A\", \"B\", \"C\"], size=(5, 3))\n",
    "C = np.array([0, 1, 2, 0, 4, 5])\n",
    "D = np.random.normal(size=(5, 3))\n"
   ]
  },
  {
   "cell_type": "code",
   "execution_count": 20,
   "metadata": {},
   "outputs": [
    {
     "data": {
      "text/plain": [
       "0.11177418874303463"
      ]
     },
     "execution_count": 20,
     "metadata": {},
     "output_type": "execute_result"
    }
   ],
   "source": [
    "np.mean(D)"
   ]
  },
  {
   "cell_type": "code",
   "execution_count": null,
   "metadata": {},
   "outputs": [],
   "source": []
  },
  {
   "cell_type": "markdown",
   "metadata": {
    "id": "9QJqyFGvXuQl"
   },
   "source": [
    "Faça um programa que leia um número indeterminado de valores, correspondentes a notas, encerrando a entrada de dados quando for informado um valor igual a -1 (que não deve ser armazenado).\n",
    "\n",
    "Após esta entrada de dados, faça:\n",
    "\n",
    "    1. Mostre a quantidade de valores que foram lidos;\n",
    "    2. Exiba todos os valores na ordem em que foram informados;\n",
    "    3. Exiba todos os valores na ordem inversa à que foram informados;\n",
    "    4. Calcule e mostre a soma dos valores;\n",
    "    5. Calcule e mostre a média dos valores;\n",
    "    6. Calcule e mostre a quantidade de valores acima da média calculada;\n",
    "    7. Calcule e mostre a quantidade de valores abaixo de sete;\n",
    "    8. Encerre o programa com uma mensagem;\n",
    "\n",
    "\n"
   ]
  },
  {
   "cell_type": "code",
   "execution_count": 2,
   "metadata": {
    "id": "reEY6vvpReAI"
   },
   "outputs": [],
   "source": [
    "import numpy as np\n",
    "import pandas as pd"
   ]
  },
  {
   "cell_type": "code",
   "execution_count": 3,
   "metadata": {
    "id": "HurbtqHpRdz4"
   },
   "outputs": [
    {
     "data": {
      "text/plain": [
       "Belgium         39166\n",
       "Israel          35572\n",
       "Czechia         33103\n",
       "Panama          32300\n",
       "Kuwait          30957\n",
       "United State    28414\n",
       "Peru            28213\n",
       "Chile           27455\n",
       "Argentina       26593\n",
       "Spain           26554\n",
       "Name: Dados Covid, dtype: int64"
      ]
     },
     "execution_count": 3,
     "metadata": {},
     "output_type": "execute_result"
    }
   ],
   "source": [
    "### Series (Pandas)\n",
    "# EX: Represente o gráfico abaixo como uma série, na qual os paises são os indices e os casos são os dados.\n",
    "\n",
    "paises = ['Belgium','Israel','Czechia', 'Panama', 'Kuwait', 'United State', 'Peru', 'Chile', 'Argentina', 'Spain']\n",
    "dados = [39166, 35572, 33103, 32300, 30957, 28414, 28213, 27455, 26593, 26554]\n",
    "\n",
    "serie = pd.Series(data=dados, index=paises, name='Dados Covid')\n",
    "serie"
   ]
  },
  {
   "cell_type": "code",
   "execution_count": 4,
   "metadata": {
    "id": "aTsNpIb-RdYZ"
   },
   "outputs": [
    {
     "data": {
      "text/plain": [
       "iso_code\n",
       "AFG         180688.0\n",
       "OWID_AFR         NaN\n",
       "ALB         276415.0\n",
       "DZA         265900.0\n",
       "AND          43067.0\n",
       "              ...   \n",
       "WLF            454.0\n",
       "OWID_WRL         NaN\n",
       "YEM          11822.0\n",
       "ZMB         322207.0\n",
       "ZWE         253508.0\n",
       "Name: total_cases, Length: 234, dtype: float64"
      ]
     },
     "execution_count": 4,
     "metadata": {},
     "output_type": "execute_result"
    }
   ],
   "source": [
    "'''EX: Abaixo carregamos uma série de dados com o número de casos de COVID registrados por país na data mais\n",
    "recente. Cada país é representadado por um código ISO de 3 letras, entretanto, dentro dessa série há alguns \n",
    "códigos que começam com \"OWID_\", que representam grupos de países não oficiais. Por exemplo, \"OWID_AFR\" \n",
    "representa todos os países da áfrica. Para os países que começam com \"OWID_\" troque o valor registrado por np.nan'''\n",
    "\n",
    "serie_owid = pd.read_csv(\n",
    "    \"https://raw.githubusercontent.com/owid/covid-19-data/master/public/data/latest/owid-covid-latest.csv\"\n",
    ").set_index(\"iso_code\")[\"total_cases\"]\n",
    "\n",
    "novo = [x for x in serie_owid.index if x.startswith('OWID_')]\n",
    "serie_owid[novo] = np.nan\n",
    "serie_owid\n",
    "        "
   ]
  },
  {
   "cell_type": "code",
   "execution_count": 5,
   "metadata": {},
   "outputs": [
    {
     "data": {
      "text/plain": [
       "18.16590212458495"
      ]
     },
     "execution_count": 5,
     "metadata": {},
     "output_type": "execute_result"
    }
   ],
   "source": [
    "### Ex: Calcule a distância euclidiana entre duas séries\n",
    "\n",
    "p = pd.Series([1, 2, 3, 4, 5, 6, 7, 8, 9, 10])\n",
    "q = pd.Series([10, 9, 8, 7, 6, 5, 4, 3, 2, 1])\n",
    "\n",
    "(p - q).dot(p - q) ** 0.5"
   ]
  },
  {
   "cell_type": "code",
   "execution_count": 6,
   "metadata": {},
   "outputs": [
    {
     "name": "stdout",
     "output_type": "stream",
     "text": [
      "[[5.49671415 4.8617357  5.64768854 6.52302986 4.76584663]\n",
      " [4.76586304 6.57921282 5.76743473 4.53052561 5.54256004]\n",
      " [4.53658231 4.53427025 5.24196227 3.08671976 3.27508217]\n",
      " [4.43771247 3.98716888 5.31424733 4.09197592 3.5876963 ]\n",
      " [6.46564877 4.7742237  5.0675282  3.57525181 4.45561728]] [[5.5  4.86 5.65 6.52 4.77]\n",
      " [4.77 6.58 5.77 4.53 5.54]\n",
      " [4.54 4.53 5.24 3.09 3.28]\n",
      " [4.44 3.99 5.31 4.09 3.59]\n",
      " [6.47 4.77 5.07 3.58 4.46]]\n"
     ]
    }
   ],
   "source": [
    "np.random.seed(42)\n",
    "A = np.random.normal(loc=5, size=(5,5))\n",
    "print(A, np.round(A, 2))  # Arredondamento de valores no array"
   ]
  },
  {
   "cell_type": "code",
   "execution_count": 7,
   "metadata": {},
   "outputs": [
    {
     "data": {
      "text/plain": [
       "0     True\n",
       "1    False\n",
       "2    False\n",
       "3     True\n",
       "4    False\n",
       "5    False\n",
       "6    False\n",
       "7     True\n",
       "8     True\n",
       "9    False\n",
       "dtype: bool"
      ]
     },
     "execution_count": 7,
     "metadata": {},
     "output_type": "execute_result"
    }
   ],
   "source": [
    "### Filtros Pandas\n",
    "serie1 = pd.Series(data=np.random.randint(100,size=10))  ## Criando series\n",
    "serie2 = pd.Series(data=np.random.randint(100,size=10))\n",
    "\n",
    "((serie1 > 25) & (serie2 < 78))"
   ]
  },
  {
   "cell_type": "code",
   "execution_count": 8,
   "metadata": {},
   "outputs": [
    {
     "data": {
      "text/plain": [
       "[50, 72, 38, 88, 59]"
      ]
     },
     "execution_count": 8,
     "metadata": {},
     "output_type": "execute_result"
    }
   ],
   "source": [
    "serie = [x for x in serie1 if x > 35 ]  ## Filtrando a partir de list comprehesions\n",
    "serie"
   ]
  },
  {
   "cell_type": "code",
   "execution_count": 9,
   "metadata": {},
   "outputs": [
    {
     "data": {
      "text/plain": [
       "False"
      ]
     },
     "execution_count": 9,
     "metadata": {},
     "output_type": "execute_result"
    }
   ],
   "source": [
    "## Usando any e all\n",
    "((serie1 > 25) & (serie2 < 78)).any()  # Ele filtra a partir de um unico valor dentro da estrutura é verdadeiro\n",
    "((serie1 > 25) & (serie2 < 78)).all()  # Ele filtra se todos os valores dentro da estrutura sao verdadeiros"
   ]
  },
  {
   "cell_type": "code",
   "execution_count": 10,
   "metadata": {},
   "outputs": [
    {
     "data": {
      "text/plain": [
       "0     a\n",
       "4     e\n",
       "8     i\n",
       "14    o\n",
       "20    u\n",
       "dtype: object"
      ]
     },
     "execution_count": 10,
     "metadata": {},
     "output_type": "execute_result"
    }
   ],
   "source": [
    "### Usando o isin\n",
    "ser1 = pd.Series(list('abcdefghijlkmnopqrstuwyz'))  ## Cria uma lista em serie dos valores\n",
    "ser1\n",
    "\n",
    "ser1.isin(['a', 'e', 'i', 'o', 'u'])  ## O isin vai buscar os valores e retornar booleano\n",
    "ser1[ser1.isin(['a', 'e', 'i', 'o', 'u'])]  ## O isin vai buscar os valores e retornar uma lista com os valores e seus indices"
   ]
  },
  {
   "cell_type": "code",
   "execution_count": 11,
   "metadata": {},
   "outputs": [
    {
     "data": {
      "text/plain": [
       "3   NaN\n",
       "6   NaN\n",
       "dtype: float64"
      ]
     },
     "execution_count": 11,
     "metadata": {},
     "output_type": "execute_result"
    }
   ],
   "source": [
    "### Usando isnan e isnull - Retorna os valores nulos e not a number (NaN)\n",
    "serie = pd.Series([1,2,3,np.nan,4,5,np.nan])  # Cria uma serie com valores reais e NaN\n",
    "np.isnan(serie)  # Retorna somente os valores NAN\n",
    "serie.isnull()  ## Retorna os valores NAN ou valores vazios\n",
    "serie[serie.isnull()]  ## O valor retorna em uma lista dos valores NAN e os indices"
   ]
  },
  {
   "cell_type": "code",
   "execution_count": 12,
   "metadata": {},
   "outputs": [
    {
     "data": {
      "text/plain": [
       "0    1\n",
       "1    2\n",
       "2    3\n",
       "dtype: int64"
      ]
     },
     "execution_count": 12,
     "metadata": {},
     "output_type": "execute_result"
    }
   ],
   "source": [
    "### Ex: Obtém os elementos da série 1 que não estão contidos na série 2\n",
    "ser1 = pd.Series([1, 2, 3, 4, 5]) \n",
    "ser2 = pd.Series([4, 5, 6, 7, 8])\n",
    "\n",
    "ser1[~ser1.isin(ser2.values)]  # Usando o ~ para trazer os valores diferentes, o isin busca os valores dentro de cada serie"
   ]
  },
  {
   "cell_type": "code",
   "execution_count": 16,
   "metadata": {},
   "outputs": [
    {
     "data": {
      "text/plain": [
       "0    6.0\n",
       "1    3.0\n",
       "2    7.0\n",
       "3    NaN\n",
       "4    6.0\n",
       "5    9.0\n",
       "6    2.0\n",
       "7    NaN\n",
       "8    7.0\n",
       "9    4.0\n",
       "dtype: float64"
      ]
     },
     "execution_count": 16,
     "metadata": {},
     "output_type": "execute_result"
    }
   ],
   "source": [
    "### Preenchimento de nulos com Pandas\n",
    "## Criando uma serie com valores e alguns desses valores sendo NaN\n",
    "\n",
    "np.random.seed(42)  ## Cria um array  na raiz da memoria\n",
    "serie = pd.Series(np.random.randint(10, size=10))  ## Criamos uma serie de 10 numeros aleatorios de 0 a 10\n",
    "serie.iloc[np.random.randint(10, size=3)] = np.nan  ## Usando o iloc para colocar 3 valores dentro da serie como NaN\n",
    "serie"
   ]
  },
  {
   "cell_type": "code",
   "execution_count": 17,
   "metadata": {},
   "outputs": [
    {
     "data": {
      "text/plain": [
       "0    6.0\n",
       "1    3.0\n",
       "2    7.0\n",
       "3    0.0\n",
       "4    6.0\n",
       "5    9.0\n",
       "6    2.0\n",
       "7    0.0\n",
       "8    7.0\n",
       "9    4.0\n",
       "dtype: float64"
      ]
     },
     "execution_count": 17,
     "metadata": {},
     "output_type": "execute_result"
    }
   ],
   "source": [
    "### Preenchimento com Fillna\n",
    "serie.fillna(0)  ## Usamos o fillna para mudar os valores NaN para o valor 0, todos os valores iram passar a ser NaN"
   ]
  },
  {
   "cell_type": "code",
   "execution_count": 20,
   "metadata": {},
   "outputs": [
    {
     "data": {
      "text/plain": [
       "0    6.0\n",
       "1    3.0\n",
       "2    7.0\n",
       "3    6.0\n",
       "4    6.0\n",
       "5    9.0\n",
       "6    2.0\n",
       "7    7.0\n",
       "8    7.0\n",
       "9    4.0\n",
       "dtype: float64"
      ]
     },
     "execution_count": 20,
     "metadata": {},
     "output_type": "execute_result"
    }
   ],
   "source": [
    "### Usando ffill e bfill para preenchimento\n",
    "serie.ffill()  ## Usando o ffill os numeros NaN seram preenchidos com os valores a frente no caso o indice 3 será o valore do indice 2 sendo 7\n",
    "serie.bfill()  ## Usando o bfill os numeros NaN seram preenchidos com os valores a atras no caso o indice 3 será o valore do indice 4 sendo 6"
   ]
  },
  {
   "cell_type": "code",
   "execution_count": 32,
   "metadata": {},
   "outputs": [
    {
     "data": {
      "text/plain": [
       "iso_code\n",
       "OWID_AFR    0.560736\n",
       "DZA         0.748000\n",
       "AGO         0.581000\n",
       "BEN         0.545000\n",
       "BWA         0.735000\n",
       "BFA         0.452000\n",
       "BDI         0.433000\n",
       "CMR         0.563000\n",
       "CPV         0.665000\n",
       "CAF         0.397000\n",
       "TCD         0.398000\n",
       "COM         0.554000\n",
       "COG         0.574000\n",
       "CIV         0.538000\n",
       "COD         0.480000\n",
       "DJI         0.524000\n",
       "EGY         0.707000\n",
       "GNQ         0.592000\n",
       "ERI         0.459000\n",
       "SWZ         0.611000\n",
       "ETH         0.485000\n",
       "GAB         0.703000\n",
       "GMB         0.496000\n",
       "GHA         0.611000\n",
       "GIN         0.477000\n",
       "GNB         0.480000\n",
       "KEN         0.601000\n",
       "LSO         0.527000\n",
       "LBR         0.480000\n",
       "LBY         0.724000\n",
       "MDG         0.528000\n",
       "MWI         0.483000\n",
       "MLI         0.434000\n",
       "MRT         0.546000\n",
       "MUS         0.804000\n",
       "MAR         0.686000\n",
       "MOZ         0.456000\n",
       "NAM         0.646000\n",
       "NER         0.394000\n",
       "NGA         0.539000\n",
       "RWA         0.543000\n",
       "SHN         0.560736\n",
       "STP         0.625000\n",
       "SEN         0.512000\n",
       "SYC         0.796000\n",
       "SLE         0.452000\n",
       "SOM         0.560736\n",
       "ZAF         0.709000\n",
       "SSD         0.433000\n",
       "SDN         0.510000\n",
       "TZA         0.529000\n",
       "TGO         0.515000\n",
       "TUN         0.740000\n",
       "UGA         0.544000\n",
       "ZMB         0.584000\n",
       "ZWE         0.571000\n",
       "Name: human_development_index, dtype: float64"
      ]
     },
     "execution_count": 32,
     "metadata": {},
     "output_type": "execute_result"
    }
   ],
   "source": [
    "#Ex: Abaixo carregamos os dados de índice de desenvolvimento humano para países Africanos. Você irá notar que há alguns valores nulos dentro dessa base. Preenche esses valores nulos com o valor médio da base.\n",
    "\n",
    "serie_owid = pd.read_csv(\n",
    "    \"https://raw.githubusercontent.com/owid/covid-19-data/master/public/data/latest/owid-covid-latest.csv\"\n",
    ").loc[\n",
    "    lambda f: (f[\"continent\"] == \"Africa\")\n",
    "    | (f[\"location\"] == \"Africa\")\n",
    "].set_index(\"iso_code\")[\"human_development_index\"]\n",
    "\n",
    "serie = serie_owid.fillna(np.mean(serie_owid))  ## Com o fillna para substituir os valores NaN pela media dos valores da serie\n",
    "serie"
   ]
  },
  {
   "cell_type": "code",
   "execution_count": 30,
   "metadata": {},
   "outputs": [],
   "source": []
  },
  {
   "cell_type": "code",
   "execution_count": null,
   "metadata": {},
   "outputs": [],
   "source": []
  },
  {
   "cell_type": "code",
   "execution_count": null,
   "metadata": {},
   "outputs": [],
   "source": []
  }
 ],
 "metadata": {
  "colab": {
   "collapsed_sections": [],
   "name": "Ciencia de dados 2022 - exercicios.ipynb",
   "provenance": []
  },
  "kernelspec": {
   "display_name": "Python 3 (ipykernel)",
   "language": "python",
   "name": "python3"
  },
  "language_info": {
   "codemirror_mode": {
    "name": "ipython",
    "version": 3
   },
   "file_extension": ".py",
   "mimetype": "text/x-python",
   "name": "python",
   "nbconvert_exporter": "python",
   "pygments_lexer": "ipython3",
   "version": "3.9.7"
  }
 },
 "nbformat": 4,
 "nbformat_minor": 4
}
