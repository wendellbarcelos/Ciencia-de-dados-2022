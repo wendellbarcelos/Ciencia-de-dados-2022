{
 "cells": [
  {
   "cell_type": "markdown",
   "metadata": {
    "id": "a94iHZYv0chl"
   },
   "source": [
    "Exercicios de Python Let's Code Basic"
   ]
  },
  {
   "cell_type": "code",
   "execution_count": null,
   "metadata": {
    "id": "w_mYZc2j0WSC"
   },
   "outputs": [],
   "source": [
    "## Faça um programa que peça um valor monetário e diminua-o em 15%. Seu programa \n",
    "## deve imprimir a mensagem “O novo valor é [valor]”.\n",
    "\n",
    "valor = float(input('Digite o valor: '))\n",
    "\n",
    "novo_val = valor * 0.15\n",
    "\n",
    "print(f'O novo valor é {novo_val:.2f}') "
   ]
  },
  {
   "cell_type": "code",
   "execution_count": null,
   "metadata": {
    "colab": {
     "base_uri": "https://localhost:8080/"
    },
    "id": "vapPLIirDZpN",
    "outputId": "c5aa70df-08da-459c-e8e2-9de0c0fcece6"
   },
   "outputs": [
    {
     "name": "stdout",
     "output_type": "stream",
     "text": [
      "Digite o valor da corrida: 14.0\n",
      "Aguarde o valor pode abaixar\n"
     ]
    }
   ],
   "source": [
    "#Criando um algoritmo usando if (simulação de corrida x onibus)\n",
    "\n",
    "valor_passagem =  4.30\n",
    "\n",
    "valor_corrida = float(input('Digite o valor da corrida: '))\n",
    "\n",
    "if valor_corrida <= valor_passagem * 3:\n",
    "  print('Pague a corrida')\n",
    "elif valor_corrida <= valor_passagem * 4:\n",
    "  print('Aguarde o valor pode abaixar')\n",
    "else:\n",
    "  print('Vai de onibus')"
   ]
  },
  {
   "cell_type": "code",
   "execution_count": null,
   "metadata": {
    "colab": {
     "base_uri": "https://localhost:8080/"
    },
    "id": "BXumjkQ2D376",
    "outputId": "93571a0c-2b85-4bbe-f9e6-420279c225ec"
   },
   "outputs": [
    {
     "name": "stdout",
     "output_type": "stream",
     "text": [
      "Digite um numero: 10\n",
      "0\n",
      "1\n",
      "2\n",
      "3\n",
      "4\n",
      "5\n",
      "6\n",
      "7\n",
      "8\n",
      "9\n"
     ]
    }
   ],
   "source": [
    "#Exe Contador\n",
    "contador = 0\n",
    "#Definindo o numero de repetição\n",
    "numero = int(input('Digite um numero: '))\n",
    "#Rodando a estrutura de repetição\n",
    "while contador < numero:\n",
    "  print(contador)\n",
    "  contador += 1"
   ]
  },
  {
   "cell_type": "code",
   "execution_count": null,
   "metadata": {
    "colab": {
     "base_uri": "https://localhost:8080/"
    },
    "id": "e1of3luQGPcb",
    "outputId": "fffa7dc2-beed-4526-f5e5-904a4154115e"
   },
   "outputs": [
    {
     "name": "stdout",
     "output_type": "stream",
     "text": [
      "Criar senha: 94563381\n",
      "Senha criada com sucesso\n"
     ]
    }
   ],
   "source": [
    "# Exe While (sistema de senhas)\n",
    "\n",
    "senha = input('Criar senha: ')\n",
    "print('Senha criada com sucesso')"
   ]
  },
  {
   "cell_type": "code",
   "execution_count": null,
   "metadata": {
    "colab": {
     "base_uri": "https://localhost:8080/"
    },
    "id": "z8xNW5ubIJxh",
    "outputId": "8de78539-7332-4ac5-bf1c-4d18a1bd23f0"
   },
   "outputs": [
    {
     "name": "stdout",
     "output_type": "stream",
     "text": [
      "Digite sua senha: wendell\n",
      "Senha invalida. Tente novamente958662\n",
      "Senha invalida. Tente novamente9456338\n",
      "Senha invalida. Tente novamente94563381\n",
      "Acesso permitido\n"
     ]
    }
   ],
   "source": [
    "dig_senha = input('Digite sua senha: ')\n",
    "\n",
    "while senha != dig_senha:\n",
    "    dig_senha = input('Senha invalida. Tente novamente: ')\n",
    "\n",
    "print('Acesso permitido')"
   ]
  },
  {
   "cell_type": "code",
   "execution_count": null,
   "metadata": {
    "id": "N4fh_7okKyk4"
   },
   "outputs": [],
   "source": [
    "## Sistema de cadastro\n",
    "## Cadastre os valores no banco de dados\n"
   ]
  },
  {
   "cell_type": "code",
   "execution_count": null,
   "metadata": {
    "colab": {
     "base_uri": "https://localhost:8080/"
    },
    "id": "SsQN0EN90iiw",
    "outputId": "e8952215-1b2d-44ec-e466-dcfd008d26da"
   },
   "outputs": [
    {
     "name": "stdout",
     "output_type": "stream",
     "text": [
      "Digite sua idade: 180\n",
      "Idade invalida\n",
      "Digite seu salário: 0\n",
      "Salário invalido\n",
      "Sexo M | F: a\n",
      "Sexo invalido\n",
      "Dados cadastro com sucesso\n"
     ]
    }
   ],
   "source": [
    "\"\"\"Faça um programa que leia a validade das informações:\n",
    "a. Idade: entre 0 e 150;\n",
    "b. Salário: maior que 0;\n",
    "c. Sexo: M, F ou Outro;\n",
    "O programa deve imprimir uma mensagem de erro para cada informação inválida.\"\"\"\n",
    "\n",
    "idade = int(input('Digite sua idade: '))\n",
    "\n",
    "if idade > 0 and idade < 100:\n",
    "    print('Idade cadastrada')\n",
    "else:\n",
    "    print('Idade invalida')\n",
    "\n",
    "salario = float(input('Digite seu salário: '))\n",
    "\n",
    "if salario > 0:\n",
    "    print('Salário cadastrado')\n",
    "else:\n",
    "    print('Salário invalido')\n",
    "\n",
    "sexo = input('Sexo M | F: ')\n",
    "\n",
    "if sexo != 'M' and sexo != 'F':\n",
    "    print('Sexo invalido')\n",
    "else:\n",
    "    print('Sexo cadastrado')\n",
    "\n",
    "print('Dados cadastro com sucesso')\n",
    "\n"
   ]
  },
  {
   "cell_type": "code",
   "execution_count": null,
   "metadata": {
    "id": "UvwYS_hLGvXf"
   },
   "outputs": [],
   "source": [
    "\"\"\"Vamos fazer um programa para verificar quem é o assassino de um crime.\n",
    "Para descobrir o assassino, a polícia faz um pequeno questionário com 5\n",
    "perguntas onde a resposta só pode ser sim ou não:\n",
    "\n",
    "a. Mora perto da vítima?\n",
    "b. Já trabalhou com a vítima?\n",
    "c. Telefonou para a vítima?\n",
    "d. Esteve no local do crime?\n",
    "e. Devia para a vítima?\n",
    "\n",
    "Cada resposta sim dá um ponto para o suspeito. A polícia considera que os\n",
    "suspeitos com 5 pontos são os assassinos, com 4 a 3 pontos são cúmplices e\n",
    "2 pontos são apenas suspeitos, necessitando outras investigações. Valores\n",
    "iguais ou abaixo de 1 são liberados.\"\"\"\n",
    "\n"
   ]
  },
  {
   "cell_type": "code",
   "execution_count": null,
   "metadata": {
    "id": "0_hw_DZLGvMy"
   },
   "outputs": [],
   "source": [
    "\"\"\"Faça um programa que imprima a tabuada do 9 (de 9*1 a 9*10) usando loops.\"\"\"\n",
    "\n"
   ]
  },
  {
   "cell_type": "code",
   "execution_count": null,
   "metadata": {
    "colab": {
     "base_uri": "https://localhost:8080/"
    },
    "id": "Me-yBd1kGu9q",
    "outputId": "5713460f-8e57-40e7-b36c-05ee52fc8b6c"
   },
   "outputs": [
    {
     "name": "stdout",
     "output_type": "stream",
     "text": [
      "Digite o valor do salario: 2310\n",
      "Digite o valor gasto mensal em média: 850\n",
      "Sua renda anual foi de R$27720.00 reais\n",
      "Seus gastos anual foi de R$10200.00 reais\n",
      "Seu lucro anual foi de R$17520.00 reais\n"
     ]
    }
   ],
   "source": [
    "\"\"\"\n",
    "salario_mensal = float(input('Digite o valor do salario: '))\n",
    "gastos_mensal = float(input('Digite o valor gasto mensal em média: '))\n",
    "\n",
    "tot_salario =  salario_mensal * 12\n",
    "tot_gastos = gastos_mensal * 12\n",
    "\n",
    "lucro = tot_salario - tot_gastos\n",
    "\n",
    "print(f'Sua renda anual foi de R${tot_salario:.2f} reais')\n",
    "print(f'Seus gastos anual foi de R${tot_gastos:.2f} reais')\n",
    "print(f'Seu lucro anual foi de R${lucro:.2f} reais')\n",
    "\"\"\""
   ]
  },
  {
   "cell_type": "code",
   "execution_count": null,
   "metadata": {
    "id": "a4Ud0oEg2G39"
   },
   "outputs": [],
   "source": [
    "\"\"\"Faça um Programa que peça as 4 notas bimestrais e mostre a média.\"\"\"\n"
   ]
  },
  {
   "cell_type": "code",
   "execution_count": null,
   "metadata": {
    "colab": {
     "base_uri": "https://localhost:8080/"
    },
    "id": "z0w0tocQeD55",
    "outputId": "274ae12c-1c52-44f4-cc55-5d97997b663d"
   },
   "outputs": [
    {
     "name": "stdout",
     "output_type": "stream",
     "text": [
      "Sigite seu nome: jose\n",
      "Digite sua idade: 20\n",
      "Tem sintomas do Covid: sim\n",
      "O paciênte jose pode esperar na sala comum\n"
     ]
    }
   ],
   "source": [
    "nome = input('Digite seu nome: ')\n",
    "idade = int(input('Digite sua idade: '))\n",
    "covid = input('Tem sintomas do Covid: ').upper()\n",
    "\n",
    "if idade >= 65:\n",
    "    print(f'O paciênte {nome} possui atendimento prioritário')\n",
    "elif covid == 'SIM':\n",
    "    print(f'O paciênte {nome} deve ser levado para a sala reservada')\n",
    "else:\n",
    "    print(f'O paciênte {nome} pode esperar na sala comum')"
   ]
  },
  {
   "cell_type": "code",
   "execution_count": null,
   "metadata": {
    "colab": {
     "background_save": true,
     "base_uri": "https://localhost:8080/"
    },
    "id": "vzyPb2S3Tke1",
    "outputId": "6c08947c-9660-4534-8bf6-ff127c42f3ac"
   },
   "outputs": [
    {
     "name": "stdout",
     "output_type": "stream",
     "text": [
      "Compre sua tinta na SUPER TINTAS\n",
      "\n"
     ]
    }
   ],
   "source": [
    "\"\"\"\n",
    "Faça um programa para uma loja de tintas.\n",
    "\n",
    "O programa deverá pedir  tamanho em metros quadrados da área a ser pintada.\n",
    "Considere que a cobertudra da tinta é de 1 litro para cada 3 metros quadrados\n",
    "e que a tinta é vendida em latas de 18 litros , que custam R$ 80,00.\n",
    "\n",
    "Informe ao usuário a quantidades de latas de tinta a serem compradas e o preço total.\n",
    "\"\"\"\n",
    "\n",
    "#********************SUPER TINTAS************************\n",
    "\n",
    "print('Compre sua tinta na SUPER TINTAS\\n')\n",
    "area = int(input('Digite a área a ser pintada: '))\n",
    "\n",
    "litro = area // 3\n",
    "if area % 3 > 0:\n",
    "    litro = litro + 1\n",
    "\n",
    "latas = litro // 18\n",
    "if litro % 18 > 0:\n",
    "    latas = latas + 1\n",
    "\n",
    "print(\"você precisara de\",latas,'latas')\n",
    "print('Valor:',latas*80)\n"
   ]
  },
  {
   "cell_type": "code",
   "execution_count": null,
   "metadata": {
    "colab": {
     "base_uri": "https://localhost:8080/"
    },
    "id": "rOE-3TGNrdEu",
    "outputId": "0cdccbad-94ef-4fac-8b0c-b91b818e3e0c"
   },
   "outputs": [
    {
     "name": "stdout",
     "output_type": "stream",
     "text": [
      "Digite um número: 90\n",
      "90\n",
      "91\n",
      "92\n",
      "93\n",
      "94\n",
      "95\n",
      "96\n",
      "97\n",
      "98\n",
      "99\n",
      "100\n"
     ]
    }
   ],
   "source": [
    "\"\"\"Contator\"\"\"\n",
    "\n",
    "numero = int(input('Digite um número: '))\n",
    "while numero <= 100:\n",
    "    print(numero)\n",
    "    numero += 1\n"
   ]
  },
  {
   "cell_type": "code",
   "execution_count": null,
   "metadata": {
    "colab": {
     "base_uri": "https://localhost:8080/"
    },
    "id": "aYQCU4EgwTGd",
    "outputId": "5be11a8d-c48b-4e5a-8adc-536a399b1578"
   },
   "outputs": [
    {
     "name": "stdout",
     "output_type": "stream",
     "text": [
      "Digite o numero da tabuada: 5\n",
      "5 x 1 = 5\n",
      "5 x 2 = 10\n",
      "5 x 3 = 15\n",
      "5 x 4 = 20\n",
      "5 x 5 = 25\n",
      "5 x 6 = 30\n",
      "5 x 7 = 35\n",
      "5 x 8 = 40\n",
      "5 x 9 = 45\n",
      "5 x 10 = 50\n"
     ]
    }
   ],
   "source": [
    "#Tabuada\n",
    "\n",
    "tabuada = int(input('Digite o numero da tabuada: '))\n",
    "\n",
    "for x in range(1,11,1):\n",
    "    print(f'{tabuada} x {x} = {tabuada*x}')"
   ]
  },
  {
   "cell_type": "code",
   "execution_count": null,
   "metadata": {
    "id": "FvJZFEiUO_HT"
   },
   "outputs": [],
   "source": [
    "import os #Biblioteca para uso do cls"
   ]
  },
  {
   "cell_type": "code",
   "execution_count": null,
   "metadata": {
    "colab": {
     "base_uri": "https://localhost:8080/"
    },
    "id": "lkl16B6ByJ5l",
    "outputId": "c0f80903-e812-41cd-de13-bd97db3eb158"
   },
   "outputs": [
    {
     "name": "stdout",
     "output_type": "stream",
     "text": [
      "Equipamento: Notebook Dell\n",
      "Valor: 3599.99\n",
      "Nº serial: 54668225\n",
      "Departamento: Informatica\n",
      "Digite S para continuar: n\n"
     ]
    }
   ],
   "source": [
    "#USO DE LISTA SISTEMA DE INVENTARIO\n",
    "\n",
    "#Cadastro no inventario\n",
    "\n",
    "inventario =[]\n",
    "resposta ='S'\n",
    "while resposta == 'S':\n",
    "    inventario.append(input('Equipamento: '))\n",
    "    inventario.append(float(input('Valor: ')))\n",
    "    inventario.append(int(input('Nº serial: ')))\n",
    "    inventario.append(input('Departamento: '))\n",
    "    resposta = input('Digite S para continuar: ').upper()\n",
    "    os.system('clear') or None\n"
   ]
  },
  {
   "cell_type": "code",
   "execution_count": null,
   "metadata": {
    "colab": {
     "base_uri": "https://localhost:8080/"
    },
    "id": "ut9skfJwa6ep",
    "outputId": "98ca961e-240a-4584-8924-49cc44aa8db7"
   },
   "outputs": [
    {
     "name": "stdout",
     "output_type": "stream",
     "text": [
      "Notebook Dell\n",
      "3599.99\n",
      "54668225\n",
      "Informatica\n"
     ]
    }
   ],
   "source": [
    "for x in inventario:\n",
    "    print(x)"
   ]
  },
  {
   "cell_type": "code",
   "execution_count": null,
   "metadata": {
    "colab": {
     "base_uri": "https://localhost:8080/"
    },
    "id": "hnliHzQ5NkmN",
    "outputId": "7cac1666-fdff-4a08-ed6d-a9e3e8c5dcc7"
   },
   "outputs": [
    {
     "name": "stdout",
     "output_type": "stream",
     "text": [
      "Digite o 1º número: 542\n",
      "Digite o 2º número: 8852\n",
      "O maior número é 8852\n"
     ]
    }
   ],
   "source": [
    "#1- Faça um Programa que peça dois números e imprima o maior deles.\n",
    "\n",
    "n1 = int(input('Digite o 1º número: '))\n",
    "n2 = int(input('Digite o 2º número: '))\n",
    "\n",
    "if n1 > n2:\n",
    "    print(f'O maior número é {n1}')\n",
    "else:\n",
    "    print(f'O maior número é {n2}')"
   ]
  },
  {
   "cell_type": "code",
   "execution_count": null,
   "metadata": {
    "colab": {
     "base_uri": "https://localhost:8080/"
    },
    "id": "7aJdJjCrBsPf",
    "outputId": "f8392ddd-3011-4f7c-e80b-571e269b1de1"
   },
   "outputs": [
    {
     "name": "stdout",
     "output_type": "stream",
     "text": [
      "Digite um numero: -44\n",
      "O numero -44 é negativo\n"
     ]
    }
   ],
   "source": [
    "#2- Faça um Programa que peça um valor e mostre na tela se o valor é positivo ou negativo.\n",
    "\n",
    "x = int(input('Digite um numero: '))\n",
    "\n",
    "if x > 0:\n",
    "    print(f'O numero {x} é positivo')\n",
    "else:\n",
    "    print(f'O numero {x} é negativo')"
   ]
  },
  {
   "cell_type": "code",
   "execution_count": null,
   "metadata": {
    "colab": {
     "base_uri": "https://localhost:8080/"
    },
    "id": "qgpT_JIEBvuT",
    "outputId": "0477ea0d-e063-4b7d-c5ec-768f1b64480d"
   },
   "outputs": [
    {
     "name": "stdout",
     "output_type": "stream",
     "text": [
      "Digite o sexo: e\n",
      "Sexo invalido\n"
     ]
    }
   ],
   "source": [
    "#3 Faça um Programa que verifique se uma letra digitada é \"F\" ou \"M\". \n",
    "#Conforme a letra escrever: F - Feminino, M - Masculino, Sexo Inválido.\n",
    "\n",
    "sexo = input('Digite o sexo: ').upper()\n",
    "if sexo == 'F':\n",
    "    print('Feminino')\n",
    "elif sexo == 'M':\n",
    "    print('Masculino')\n",
    "else:\n",
    "    print('Sexo invalido')"
   ]
  },
  {
   "cell_type": "code",
   "execution_count": null,
   "metadata": {
    "id": "_6IpGdWtB2B8"
   },
   "outputs": [],
   "source": [
    "#4 Faça um Programa que verifique se uma letra digitada é vogal ou consoante.\n"
   ]
  },
  {
   "cell_type": "code",
   "execution_count": null,
   "metadata": {
    "id": "7vXDKPPjB5GN"
   },
   "outputs": [],
   "source": [
    "\"\"\"5 Faça um programa para a leitura de duas notas parciais de um aluno. \n",
    "O programa deve calcular a média alcançada por aluno e apresentar:\n",
    "\n",
    "    A mensagem \"Aprovado\", se a média alcançada for maior ou igual a sete;\n",
    "    A mensagem \"Reprovado\", se a média for menor do que sete;\n",
    "    A mensagem \"Aprovado com Distinção\", se a média for igual a dez. \"\"\"\n",
    "\n",
    "nota1 = float(input('1º Nota: '))\n",
    "nota2 = float(input('2º Nota: '))\n",
    "\n",
    "media = (nota1 + nota2) / 2\n",
    "if media >= 7:\n",
    "    print(f'Aprovado, média {media}')\n",
    "elif media < 7:\n",
    "    print(f'Reprovado, média {media}')\n",
    "elif media == 10:\n",
    "    print(f'Aprovado com distinção, média {media}')"
   ]
  },
  {
   "cell_type": "code",
   "execution_count": null,
   "metadata": {
    "id": "cWDm6HUyB-r-"
   },
   "outputs": [],
   "source": [
    "#6 Faça um Programa que leia três números e mostre o maior deles. \n",
    "\n",
    "n1 = int(input('Digite o 1º número: '))\n",
    "n2 = int(input('Digite o 2º número: '))\n",
    "n3 = int(input('Digite o 3º número: '))\n",
    "\n",
    "if n1 > n2 and n1 > n3:\n",
    "    print(f'O maior número é {n1}')\n",
    "if n2 > n1 and n2 > n3:\n",
    "    print(f'O maior número é {n2}')\n",
    "else:\n",
    "    print(f'O maior número é {n3}') "
   ]
  },
  {
   "cell_type": "code",
   "execution_count": null,
   "metadata": {
    "id": "U2wLxVF9k2w0"
   },
   "outputs": [],
   "source": [
    "#7 Faça um Programa que leia três números e mostre o maior e o menor deles.\n",
    "n1 = int(input('Digite o 1º número: '))\n",
    "n2 = int(input('Digite o 2º número: '))\n",
    "n3 = int(input('Digite o 3º número: '))\n",
    "\n",
    "if n1 > n2 and n1 > n3:\n",
    "    print(f'O maior número é {n1}')\n",
    "if n2 > n1 and n2 > n3:\n",
    "    print(f'O maior número é {n2}')\n",
    "else:\n",
    "    print(f'O maior número é {n3}')\n",
    "\n",
    "if n1 < n2 and n1 < n3:\n",
    "    print(f'O menor número é {n1}')\n",
    "if n2 < n1 and n2 < n3:\n",
    "    print(f'O menor número é {n2}')\n",
    "else:\n",
    "    print(f'O menor número é {n3}')"
   ]
  },
  {
   "cell_type": "code",
   "execution_count": null,
   "metadata": {
    "id": "YbFS43fNmADx"
   },
   "outputs": [],
   "source": [
    "#8 Faça um programa que pergunte o preço de três produtos e informe qual produto você deve comprar, sabendo que a decisão é sempre pelo mais barato.\n",
    "prd1 = float(input('Digite o valor do 1º produto: '))\n",
    "prd2 = float(input('Digite o valor do 2º produto: '))\n",
    "prd3 = float(input('Digite o valor do 3º produto: '))\n",
    "\n",
    "if prd1 < prd2 and prd1 < prd3:\n",
    "    print(f'O valor mais barato do produto é {prd1}')\n",
    "if prd2 < prd1 and prd2 < prd3:\n",
    "    print(f'O valor mais barato do produto é {prd2}')\n",
    "else:\n",
    "    print(f'O valor mais barato do produto é {prd3}')"
   ]
  },
  {
   "cell_type": "code",
   "execution_count": null,
   "metadata": {
    "id": "JeDYxCjfmB0J"
   },
   "outputs": [],
   "source": [
    "#9 Faça um Programa que leia três números e mostre-os em ordem decrescente.\n"
   ]
  },
  {
   "cell_type": "code",
   "execution_count": null,
   "metadata": {
    "id": "ydb_giM-mG75"
   },
   "outputs": [],
   "source": [
    "#10 Faça um Programa que pergunte em que turno você estuda. Peça para digitar M-matutino ou V-Vespertino ou N- Noturno. Imprima a mensagem \"Bom Dia!\", \"Boa Tarde!\" ou \"Boa Noite!\" ou \"Valor Inválido!\", conforme o caso.\n",
    "\n",
    "turno = input('Digite seu turno (\"M\"-Matutino, \"V\"-Vespertino, \"N\"-Noturno); ').upper()\n",
    "\n",
    "if turno == 'M':\n",
    "        print('Bom Dia!')\n",
    "elif turno == 'V':\\\n",
    "        print('Boa Tarde!')\n",
    "elif turno == 'N': \\\n",
    "        print('Boa Noite')\n",
    "else:\n",
    "        print('Valor invalido')\n",
    "\n"
   ]
  },
  {
   "cell_type": "code",
   "execution_count": null,
   "metadata": {
    "id": "baH7b6GHupXr"
   },
   "outputs": [],
   "source": [
    "\n",
    "'''11 As Organizações Tabajara resolveram dar um aumento de salário aos seus colaboradores e lhe contraram para desenvolver o programa que calculará os reajustes.\n",
    "\n",
    "    Faça um programa que recebe o salário de um colaborador e o reajuste segundo o seguinte critério, baseado no salário atual:\n",
    "    salários até R$ 280,00 (incluindo) : aumento de 20%\n",
    "    salários entre R$ 280,00 e R$ 700,00 : aumento de 15%\n",
    "    salários entre R$ 700,00 e R$ 1500,00 : aumento de 10%\n",
    "    salários de R$ 1500,00 em diante : aumento de 5% Após o aumento ser realizado, informe na tela:\n",
    "    o salário antes do reajuste;\n",
    "    o percentual de aumento aplicado;\n",
    "    o valor do aumento;\n",
    "    o novo salário, após o aumento. '''"
   ]
  },
  {
   "cell_type": "markdown",
   "metadata": {
    "id": "RoAxZHLBkntN"
   },
   "source": [
    "#Curso Python Basico - Ignorancia Zero"
   ]
  },
  {
   "cell_type": "code",
   "execution_count": null,
   "metadata": {
    "colab": {
     "base_uri": "https://localhost:8080/"
    },
    "id": "YV5WfcLukmGD",
    "outputId": "3b2ddd46-e201-404c-ef4a-454859ce4611"
   },
   "outputs": [
    {
     "name": "stdout",
     "output_type": "stream",
     "text": [
      "18\n"
     ]
    }
   ],
   "source": [
    "#Ex - Organize os numero 2,3,4,5,10,12 para obter a saida 18 em uma unica operação:\n",
    "\n",
    "x = 12*3\n",
    "x = x+4\n",
    "x = x//10\n",
    "x = x*5\n",
    "x = x-2\n",
    "#print(x) - Resultado 18\n",
    "\n",
    "x = (5*((4+(12*3))//10))-2\n",
    "print(x) ## Resultado em uma unica operação"
   ]
  },
  {
   "cell_type": "code",
   "execution_count": null,
   "metadata": {
    "colab": {
     "base_uri": "https://localhost:8080/"
    },
    "id": "rlP5kfSmlnLQ",
    "outputId": "4239a7d7-666d-4958-8e44-4463a91bcc99"
   },
   "outputs": [
    {
     "name": "stdout",
     "output_type": "stream",
     "text": [
      "Qual a sua idade? 22\n",
      "Hora de beber!\n"
     ]
    }
   ],
   "source": [
    "# Cndição IF/ELSE\n",
    "\n",
    "idade = int(input('Qual a sua idade? '))\n",
    "\n",
    "if idade >= 18:\n",
    "    print('Hora de beber!')\n",
    "else:\n",
    "    print('Pra você somente Toddynho!')"
   ]
  },
  {
   "cell_type": "code",
   "execution_count": null,
   "metadata": {
    "id": "3XZpSAVZmLat"
   },
   "outputs": [],
   "source": [
    "# EX 3\n",
    "'''O programa deverá pedir o tamanho em metros quadrados da área a ser pintada. Considere que a cobertura da tinta é de 1 litro para cada\n",
    "6 metros quadrados e que a tinta é vendida em latas de 18 litros, que custam R$ 80,00 ou em galões de 4 litros, que custam R$ 25,00'''\n",
    "\n",
    "'''Informe o usuário as quantidades de tinta a serem compradas e os respectivos preços em 3 situações: comprar apenas latas de 18 litros,\n",
    "comprar apenas galões de 4 litros, misturar latas e galões de forma que o preço seja menor'''\n",
    "\n",
    "area = int(input(\"Insira o valor da área: \"))\n",
    "\n",
    "# Vamos calcular o numero de litros necessários para pintar a casa\n",
    "litros = area // 6\n",
    "if area % 6 > 0:\n",
    "    litros = litros + 1\n",
    "\n",
    "print(\"Litros necessários:\", litros, \"\\n\")\n",
    "\n",
    "print(\"1) comprar apenas latas de 18 litros\")\n",
    "latas = litros // 18\n",
    "if litros % 18 > 0:\n",
    "    latas = latas + 1\n",
    "\n",
    "print(\"Serão necessárias\", latas, \"latas\")\n",
    "print(\"Obteremos\", latas * 18, \"litros\")\n",
    "print(\"Total: R$\", latas * 80)\n",
    "\n",
    "print(\"\\n2)Comprar apenas galões de 4 litros\")\n",
    "galoes = litros//4\n",
    "if litros % 4 > 0:\n",
    "    galoes = galoes + 1\n",
    "\n",
    "print(\"Serão necessárias\", galoes, \"galoes\")\n",
    "print(\"Obteremos\", galoes * 4, \"litros\")\n",
    "print(\"Total: R$\", galoes * 25)\n",
    "\n",
    "# Vamos pensar, o preço total por litro pago nas latas é 80/18 ~ 4.44 R$/L\n",
    "# enquanto que para o gualão é 25/4 ~ 6.25 R$/L\n",
    "# portanto é sempre mais vantajoso comprar o máximo de latas possíveis\n",
    "# e o mínimo de galões, desde que o preço desses galoes não ultrapasse o preço\n",
    "# de uma lata, isto é, o numero de galoes seja menor ou igual a 3 (R$ 75)\n",
    "print(\"\\n3)Misturar latas e galões, de forma que o preço seja o menor.\")\n",
    "latas = litros // 18\n",
    "galoes = 0\n",
    "litros_restantes = litros % 18\n",
    "\n",
    "if litros_restantes <= 3 * 4:\n",
    "    # Ou seja o numero de galoes necessarios seja menor do que três\n",
    "    galoes = litros_restantes // 4\n",
    "    if litros_restantes % 4 > 0:\n",
    "        galoes += 1\n",
    "else:\n",
    "    latas += 1\n",
    "\n",
    "print(\"Serão necessárias\", latas, \"latas\")\n",
    "print(\"Serão necessárias\", galoes, \"galoes\")\n",
    "print(\"Obteremos\", latas * 18 + galoes * 4, \"litros\")\n",
    "print(\"Total: R$\", galoes * 25 + latas * 80)"
   ]
  },
  {
   "cell_type": "code",
   "execution_count": null,
   "metadata": {
    "colab": {
     "base_uri": "https://localhost:8080/"
    },
    "id": "Z91YTEgdj9hA",
    "outputId": "40605b23-4492-4979-f414-3f70679fb1ed"
   },
   "outputs": [
    {
     "name": "stdout",
     "output_type": "stream",
     "text": [
      "Digite 1º numero: -5\n",
      "Digite 2º numero: 3\n",
      "O maior número é o 3\n"
     ]
    }
   ],
   "source": [
    "#EX 3.1 Faça um Programa que peça dois números e imprima o maior deles. \n",
    "\n",
    "n1 = int(input('Digite 1º numero: '))\n",
    "n2 = int(input('Digite 2º numero: '))\n",
    "\n",
    "if n1 > n2:\n",
    "    print(f'O maior número é o {n1}')\n",
    "else:\n",
    "    print(f'O maior número é o {n2}')"
   ]
  },
  {
   "cell_type": "code",
   "execution_count": null,
   "metadata": {
    "colab": {
     "base_uri": "https://localhost:8080/"
    },
    "id": "d6EsQ-r1j9SA",
    "outputId": "7f97e805-8d11-4239-c13b-7b7966aeab28"
   },
   "outputs": [
    {
     "name": "stdout",
     "output_type": "stream",
     "text": [
      "Digite 1º numero: 20\n",
      "20 é positivo\n"
     ]
    }
   ],
   "source": [
    "#EX 3.2 Faça um Programa que peça um valor e mostre na tela se o valor é positivo ou negativo.\n",
    "\n",
    "p1 = int(input('Digite 1º numero: '))\n",
    "\n",
    "if p1 > 0:\n",
    "    print(f'{p1} é positivo')\n",
    "else:\n",
    "    print(f'{p1} é negativo')"
   ]
  },
  {
   "cell_type": "code",
   "execution_count": null,
   "metadata": {
    "colab": {
     "base_uri": "https://localhost:8080/"
    },
    "id": "fsqzsdK_eVds",
    "outputId": "6cb62d80-2ab1-43f1-a315-5807ea217d1d"
   },
   "outputs": [
    {
     "name": "stdout",
     "output_type": "stream",
     "text": [
      "Sexo (F) / (M):F\n",
      "Feminino\n"
     ]
    }
   ],
   "source": [
    "#EX 3.3 Faça um Programa que verifique se uma letra digitada é \"F\" ou \"M\". Conforme a letra escrever: F - Feminino, M - Masculino, Sexo Inválido.\n",
    "\n",
    "sexo = input('Sexo (F) / (M):')\n",
    "\n",
    "if sexo == 'F':\n",
    "    print('Feminino')\n",
    "elif sexo == 'M':\n",
    "    print('Masculino')\n",
    "else:\n",
    "    print('Sexo Invalido')"
   ]
  },
  {
   "cell_type": "code",
   "execution_count": null,
   "metadata": {
    "colab": {
     "base_uri": "https://localhost:8080/"
    },
    "id": "kAnlXKnaf4S-",
    "outputId": "d1059a04-60b4-47db-c7e4-5c22dfaba487"
   },
   "outputs": [
    {
     "name": "stdout",
     "output_type": "stream",
     "text": [
      "Digite uma letra vogal ou consoante: A\n",
      "Vogal\n"
     ]
    }
   ],
   "source": [
    "#EX3.4 Faça um Programa que verifique se uma letra digitada é vogal ou consoante. \n",
    "\n",
    "vogal = input('Digite uma letra vogal ou consoante: ')\n",
    "\n",
    "if vogal == 'a' or vogal == 'A':\n",
    "    print('Vogal')\n",
    "elif vogal == 'e' or vogal == 'E':\n",
    "    print('Vogal')\n",
    "elif vogal == 'i' or vogal == 'I':\n",
    "    print('Vogal')\n",
    "elif vogal == 'o' or vogal == 'O':\n",
    "    print('Vogal')\n",
    "elif vogal == 'u' or vogal == 'U':\n",
    "    print('Vogal')\n",
    "else:\n",
    "    print('Consoante')\n"
   ]
  },
  {
   "cell_type": "code",
   "execution_count": null,
   "metadata": {
    "colab": {
     "base_uri": "https://localhost:8080/"
    },
    "id": "F1ZDDgPQg7Qj",
    "outputId": "11894dd1-9c68-40ff-9f84-a2680bd75256"
   },
   "outputs": [
    {
     "name": "stdout",
     "output_type": "stream",
     "text": [
      "1ª Nota: 8\n",
      "2ª Nota: 2\n",
      "Media 5.0 - Reprovado\n"
     ]
    }
   ],
   "source": [
    "#EX3.5 Faça um programa para a leitura de duas notas parciais de um aluno. O programa deve calcular a média alcançada por aluno e apresentar:\n",
    "\n",
    "    #A mensagem \"Aprovado\", se a média alcançada for maior ou igual a sete;\n",
    "    #A mensagem \"Reprovado\", se a média for menor do que sete;\n",
    "    #A mensagem \"Aprovado com Distinção\", se a média for igual a dez. \n",
    "\n",
    "nota1 = int(input('1ª Nota: '))\n",
    "nota2 = int(input('2ª Nota: '))\n",
    "\n",
    "media = (nota1 + nota2)/2\n",
    "\n",
    "if media >= 10:\n",
    "    print(f'Media {media} - Aprovado com Distinção')\n",
    "elif media >= 7:\n",
    "    print(f'Media {media} - Aprovado')\n",
    "else:\n",
    "    print(f'Media {media} - Reprovado')\n"
   ]
  },
  {
   "cell_type": "code",
   "execution_count": null,
   "metadata": {
    "colab": {
     "base_uri": "https://localhost:8080/"
    },
    "id": "VtVStZ3Cim5Y",
    "outputId": "fad368e3-ff3d-4ef0-c673-c7c4d4d327b2"
   },
   "outputs": [
    {
     "name": "stdout",
     "output_type": "stream",
     "text": [
      "Digite 1º número: 5\n",
      "Digite 2º número: 4\n",
      "Digite 3º número: 15\n",
      "O maior número é 15\n"
     ]
    }
   ],
   "source": [
    "#EX3.6 Faça um Programa que leia três números e mostre o maior deles.\n",
    "\n",
    "nu1 = int(input('Digite 1º número: '))\n",
    "nu2 = int(input('Digite 2º número: '))\n",
    "nu3 = int(input('Digite 3º número: '))\n",
    "\n",
    "if nu1 > nu2 and nu1 > nu3:\n",
    "    print(f'O maior número é {nu1}')\n",
    "elif nu2 > nu1 and nu2 > nu3:\n",
    "    print(f'O maior número é {nu2}')\n",
    "else:\n",
    "    print(f'O maior número é {nu3}')"
   ]
  },
  {
   "cell_type": "code",
   "execution_count": null,
   "metadata": {
    "colab": {
     "base_uri": "https://localhost:8080/"
    },
    "id": "g8Cs2f-UlDI3",
    "outputId": "289fe69b-9692-452e-ce34-595d281de7ce"
   },
   "outputs": [
    {
     "name": "stdout",
     "output_type": "stream",
     "text": [
      "Digite 1º número: 8\n",
      "Digite 2º número: 4\n",
      "Digite 3º número: 2\n",
      "O maior número é 8\n",
      "O menor número é 2\n"
     ]
    }
   ],
   "source": [
    "#EX3.7 Faça um Programa que leia três números e mostre o maior e o menor deles.\n",
    "nu1 = int(input('Digite 1º número: '))\n",
    "nu2 = int(input('Digite 2º número: '))\n",
    "nu3 = int(input('Digite 3º número: '))\n",
    "\n",
    "if nu1 > nu2 and nu1 > nu3:\n",
    "    print(f'O maior número é {nu1}')\n",
    "elif nu2 > nu1 and nu2 > nu3:\n",
    "    print(f'O maior número é {nu2}')\n",
    "else:\n",
    "    print(f'O maior número é {nu3}')\n",
    "\n",
    "if nu1 < nu2 and nu1 < nu3:\n",
    "    print(f'O menor número é {nu1}')\n",
    "elif nu2 > nu1 and nu2 < nu3:\n",
    "    print(f'O menor número é {nu2}')\n",
    "else:\n",
    "    print(f'O menor número é {nu3}')"
   ]
  },
  {
   "cell_type": "code",
   "execution_count": null,
   "metadata": {
    "colab": {
     "base_uri": "https://localhost:8080/"
    },
    "id": "9_THXHVNoM6y",
    "outputId": "cc1ff1c7-db60-4a09-f995-070edc48ea4b"
   },
   "outputs": [
    {
     "name": "stdout",
     "output_type": "stream",
     "text": [
      "Digite o valor do produto: 19.50\n",
      "Digite o valor do produto: 144\n",
      "Digite o valor do produto: 84.80\n",
      "O valor do produto mais barato é 19.5\n"
     ]
    }
   ],
   "source": [
    "'''EX3.8 Faça um programa que pergunte o preço de três produtos e informe qual produto você deve comprar, \n",
    "   sabendo que a decisão é sempre pelo mais barato. '''\n",
    "\n",
    "prod1 = float(input('Digite o valor do produto: '))\n",
    "prod2 = float(input('Digite o valor do produto: '))\n",
    "prod3 = float(input('Digite o valor do produto: '))\n",
    "\n",
    "if prod1 < prod2 and prod1 < prod3:\n",
    "    print(f'O valor do produto mais barato é {prod1}')\n",
    "elif prod2 < prod1 and prod2 < prod3:\n",
    "    print(f'O valor do produto mais barato é {prod2}')\n",
    "else:\n",
    "    print(f'O valor do produto mais barato é {prod3}')\n"
   ]
  },
  {
   "cell_type": "code",
   "execution_count": null,
   "metadata": {
    "colab": {
     "base_uri": "https://localhost:8080/"
    },
    "id": "barpEd2zoU1W",
    "outputId": "bfd90d69-0b4f-4218-abbd-3f0b9d1cd90a"
   },
   "outputs": [
    {
     "name": "stdout",
     "output_type": "stream",
     "text": [
      "Digite o salário a ser ajustado: 190\n",
      "Salário: 190.00\n",
      "20% de aumento\n",
      "Valor do aumento: 38.00\n",
      "Novo Salário: 228.00\n"
     ]
    }
   ],
   "source": [
    "'''EX3.9 As Organizações Tabajara resolveram dar um aumento de salário aos seus colaboradores e lhe contraram para desenvolver o \n",
    "   programa que calculará os reajustes.\n",
    "\n",
    "    Faça um programa que recebe o salário de um colaborador e o reajuste segundo o seguinte critério, baseado no salário atual:\n",
    "    salários até R$ 280,00 (incluindo) : aumento de 20%\n",
    "    salários entre R$ 280,00 e R$ 700,00 : aumento de 15%\n",
    "    salários entre R$ 700,00 e R$ 1500,00 : aumento de 10%\n",
    "    salários de R$ 1500,00 em diante : aumento de 5% Após o aumento ser realizado, informe na tela:\n",
    "    o salário antes do reajuste;\n",
    "    o percentual de aumento aplicado;\n",
    "    o valor do aumento;\n",
    "    o novo salário, após o aumento. '''\n",
    "\n",
    "\n",
    "salario = float(input('Digite o salário a ser ajustado: '))\n",
    "\n",
    "if salario >= 1500:\n",
    "    aum = salario * 0.05\n",
    "    print(f'Salário: {salario:.2f}')\n",
    "    print('5% de aumento')\n",
    "    print(f'Valor do aumento: {aum:.2f}')\n",
    "    print(f'Novo Salário: {salario+aum:.2f}')\n",
    "elif salario > 700:\n",
    "    aum = salario * 0.10\n",
    "    print(f'Salário: {salario:.2f}')\n",
    "    print('10% de aumento')\n",
    "    print(f'Valor do aumento: {aum:.2f}')\n",
    "    print(f'Novo Salário: {salario+aum:.2f}')\n",
    "elif salario > 280:\n",
    "    aum = salario * 0.15\n",
    "    print(f'Salário: {salario:.2f}')\n",
    "    print('15% de aumento')\n",
    "    print(f'Valor do aumento: {aum:.2f}')\n",
    "    print(f'Novo Salário: {salario+aum:.2f}')\n",
    "else:\n",
    "    aum = salario * 0.20\n",
    "    print(f'Salário: {salario:.2f}')\n",
    "    print('20% de aumento')\n",
    "    print(f'Valor do aumento: {aum:.2f}')\n",
    "    print(f'Novo Salário: {salario+aum:.2f}')\n"
   ]
  },
  {
   "cell_type": "code",
   "execution_count": null,
   "metadata": {
    "colab": {
     "base_uri": "https://localhost:8080/"
    },
    "id": "JcX6LlIQoUjq",
    "outputId": "fc4fec7d-a392-480c-91e6-9958d9073f3d"
   },
   "outputs": [
    {
     "name": "stdout",
     "output_type": "stream",
     "text": [
      "Salário: 2300\n",
      "Salário Bruto: (10.45 * 220)     : R$ 2300.00\n",
      "(-) IR (10%)                     : R$ 230.00\n",
      "(-) INSS ( 10%)                  : R$ 230.00\n",
      "FGTS (11%)                       : R$ 253.00\n",
      "Total de descontos               : R$ 460.00\n",
      "Salário Liquido                  : R$ 1840.00\n"
     ]
    }
   ],
   "source": [
    "'''EX3.10 Faça um programa para o cálculo de uma folha de pagamento, sabendo que os descontos são do Imposto de Renda, \n",
    "que depende do salário bruto (conforme tabela abaixo) e 3% para o Sindicato e que o FGTS corresponde a 11% do Salário Bruto, \n",
    "mas não é descontado (é a empresa que deposita). O Salário Líquido corresponde ao Salário Bruto menos os descontos. \n",
    "O programa deverá pedir ao usuário o valor da sua hora e a quantidade de horas trabalhadas no mês.\n",
    "\n",
    "    Desconto do IR:\n",
    "    Salário Bruto até 900 (inclusive) - isento\n",
    "    Salário Bruto até 1500 (inclusive) - desconto de 5%\n",
    "    Salário Bruto até 2500 (inclusive) - desconto de 10%\n",
    "    Salário Bruto acima de 2500 - desconto de 20% Imprima na tela as informações, dispostas conforme o exemplo abaixo. \n",
    "    No exemplo o valor da hora é 5 e a quantidade de hora é 220. \n",
    "\n",
    "        Salário Bruto: (5 * 220)        : R$ 1100,00\n",
    "        (-) IR (5%)                     : R$   55,00  \n",
    "        (-) INSS ( 10%)                 : R$  110,00\n",
    "        FGTS (11%)                      : R$  121,00\n",
    "        Total de descontos              : R$  165,00\n",
    "        Salário Liquido                 : R$  935,00  '''\n",
    "\n",
    "#Calculo da folha de pagamento e imposto de renda\n",
    "\n",
    "sal = float(input('Salário: '))\n",
    "\n",
    "if sal > 2500:\n",
    "    valor_hora = sal / 220\n",
    "    desc_IR = sal * 0.20\n",
    "    desc_INSS = sal * 0.10\n",
    "    fgts = sal * 0.11\n",
    "    val_desc = desc_IR + desc_INSS\n",
    "    print(f'Salário Bruto: ({valor_hora:.2f} * 220)     : R$ {sal:.2f}')\n",
    "    print(f'(-) IR (20%)                     : R$ {desc_IR:.2f}')\n",
    "    print(f'(-) INSS ( 10%)                  : R$ {desc_INSS:.2f}')\n",
    "    print(f'FGTS (11%)                       : R$ {fgts:.2f}')\n",
    "    print(f'Total de descontos               : R$ {val_desc:.2f}')\n",
    "    print(f'Salário Liquido                  : R$ {sal - val_desc:.2f}')\n",
    "elif sal > 1500:\n",
    "    valor_hora = sal / 220\n",
    "    desc_IR = sal * 0.10\n",
    "    desc_INSS = sal * 0.10\n",
    "    fgts = sal * 0.11\n",
    "    val_desc = desc_IR + desc_INSS\n",
    "    print(f'Salário Bruto: ({valor_hora:.2f} * 220)     : R$ {sal:.2f}')\n",
    "    print(f'(-) IR (10%)                     : R$ {desc_IR:.2f}')\n",
    "    print(f'(-) INSS ( 10%)                  : R$ {desc_INSS:.2f}')\n",
    "    print(f'FGTS (11%)                       : R$ {fgts:.2f}')\n",
    "    print(f'Total de descontos               : R$ {val_desc:.2f}')\n",
    "    print(f'Salário Liquido                  : R$ {sal - val_desc:.2f}')\n",
    "elif sal > 900:\n",
    "    valor_hora = sal / 220\n",
    "    desc_IR = sal * 0.05\n",
    "    desc_INSS = sal * 0.10\n",
    "    fgts = sal * 0.11\n",
    "    val_desc = desc_IR + desc_INSS\n",
    "    print(f'Salário Bruto: ({valor_hora:.2f} * 220)     : R$ {sal:.2f}')\n",
    "    print(f'(-) IR (5%)                     : R$ {desc_IR:.2f}')\n",
    "    print(f'(-) INSS ( 10%)                  : R$ {desc_INSS:.2f}')\n",
    "    print(f'FGTS (11%)                       : R$ {fgts:.2f}')\n",
    "    print(f'Total de descontos               : R$ {val_desc:.2f}')\n",
    "    print(f'Salário Liquido                  : R$ {sal - val_desc:.2f}')\n",
    "else:\n",
    "    valor_hora = sal / 220\n",
    "    desc_INSS = sal * 0.10\n",
    "    fgts = sal * 0.11\n",
    "    val_desc = desc_IR + desc_INSS\n",
    "    print(f'Salário Bruto: ({valor_hora:.2f} * 220)     : R$ {sal:.2f}')\n",
    "    print(f'(-) IR: Isento')\n",
    "    print(f'(-) INSS ( 10%)                  : R$ {desc_INSS:.2f}')\n",
    "    print(f'FGTS (11%)                       : R$ {fgts:.2f}')\n",
    "    print(f'Total de descontos               : R$ {val_desc:.2f}')\n",
    "    print(f'Salário Liquido                  : R$ {sal - val_desc:.2f}')"
   ]
  },
  {
   "cell_type": "code",
   "execution_count": null,
   "metadata": {
    "id": "78bSKXZlrHZN"
   },
   "outputs": [],
   "source": [
    "'''EX3.11 Faça um programa que faça 5 perguntas para uma pessoa sobre um crime. As perguntas são:\n",
    "\n",
    "    \"Telefonou para a vítima?\"\n",
    "    \"Esteve no local do crime?\"\n",
    "    \"Mora perto da vítima?\"\n",
    "    \"Devia para a vítima?\"\n",
    "    \"Já trabalhou com a vítima?\" O programa deve no final emitir uma classificação sobre a participação da pessoa no crime. \n",
    "     Se a pessoa responder positivamente a 2 questões ela deve ser classificada como \"Suspeita\", entre 3 e 4 como\n",
    "    \"Cúmplice\" e 5 como \"Assassino\". Caso contrário, ele será classificado como \"Inocente\". '''\n",
    "\n"
   ]
  },
  {
   "cell_type": "code",
   "execution_count": null,
   "metadata": {
    "id": "TsahGp8DsBgS"
   },
   "outputs": [],
   "source": [
    "'''EX3.12 Um posto está vendendo combustíveis com a seguinte tabela de descontos:\n",
    "\n",
    "    Álcool:\n",
    "    até 20 litros, desconto de 3% por litro\n",
    "    acima de 20 litros, desconto de 5% por litro\n",
    "    Gasolina:\n",
    "    até 20 litros, desconto de 4% por litro\n",
    "    acima de 20 litros, desconto de 6% por litro Escreva um algoritmo que leia o número de litros vendidos, \n",
    "    o tipo de combustível (codificado da seguinte forma: A-álcool, G-gasolina), calcule e imprima o valor a ser \n",
    "    pago pelo cliente sabendo-se que o preço do litro da gasolina é R$ 2,50 o preço do litro do álcool é R$ 1,90. '''\n",
    "\n",
    "    "
   ]
  },
  {
   "cell_type": "code",
   "execution_count": null,
   "metadata": {
    "id": "PCro61yIsNlg"
   },
   "outputs": [],
   "source": [
    "'''EX3.13 Uma fruteira está vendendo frutas com a seguinte tabela de preços:\n",
    "\n",
    "                          Até 5 Kg           Acima de 5 Kg\n",
    "    Morango         R$ 2,50 por Kg          R$ 2,20 por Kg\n",
    "    Maçã            R$ 1,80 por Kg          R$ 1,50 por Kg\n",
    "\n",
    "    Se o cliente comprar mais de 8 Kg em frutas ou o valor total da compra ultrapassar R$ 25,00, \n",
    "    receberá ainda um desconto de 10% sobre este total. Escreva um algoritmo para ler a quantidade (em Kg) de morangos \n",
    "    e a quantidade (em Kg) de maças adquiridas e escreva o valor a ser pago pelo cliente. '''\n",
    "\n"
   ]
  },
  {
   "cell_type": "code",
   "execution_count": null,
   "metadata": {
    "id": "cmDJgkvbsYu-"
   },
   "outputs": [],
   "source": [
    "'''EX3.14 O Hipermercado Tabajara está com uma promoção de carnes que é imperdível. Confira:\n",
    "\n",
    "                          Até 5 Kg           Acima de 5 Kg\n",
    "    File Duplo      R$ 4,90 por Kg          R$ 5,80 por Kg\n",
    "    Alcatra         R$ 5,90 por Kg          R$ 6,80 por Kg\n",
    "    Picanha         R$ 6,90 por Kg          R$ 7,80 por Kg\n",
    "\n",
    "    Para atender a todos os clientes, cada cliente poderá levar apenas um dos tipos de carne da promoção, \n",
    "    porém não há limites para a quantidade de carne por cliente. Se compra for feita no cartão Tabajara o cliente receberá \n",
    "    ainda um desconto de 5% sobre o total da compra. Escreva um programa que peça o tipo e a quantidade de carne comprada pelo \n",
    "    usuário e gere um cupom fiscal, contendo as informações da compra: tipo e quantidade de carne, preço total, tipo de pagamento, \n",
    "    valor do desconto e valor a pagar. '''\n",
    "\n"
   ]
  },
  {
   "cell_type": "code",
   "execution_count": null,
   "metadata": {
    "colab": {
     "base_uri": "https://localhost:8080/"
    },
    "id": "QWhDAJFfbPB5",
    "outputId": "e9a64ceb-14ed-444c-b0f9-17ff27b7f005"
   },
   "outputs": [
    {
     "name": "stdout",
     "output_type": "stream",
     "text": [
      "0\n",
      "1\n",
      "2\n",
      "3\n",
      "4\n"
     ]
    }
   ],
   "source": [
    "# Bloco While\n",
    "\n",
    "a = 0\n",
    "while a < 5:\n",
    "    print(a)\n",
    "    a+= 1"
   ]
  },
  {
   "cell_type": "code",
   "execution_count": null,
   "metadata": {
    "id": "KYMnXEeziXIj"
   },
   "outputs": [],
   "source": [
    "''' #Ex 4\n",
    "Dizemos que um inteiro positivo n é perfeito se for igual à soma de seus divisores positivos diferentes de n.\n",
    "Exemplo: 6 é perfeito, pois 1+2+3=6.\n",
    "Dado um inteiro positivo n, verificar se n é perfeito'''\n",
    "\n",
    "n = int(input(\"Digite o valor de n: \"))\n",
    "\n",
    "cont, soma = 2, 1\n",
    "while cont < n:\n",
    "    if n % cont == 0:\n",
    "        soma += cont\n",
    "    cont += 1\n",
    "\n",
    "if soma == n:\n",
    "    print (\"O número\", n, \"é perfeito\")\n",
    "else:\n",
    "    print (\"O número\", n, \"não é perfeito\")\n"
   ]
  },
  {
   "cell_type": "code",
   "execution_count": null,
   "metadata": {
    "id": "x5sPQ0yIldzn"
   },
   "outputs": [],
   "source": [
    "#EX 4.1  https://wiki.python.org.br/EstruturaDeRepeticao"
   ]
  },
  {
   "cell_type": "code",
   "execution_count": null,
   "metadata": {
    "id": "IFB1oi-3lkoR"
   },
   "outputs": [],
   "source": [
    "#EX 4.2  https://wiki.python.org.br/EstruturaDeRepeticao"
   ]
  },
  {
   "cell_type": "code",
   "execution_count": null,
   "metadata": {
    "id": "0pJSwYiagY2R"
   },
   "outputs": [],
   "source": [
    "# Len - Usado para contar quantos caracteres tem na variavel mais usado em string e contrele de dados\n",
    "\n",
    "#nome = 'Wendell Barcelos Albano Pestana'\n",
    "#print(len(nome))"
   ]
  },
  {
   "cell_type": "code",
   "execution_count": null,
   "metadata": {
    "id": "lHq08MiDnxqx"
   },
   "outputs": [],
   "source": [
    "'''Sistema de cadastro de usuario'''\n",
    "\n",
    "print('Cadastrar Usuario\\n')\n",
    "usuario = input('Criar usuario: ')\n",
    "senha = input('Criar Senha: ')\n",
    "\n",
    "if len(senha) < 8:\n",
    "    print('Senha invalida minimo 8 caracteres')\n",
    "else:\n",
    "    print('\\nUsuario cadastrado com sucesso')"
   ]
  },
  {
   "cell_type": "code",
   "execution_count": null,
   "metadata": {
    "id": "8eSwLij-ggw2"
   },
   "outputs": [],
   "source": [
    "'''Teste de cadastro de usuario'''\n",
    "\n",
    "print('Entrar\\n')\n",
    "\n",
    "log_user = input('Usuario: ')\n",
    "log_senha = input('Senha: ')\n",
    "\n",
    "if log_user != usuario or log_senha != senha:\n",
    "    print('\\nUsuario ou senha invalido')\n",
    "else:\n",
    "    print('\\nLogin efetuado com sucesso')"
   ]
  },
  {
   "cell_type": "code",
   "execution_count": null,
   "metadata": {
    "id": "jtO_fk4rmhcj"
   },
   "outputs": [],
   "source": [
    "'''PASS E ELLIPS - São usadas quando necessario pular um bloco do codigo'''\n",
    "\n",
    "valor = True\n",
    "\n",
    "if valor:\n",
    "    #print('Olá') ## Caso seja necessario pular um bloco para voltar depois sem apagar usar o pass ou ellips\n",
    "    pass ## Usando o pass o codigo passar pela condição sem dar erro da msm forma usando ellips (...)\n",
    "    ...\n",
    "else:\n",
    "    print('Tchau')\n"
   ]
  },
  {
   "cell_type": "code",
   "execution_count": null,
   "metadata": {
    "colab": {
     "base_uri": "https://localhost:8080/"
    },
    "id": "n1yZc_Fq68hU",
    "outputId": "aa701c9f-f703-46f9-f609-81fa6e5afafb"
   },
   "outputs": [
    {
     "name": "stdout",
     "output_type": "stream",
     "text": [
      "d\n",
      "http:www.facebook.com/\n",
      "http:www.facebook.com\n",
      "www.facebook.com\n",
      "http:www.facebo\n",
      "ht:w.aeo\n"
     ]
    }
   ],
   "source": [
    "'''MANIPULAÇÃO DE STRINGS E FUNÇÕES BUILT-IN (len, abs, type, print, etc)'''\n",
    "\n",
    "# Indices de Strings\n",
    "\n",
    "#Positivo -  [0123456]  ## O valor se inicia com 0\n",
    "nome =       'Wendell'\n",
    "#Negativo - -[7654321]  ## Usa o valor negativo sendo que o contador inicia no ultimo valor sendo 0 neutro\n",
    "print(nome[3]) ## Vai ser exibido somente o valor que esta na posição 3\n",
    "\n",
    "# Fatiamento de Strings - Usamos o fatiamento para remover algum valor unico de uma string.\n",
    "\n",
    "url = 'http:www.facebook.com/' ## Para remover a barra na variavel url sera necessario usar o fatiamento\n",
    "print(url)  ## Vai ser exibido o valor inicial\n",
    "print(url[:-1])  ## Vai ser exibido a variavel porém sem o ultimo valor da string\n",
    "\n",
    "# Usando fatiamento com indices [inicio:fim:passo] - para exibir o ultimo indice é necessario valor +1\n",
    "\n",
    "print(url[5:21])  ## Vai ser exibido o valor da string iniciando pelo indice 5 e finalizando no 21 exibindo somente a url\n",
    "print(url[:15])  ## Será exibido do indice 1 até o final sendo indice 15\n",
    "print(url[:15:2]) ## Será exibido do indice 1 ate o indice 15 sendo o passo de 2 em 2\n",
    "\n",
    "# Ler sobre as funções built-in e seus tipos\n",
    "# https://docs.python.org/3/library/functions.html\n",
    "# https://docs.python.org/3/library/stdtypes.html"
   ]
  },
  {
   "cell_type": "code",
   "execution_count": null,
   "metadata": {
    "colab": {
     "base_uri": "https://localhost:8080/"
    },
    "id": "UhjN6j9k685a",
    "outputId": "75617bbd-0c06-458d-8163-dc7280b2d752"
   },
   "outputs": [
    {
     "name": "stdout",
     "output_type": "stream",
     "text": [
      "0\n",
      "1\n",
      "2\n",
      "3\n",
      "4\n",
      "5\n",
      "6\n",
      "7\n",
      "8\n",
      "9\n",
      "0\n",
      "1\n",
      "2\n",
      "4\n",
      "5\n",
      "6\n",
      "7\n",
      "8\n",
      "9\n",
      "0\n",
      "1\n",
      "2\n",
      "\n",
      "\n",
      "Digite o valor a multiplicar: 2\n",
      "2 x 0: 0\n",
      "2 x 1: 2\n",
      "2 x 2: 4\n",
      "2 x 3: 6\n",
      "2 x 4: 8\n",
      "2 x 5: 10\n",
      "2 x 6: 12\n",
      "2 x 7: 14\n",
      "2 x 8: 16\n",
      "2 x 9: 18\n",
      "2 x 10: 20\n"
     ]
    }
   ],
   "source": [
    "'''ESTRUTURA DE REPETIÇÃO WHILE - Usado para realizar ações ENQUANTO uma condição for verdadeira caso necessario o laço sendo infinito'''\n",
    "\n",
    "#while True:  ## Essa estrutura vai gerar um loop infinito\n",
    "    #nome = input('Qual é o seu nome? ')\n",
    "    #print(f'Olá {nome}')\n",
    "\n",
    "# Gerando um contador\n",
    "x = 0  ## X no momento será zero\n",
    "while x < 10:  ## Enquanto x for menor que 10 ele continua executando o codigo\n",
    "    print(x)\n",
    "    x = x + 1  ## Dada a expressões x soma o valor de +1 deixando de ser zero\n",
    "\n",
    "# Usando o CONTINUE\n",
    "x = 0  ## X no momento será zero\n",
    "while x < 10:  ## Enquanto x for menor que 10 ele continua executando o codigo\n",
    "    if x == 3:  ## Se x for igual a 3 \n",
    "        x = x + 1  ## Soma mais 1 em x \n",
    "        continue  ## O uso do continue vai pular o valor da condição acima deixando 3 de fora do resultado\n",
    "    print(x)\n",
    "    x = x + 1\n",
    "\n",
    "# Usando o BREAK\n",
    "x = 0  ## X no momento será zero\n",
    "while x < 10:  ## Enquanto x for menor que 10 ele continua executando o codigo\n",
    "    if x == 3:  ## Se x for igual a 3 \n",
    "        x = x + 1  ## Soma mais 1 em x \n",
    "        break  ## O uso do break ele finaliza o laço \n",
    "    print(x)\n",
    "    x = x + 1\n",
    "\n",
    "print('\\n')\n",
    "\n",
    "## Calculadora de multiplicação\n",
    "\n",
    "x = int(input('Digite o valor a multiplicar: '))\n",
    "y = 0  ## Usando acumuladores\n",
    "z = 0  ## Usando acumuladores\n",
    "\n",
    "while y <= 10:\n",
    "    print(f'{x} x {y}: {z}')\n",
    "    y += 1  ## Usando acumuladores\n",
    "    z = x * y\n",
    "\n",
    "\n",
    "\n",
    "\n",
    "\n"
   ]
  },
  {
   "cell_type": "code",
   "execution_count": null,
   "metadata": {
    "colab": {
     "base_uri": "https://localhost:8080/"
    },
    "id": "5TwGAWRTrdEr",
    "outputId": "c34b887c-5212-45da-90ad-3a0be160d9bf"
   },
   "outputs": [
    {
     "name": "stdout",
     "output_type": "stream",
     "text": [
      "DARIA TUDO QUE SEI PELA METADE DO QUE IGNORO\n"
     ]
    }
   ],
   "source": [
    "'''ITERANDO SOBRE INDICES COM ESTRUTURA WHILE'''\n",
    "\n",
    "frase = 'Daria tudo que sei pela metade do que ignoro'  ## Elemento iteravel que tem iteração por indice\n",
    "tamanho_frase = len(frase)  ## Usando o len para pegar a quantidade de indices dentro da string\n",
    "contador = 0\n",
    "\n",
    "#while contador < tamanho_frase:  ## O laço vai pegar o contador e exibi-lo pela quantidade de indices\n",
    "#    print(frase[contador], contador) ## O contador vai pegar cada indice da frase e exibir ao lado o valor do contador apresentando cada valor em seu indice\n",
    "#    contador += 1\n",
    "\n",
    "\n",
    "# Usando condições \n",
    "nova_string = '' ## Vamos adicionar valores a essa nova string\n",
    "\n",
    "while contador < tamanho_frase:\n",
    "    letra = frase[contador] ## A variavel assume cada indice da string\n",
    "    print(nova_string)\n",
    "    nova_string += letra ## Adiciona o valor na nova string usando cada valor pela variavel letra\n",
    "    contador += 1\n",
    "\n",
    "while contador < tamanho_frase:\n",
    "    letra = frase[contador] ## A variavel assume cada indice da string\n",
    "    if letra == 'e':  ## Se a letra for igual a 'e' inicia a condição\n",
    "        nova_string += 'E' ## A string vai receber o valor alterado de 'e' para 'E'\n",
    "    else:\n",
    "        nova_string += letra\n",
    "    contador += 1\n",
    "\n",
    "while contador < tamanho_frase:\n",
    "    letra = frase[contador] ## A variavel assume cada indice da string\n",
    "    nova_string += letra.upper() ## O uso do UPPER converte o valor de cada letra para maiusculo \n",
    "    contador += 1\n",
    "\n",
    "print(nova_string)"
   ]
  },
  {
   "cell_type": "code",
   "execution_count": null,
   "metadata": {
    "colab": {
     "base_uri": "https://localhost:8080/"
    },
    "id": "XiGMSTEjReWm",
    "outputId": "d4d1e7fc-680f-4923-9139-9f2311b8ef7d"
   },
   "outputs": [
    {
     "name": "stdout",
     "output_type": "stream",
     "text": [
      "P\n",
      "Y\n",
      "T\n",
      "H\n",
      "O\n",
      "N\n",
      "0 P\n",
      "1 y\n",
      "2 t\n",
      "3 h\n",
      "4 o\n",
      "5 n\n",
      "0\n",
      "1\n",
      "2\n",
      "3\n",
      "4\n",
      "5\n",
      "6\n",
      "7\n",
      "8\n",
      "9\n"
     ]
    }
   ],
   "source": [
    "'''ESTRUTURA DE REPETIÇÃO FOR'''\n",
    "\n",
    "# O uso do FOR é bem mais pratico e simples que o WHILE\n",
    "\n",
    "texto = 'Python'\n",
    "\n",
    "for i in texto:  ## Para cada indice no texto a condição será exibida \n",
    "    print(i.upper()) ## Usando com o UPPER\n",
    "\n",
    "# Usando o contador para verificar o indice\n",
    "\n",
    "for n, i in enumerate(texto): ## Usando o ENUMERATE ele retorna um contado baseando-se no indice da variavel\n",
    "    print(n, i) ## Exibe o valor e o indice\n",
    "\n",
    "# Usando função RANGE\n",
    "\n",
    "for n in range(10): ## (inicio, fim, passo)\n",
    "    print(n)"
   ]
  },
  {
   "cell_type": "code",
   "execution_count": 26,
   "metadata": {
    "colab": {
     "base_uri": "https://localhost:8080/"
    },
    "id": "XZKqjsVjReJU",
    "outputId": "25ff72f0-5947-4679-8e52-a41b0a77986a"
   },
   "outputs": [
    {
     "name": "stdout",
     "output_type": "stream",
     "text": [
      "Chupeta\n",
      "['Espanador', 'Chupeta', 'Almofada', 'Cereja', 'Trepadeira']\n",
      "['13', '20', '65', '96', '71', '46', '67', '74', '60', '67', '41', '75', '44', '26']\n",
      "['13', '20', '65', '96', '71', '46', '67', '74', '60', '67', '41', '75', '44', '26', 25]\n",
      "['banana', '13', '20', '65', '96', '71', '46', '67', '74', '60', '67', '41', '75', '44', '26', 25]\n",
      "['13', '20', '65', '96', '71', '46', '67', '74', '60', '67', '41', '75', '44', '26', 25]\n",
      "['13', '20', '65', '96', '71', '46', '67', '74', '60', '67', '41', '75', '44', '26']\n",
      "['Arroz', 'Cebola', 'Espanador', 'Van', 'Chupeta', 'Forte', 'Almofada', 'Fervura', 'Cereja', 'Sete', 'Trepadeira', 'Agricultor']\n",
      "[]\n",
      "13\n",
      "96\n",
      "range(0, 100, 6)\n",
      "[0, 6, 12, 18, 24, 30, 36, 42, 48, 54, 60, 66, 72, 78, 84, 90, 96]\n"
     ]
    }
   ],
   "source": [
    "'''LISTA - Usado para armazenamento de dados na qual tem interação com os indices sendo diferente de strings ou variaveis'''\n",
    "\n",
    "#Indice   0    1    2    3    4\n",
    "lista = ['Espanador','Van','Chupeta','Forte','Almofada','Fervura','Cereja','Sete','Trepadeira','Agricultor'] ## Uma variavel recebe um quantidade de valores de forma separada contato os indices de forma iteravel\n",
    "\n",
    "print(lista[2]) ## Exibirá somente o valor que estiver alocado no indice 2\n",
    "print(lista[0::2])  ## Usando Fatiamento de lista acessando pelos indices [ínicio:fim:passo]\n",
    "\n",
    "# append, insert, Del, pop, clear, extend, min, max - Todos pode ser usado o fatiamento\n",
    "\n",
    "lista2 = [ '13','20','65','96','71','46','67','74','60','67','41','75','44','26']\n",
    "\n",
    "## APPEND - Insere um valor ao fim da lista\n",
    "print(lista2) ## Exibirá os valores contidos na lista2 \n",
    "lista2.append(25)  ## O append insere um valor no fim da lista \n",
    "print(lista2) ## I´ra exibir os valores após inser o valor com o append\n",
    "\n",
    "##INSERT - Insere um valor no indice desejado\n",
    "lista2.insert(0, 'banana') ## Inseriu o valor banana no indice 0 da lista\n",
    "print(lista2)\n",
    "\n",
    "##DEL - Deleta um valor específico da lista a partir do indice desejado\n",
    "del(lista2[0]) ## Deleta o valor no indice 0\n",
    "print(lista2)\n",
    "\n",
    "##POP - Deleta o ultimo valor da lista\n",
    "lista2.pop() ## O POP deleta o ultimo valor inserido na lista\n",
    "print(lista2)\n",
    "\n",
    "##EXTEND - Usado para unificar varias listas\n",
    "lista3 = ['Arroz', 'Cebola']\n",
    "lista3.extend(lista)\n",
    "print(lista3)\n",
    "\n",
    "##CLEAR - Limpa todos os valores da lista\n",
    "lista3.clear() ## O Clear vai apagar todos os valores da lista3\n",
    "print(lista3)\n",
    "\n",
    "##MIN - Retorna o valor minimo da lista\n",
    "print(min(lista2))\n",
    "\n",
    "##MAX - Retorna o maior valor da lista\n",
    "print(max(lista2))\n",
    "\n",
    "##RANGE/LIST - Pode ser  usado a função range associado com a funçao list para gerar elementos de uma lista numerica.\n",
    "lista4 = range(0,100,6) ## Usando o fatieamento para criar a lista\n",
    "print(lista4) ## Será exibido a o range apenas sem ter os elementos na lista para isso é simples\n",
    "lista4 = list(range(0,100,6)) ## Usando a função list sera gerado uma lista a partir da função range\n",
    "print(lista4)\n"
   ]
  },
  {
   "cell_type": "code",
   "execution_count": null,
   "metadata": {
    "id": "lDpe2pUkyzVI"
   },
   "outputs": [],
   "source": [
    "'''JOGO DA FORCA'''\n",
    "\n",
    "palavra = 'papagaio'\n",
    "letras_dig = []\n",
    "chances = 3\n",
    "\n",
    "while True:\n",
    "    if chances <= 0:\n",
    "        print('Você perdeu!!!')\n",
    "        break\n",
    "\n",
    "    letra = input('Digite uma letra: ')\n",
    "\n",
    "    if len(letra) > 1:\n",
    "        print('Ahhh esta errado, uma letra de cada vez!!!')\n",
    "        continue\n",
    "    \n",
    "    letras_dig.append(letra)\n",
    "\n",
    "    if letra in palavra:\n",
    "        print(f'UHHUUU!!! A letra {letra}, existe na palavra secreta!!!')\n",
    "    else:\n",
    "        print(f'Poxaaa!!! A letra {letra}, existe não palavra secreta!!!')\n",
    "        letras_dig.pop()\n",
    "    \n",
    "    palavra_temporaria = ''\n",
    "    for letra_secreta in palavra:\n",
    "        if letra_secreta in letras_dig:\n",
    "            palavra_temporaria += letra_secreta\n",
    "        else:\n",
    "            palavra_temporaria += '*'\n",
    "\n",
    "    if palavra_temporaria == palavra:\n",
    "        print(f'Que legal, VOC~E GANHOU!!! A palavra era {palavra_temporaria}.')\n",
    "        break\n",
    "    else:\n",
    "        print(f'A palavra secreta está assim: {palavra_temporaria}')\n",
    "\n",
    "    if letra not in palavra:\n",
    "        chances -= 1\n",
    "\n",
    "    print(f'Você ainda tem {chances} chances')\n",
    "    print()\n",
    "    \n"
   ]
  },
  {
   "cell_type": "code",
   "execution_count": 56,
   "metadata": {
    "colab": {
     "base_uri": "https://localhost:8080/"
    },
    "id": "B2YLb1RgFN-G",
    "outputId": "052ba16f-230a-46ac-de60-401357f40dc1"
   },
   "outputs": [
    {
     "name": "stdout",
     "output_type": "stream",
     "text": [
      "Digite a letra a verificar: o\n"
     ]
    }
   ],
   "source": [
    "'''FOR/ELSE - O uso do ELSE é somente em casos especiais'''\n",
    "\n",
    "variavel = ['Marcos', 'Luiz', 'Pedro', 'Maria', 'Lucia']\n",
    "## Varificando pelo laço for se à palavras iniciando por alguma condição\n",
    "\n",
    "letra_verificar = input('Digite a letra a verificar: ')\n",
    "\n",
    "for valor in variavel: ## Cria um laço para verificação\n",
    "    if valor.lower().startswith(letra_verificar): ## Função verificar se o palavra inicia com a letra sendo minuscula ou maiuscula\n",
    "        print(f'Existe uma palavra que começa com {letra_verificar}: {valor}')\n",
    "    continue"
   ]
  },
  {
   "cell_type": "code",
   "execution_count": null,
   "metadata": {
    "id": "RH6IfYNpJdvu"
   },
   "outputs": [],
   "source": [
    "'''SPLIT, JOIN, ENUMERATE'''\n",
    "\n"
   ]
  },
  {
   "cell_type": "markdown",
   "metadata": {
    "id": "9QJqyFGvXuQl"
   },
   "source": [
    "Faça um programa que leia um número indeterminado de valores, correspondentes a notas, encerrando a entrada de dados quando for informado um valor igual a -1 (que não deve ser armazenado).\n",
    "\n",
    "Após esta entrada de dados, faça:\n",
    "\n",
    "    1. Mostre a quantidade de valores que foram lidos;\n",
    "    2. Exiba todos os valores na ordem em que foram informados;\n",
    "    3. Exiba todos os valores na ordem inversa à que foram informados;\n",
    "    4. Calcule e mostre a soma dos valores;\n",
    "    5. Calcule e mostre a média dos valores;\n",
    "    6. Calcule e mostre a quantidade de valores acima da média calculada;\n",
    "    7. Calcule e mostre a quantidade de valores abaixo de sete;\n",
    "    8. Encerre o programa com uma mensagem;\n",
    "\n",
    "\n"
   ]
  },
  {
   "cell_type": "code",
   "execution_count": null,
   "metadata": {
    "id": "reEY6vvpReAI"
   },
   "outputs": [],
   "source": []
  },
  {
   "cell_type": "code",
   "execution_count": null,
   "metadata": {
    "id": "HurbtqHpRdz4"
   },
   "outputs": [],
   "source": []
  },
  {
   "cell_type": "code",
   "execution_count": null,
   "metadata": {
    "id": "aTsNpIb-RdYZ"
   },
   "outputs": [],
   "source": []
  }
 ],
 "metadata": {
  "colab": {
   "collapsed_sections": [],
   "name": "Ciencia de dados 2022 - exercicios.ipynb",
   "provenance": []
  },
  "kernelspec": {
   "display_name": "Python 3 (ipykernel)",
   "language": "python",
   "name": "python3"
  },
  "language_info": {
   "codemirror_mode": {
    "name": "ipython",
    "version": 3
   },
   "file_extension": ".py",
   "mimetype": "text/x-python",
   "name": "python",
   "nbconvert_exporter": "python",
   "pygments_lexer": "ipython3",
   "version": "3.9.7"
  }
 },
 "nbformat": 4,
 "nbformat_minor": 1
}
