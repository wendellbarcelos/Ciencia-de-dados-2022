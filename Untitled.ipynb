{
 "cells": [
  {
   "cell_type": "code",
   "execution_count": null,
   "id": "164a8e7b",
   "metadata": {},
   "outputs": [],
   "source": [
    "'''TUPLAS'''\n",
    "# Tuplas são utilizadas para armazenamento de dados assim como as listas com uma diferença as tuplas\n",
    "# são objetos imutaveis que não mudam seus valores. EX\n",
    "\n",
    "tupla = (1, 2, 3, 4, 'banana')\n",
    "print(tupla)\n",
    "\n",
    "# Sendo um valor imutavel não tem funções built-in para uso nas tuplas, mais uma tupla pode se tornar uma lista\n",
    "\n",
    "lista = list(tupla)\n",
    "\n",
    "print(lista)\n",
    "\n",
    "# As tuplas aceitam fatiamentos,criação de lista dentro delas e outros mesmo sendo imutavel.\n",
    "\n",
    "print(tupla[2])  # Seleção por indice\n",
    "print(tupla[::-1])  # Fatiamento\n",
    "\n"
   ]
  },
  {
   "cell_type": "code",
   "execution_count": 19,
   "id": "89d1fa99",
   "metadata": {},
   "outputs": [
    {
     "name": "stdout",
     "output_type": "stream",
     "text": [
      "dict_keys(['nome', 'sobrenome', 'idade'])\n",
      "True\n",
      "dict_values(['Wendell', 'Barcelos', 30])\n",
      "dict_items([('nome', 'Wendell'), ('sobrenome', 'Barcelos'), ('idade', 30)])\n"
     ]
    }
   ],
   "source": [
    "'''DICIONARIOS'''\n",
    "# Os dicionarios são utilizados para armazena dados imutaveis porem a diferença é que eles nao alocam objetos e sim valores e sua forma é baseada em keys no caso chave e valor. EX\n",
    "\n",
    "dicionario = {'nome':'Wendell', 'sobrenome':'Barcelos', 'idade':30}\n",
    "# Os dicionarios sao perfeitos para base de dados e tem a função keys como metodo para auxiliar no retorno.\n",
    "\n",
    "print(dicionario.keys())  # Retorna os valores das chaves \n",
    "print('nome' in dicionario.keys())  # A função retorna verdadeiro para a chave 'nome'\n",
    "\n",
    "# Assim como Keys também tem os Values que retorna o valor de cada item\n",
    "print(dicionario.values())\n",
    "\n",
    "# Assim como Keys também tem os Items que retorna a chave e o valor separando por seus indices\n",
    "print(dicionario.items())\n"
   ]
  },
  {
   "cell_type": "code",
   "execution_count": 22,
   "id": "891133b7",
   "metadata": {},
   "outputs": [
    {
     "name": "stdout",
     "output_type": "stream",
     "text": [
      "Deseja adicionar um novo contato(add) ou parar a execução(stop)add\n",
      "Digite o nome do contato: wendell\n",
      "Digite o telefone do contato: 21973631170\n",
      "Digite o endereço do contato: Rua da Usina\n",
      "Digite o Email do contato: Wendell@gmail\n",
      "Deseja adicionar um novo contato(add) ou parar a execução(stop)stop\n",
      "A G E N D A\n",
      "\n",
      "Nome:  Wendell\n",
      "Telefone:  21973631170\n",
      "Endereço:  Rua da Usina\n",
      "Email:  Wendell@gmail\n",
      "\n"
     ]
    }
   ],
   "source": [
    "'''EX. Escreva um programa que receba quantas entradas o usuario deseja e depois crie um novo contato para\n",
    "cada entrada (Nome, Telefone, Endereço e Email), e por fim imprima em ordem alfabetica a agenda de contatos'''\n",
    "\n",
    "nomes = []\n",
    "agenda = {}\n",
    "\n",
    "while True:\n",
    "    ordem = input('Deseja adicionar um novo contato(add) ou parar a execução(stop)').lower()\n",
    "\n",
    "    if not ordem.isalpha():\n",
    "        print(\"Digite apenas letras!\")\n",
    "        \n",
    "    elif ordem.startswith('a'):\n",
    "        contato = {}\n",
    "\n",
    "\n",
    "        nome = input('Digite o nome do contato: ')\n",
    "        if not nome[0].isupper():\n",
    "            nome = nome[0].upper() + nome[1:]\n",
    "\n",
    "        nomes.append(nome)\n",
    "\n",
    "        tel = input('Digite o telefone do contato: ')\n",
    "        contato['Telefone'] = tel\n",
    "\n",
    "        end = input('Digite o endereço do contato: ')\n",
    "        contato['Endereço'] = end\n",
    "\n",
    "        email = input('Digite o Email do contato: ')\n",
    "        contato['Email'] = email\n",
    "\n",
    "        agenda[nome] = contato\n",
    "        \n",
    "    elif ordem.startswith('s'):\n",
    "        break\n",
    "\n",
    "print()\n",
    "print('A G E N D A\\n')\n",
    "nomes.sort()\n",
    "for nome in nomes:\n",
    "    print('Nome: ', nome)\n",
    "    print('Telefone: ', agenda[nome]['Telefone'])\n",
    "    print('Endereço: ', agenda[nome]['Endereço'])\n",
    "    print('Email: ', agenda[nome]['Email'])\n",
    "    print()\n",
    "\n",
    "\n",
    "\n",
    "\n",
    "\n"
   ]
  },
  {
   "cell_type": "code",
   "execution_count": 29,
   "id": "38d6052a",
   "metadata": {},
   "outputs": [
    {
     "name": "stdout",
     "output_type": "stream",
     "text": [
      "{1, 2}\n",
      "{3}\n",
      "True\n",
      "{1, 2, 3, 4, 5, 6}\n"
     ]
    }
   ],
   "source": [
    "\"\"\"SETS - Um conjunto de dados que não retorna os valores repetidos\"\"\"\n",
    "\n",
    "conj1 = {1, 2, 3}\n",
    "conj2 = {3, 4, 5}\n",
    "conj3 = {1, 2, 3, 4, 5}\n",
    "\n",
    "print(conj1 - conj2)\n",
    "print(conj1.intersection(conj2))  #Retorna a interceção dos dois conjuntos sendo o valor 3\n",
    "print(conj3.issuperset(conj2))\n",
    "\n",
    "# Dica: para retornar valores sem numeros repetidos é ideal o uso do SET, convertendo lista\n",
    "\n",
    "lista = [1,1,2,3,2,5,4,5,6,5,6,3,4]\n",
    "print(set(lista))  #O exibirá um set em ordem somente com os valores unicos"
   ]
  },
  {
   "cell_type": "code",
   "execution_count": 32,
   "id": "a35a9779",
   "metadata": {},
   "outputs": [
    {
     "data": {
      "text/plain": [
       "5.0"
      ]
     },
     "execution_count": 32,
     "metadata": {},
     "output_type": "execute_result"
    }
   ],
   "source": [
    "'''MODULOS - São as bibliotecas utilizadas em Python'''\n",
    "\n",
    "import math  #Importando o modulo de matematica\n",
    "math.pi  #Retornando o valor de Pi\n",
    "\n",
    "# Além disso podemos importar funções especificas de cada modulo utilizando a sintaxe do from\n",
    "from math import sqrt  #A importação pode ser de varias funções ao msm tempo\n",
    "sqrt(25)"
   ]
  },
  {
   "cell_type": "code",
   "execution_count": null,
   "id": "dfae19d6",
   "metadata": {},
   "outputs": [],
   "source": []
  },
  {
   "cell_type": "code",
   "execution_count": null,
   "id": "5392d7ce",
   "metadata": {},
   "outputs": [],
   "source": []
  },
  {
   "cell_type": "code",
   "execution_count": null,
   "id": "9e87bc18",
   "metadata": {},
   "outputs": [],
   "source": []
  },
  {
   "cell_type": "code",
   "execution_count": null,
   "id": "dda9d3a7",
   "metadata": {},
   "outputs": [],
   "source": []
  },
  {
   "cell_type": "code",
   "execution_count": null,
   "id": "30e839bb",
   "metadata": {},
   "outputs": [],
   "source": []
  }
 ],
 "metadata": {
  "kernelspec": {
   "display_name": "Python 3 (ipykernel)",
   "language": "python",
   "name": "python3"
  },
  "language_info": {
   "codemirror_mode": {
    "name": "ipython",
    "version": 3
   },
   "file_extension": ".py",
   "mimetype": "text/x-python",
   "name": "python",
   "nbconvert_exporter": "python",
   "pygments_lexer": "ipython3",
   "version": "3.9.7"
  }
 },
 "nbformat": 4,
 "nbformat_minor": 5
}
